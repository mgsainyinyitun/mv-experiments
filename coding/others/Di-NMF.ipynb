{
 "cells": [
  {
   "cell_type": "code",
   "execution_count": 1,
   "id": "5542d455",
   "metadata": {},
   "outputs": [],
   "source": [
    "# import \n",
    "import pandas as pd;\n",
    "import numpy as np;"
   ]
  },
  {
   "cell_type": "code",
   "execution_count": 5,
   "id": "73332d61",
   "metadata": {},
   "outputs": [
    {
     "name": "stdout",
     "output_type": "stream",
     "text": [
      "(1474, 512)\n",
      "(1474, 928)\n"
     ]
    },
    {
     "data": {
      "text/html": [
       "<div>\n",
       "<style scoped>\n",
       "    .dataframe tbody tr th:only-of-type {\n",
       "        vertical-align: middle;\n",
       "    }\n",
       "\n",
       "    .dataframe tbody tr th {\n",
       "        vertical-align: top;\n",
       "    }\n",
       "\n",
       "    .dataframe thead th {\n",
       "        text-align: right;\n",
       "    }\n",
       "</style>\n",
       "<table border=\"1\" class=\"dataframe\">\n",
       "  <thead>\n",
       "    <tr style=\"text-align: right;\">\n",
       "      <th></th>\n",
       "      <th>0</th>\n",
       "      <th>1</th>\n",
       "      <th>2</th>\n",
       "      <th>3</th>\n",
       "      <th>4</th>\n",
       "      <th>5</th>\n",
       "      <th>6</th>\n",
       "      <th>7</th>\n",
       "      <th>8</th>\n",
       "      <th>9</th>\n",
       "      <th>...</th>\n",
       "      <th>502</th>\n",
       "      <th>503</th>\n",
       "      <th>504</th>\n",
       "      <th>505</th>\n",
       "      <th>506</th>\n",
       "      <th>507</th>\n",
       "      <th>508</th>\n",
       "      <th>509</th>\n",
       "      <th>510</th>\n",
       "      <th>511</th>\n",
       "    </tr>\n",
       "  </thead>\n",
       "  <tbody>\n",
       "    <tr>\n",
       "      <th>0</th>\n",
       "      <td>0.149860</td>\n",
       "      <td>0.049631</td>\n",
       "      <td>0.049833</td>\n",
       "      <td>0.030009</td>\n",
       "      <td>0.166100</td>\n",
       "      <td>0.045195</td>\n",
       "      <td>0.052351</td>\n",
       "      <td>0.032841</td>\n",
       "      <td>0.072760</td>\n",
       "      <td>0.067054</td>\n",
       "      <td>...</td>\n",
       "      <td>0.045340</td>\n",
       "      <td>0.038174</td>\n",
       "      <td>0.068873</td>\n",
       "      <td>0.088719</td>\n",
       "      <td>0.060006</td>\n",
       "      <td>0.046778</td>\n",
       "      <td>0.024452</td>\n",
       "      <td>0.050038</td>\n",
       "      <td>0.096785</td>\n",
       "      <td>0.070728</td>\n",
       "    </tr>\n",
       "    <tr>\n",
       "      <th>1</th>\n",
       "      <td>0.168870</td>\n",
       "      <td>0.082086</td>\n",
       "      <td>0.167050</td>\n",
       "      <td>0.109790</td>\n",
       "      <td>0.113190</td>\n",
       "      <td>0.045916</td>\n",
       "      <td>0.050687</td>\n",
       "      <td>0.031878</td>\n",
       "      <td>0.207420</td>\n",
       "      <td>0.102760</td>\n",
       "      <td>...</td>\n",
       "      <td>0.118360</td>\n",
       "      <td>0.075107</td>\n",
       "      <td>0.081991</td>\n",
       "      <td>0.046442</td>\n",
       "      <td>0.163500</td>\n",
       "      <td>0.110060</td>\n",
       "      <td>0.112140</td>\n",
       "      <td>0.085244</td>\n",
       "      <td>0.079044</td>\n",
       "      <td>0.051326</td>\n",
       "    </tr>\n",
       "    <tr>\n",
       "      <th>2</th>\n",
       "      <td>0.031449</td>\n",
       "      <td>0.038602</td>\n",
       "      <td>0.040515</td>\n",
       "      <td>0.064938</td>\n",
       "      <td>0.024486</td>\n",
       "      <td>0.064542</td>\n",
       "      <td>0.038623</td>\n",
       "      <td>0.055522</td>\n",
       "      <td>0.035708</td>\n",
       "      <td>0.034724</td>\n",
       "      <td>...</td>\n",
       "      <td>0.040049</td>\n",
       "      <td>0.055716</td>\n",
       "      <td>0.054746</td>\n",
       "      <td>0.068624</td>\n",
       "      <td>0.043013</td>\n",
       "      <td>0.089594</td>\n",
       "      <td>0.009888</td>\n",
       "      <td>0.060689</td>\n",
       "      <td>0.055650</td>\n",
       "      <td>0.049560</td>\n",
       "    </tr>\n",
       "    <tr>\n",
       "      <th>3</th>\n",
       "      <td>0.062685</td>\n",
       "      <td>0.069544</td>\n",
       "      <td>0.061907</td>\n",
       "      <td>0.038404</td>\n",
       "      <td>0.052422</td>\n",
       "      <td>0.041499</td>\n",
       "      <td>0.053826</td>\n",
       "      <td>0.048148</td>\n",
       "      <td>0.034058</td>\n",
       "      <td>0.040677</td>\n",
       "      <td>...</td>\n",
       "      <td>0.085608</td>\n",
       "      <td>0.071643</td>\n",
       "      <td>0.119500</td>\n",
       "      <td>0.058825</td>\n",
       "      <td>0.082927</td>\n",
       "      <td>0.062791</td>\n",
       "      <td>0.048369</td>\n",
       "      <td>0.044633</td>\n",
       "      <td>0.069152</td>\n",
       "      <td>0.102740</td>\n",
       "    </tr>\n",
       "    <tr>\n",
       "      <th>4</th>\n",
       "      <td>0.062920</td>\n",
       "      <td>0.034458</td>\n",
       "      <td>0.015966</td>\n",
       "      <td>0.022567</td>\n",
       "      <td>0.127380</td>\n",
       "      <td>0.098888</td>\n",
       "      <td>0.062020</td>\n",
       "      <td>0.031535</td>\n",
       "      <td>0.049430</td>\n",
       "      <td>0.058208</td>\n",
       "      <td>...</td>\n",
       "      <td>0.029204</td>\n",
       "      <td>0.038763</td>\n",
       "      <td>0.047977</td>\n",
       "      <td>0.071451</td>\n",
       "      <td>0.072366</td>\n",
       "      <td>0.055249</td>\n",
       "      <td>0.028656</td>\n",
       "      <td>0.041247</td>\n",
       "      <td>0.110050</td>\n",
       "      <td>0.054509</td>\n",
       "    </tr>\n",
       "  </tbody>\n",
       "</table>\n",
       "<p>5 rows × 512 columns</p>\n",
       "</div>"
      ],
      "text/plain": [
       "        0         1         2         3         4         5         6    \\\n",
       "0  0.149860  0.049631  0.049833  0.030009  0.166100  0.045195  0.052351   \n",
       "1  0.168870  0.082086  0.167050  0.109790  0.113190  0.045916  0.050687   \n",
       "2  0.031449  0.038602  0.040515  0.064938  0.024486  0.064542  0.038623   \n",
       "3  0.062685  0.069544  0.061907  0.038404  0.052422  0.041499  0.053826   \n",
       "4  0.062920  0.034458  0.015966  0.022567  0.127380  0.098888  0.062020   \n",
       "\n",
       "        7         8         9    ...       502       503       504       505  \\\n",
       "0  0.032841  0.072760  0.067054  ...  0.045340  0.038174  0.068873  0.088719   \n",
       "1  0.031878  0.207420  0.102760  ...  0.118360  0.075107  0.081991  0.046442   \n",
       "2  0.055522  0.035708  0.034724  ...  0.040049  0.055716  0.054746  0.068624   \n",
       "3  0.048148  0.034058  0.040677  ...  0.085608  0.071643  0.119500  0.058825   \n",
       "4  0.031535  0.049430  0.058208  ...  0.029204  0.038763  0.047977  0.071451   \n",
       "\n",
       "        506       507       508       509       510       511  \n",
       "0  0.060006  0.046778  0.024452  0.050038  0.096785  0.070728  \n",
       "1  0.163500  0.110060  0.112140  0.085244  0.079044  0.051326  \n",
       "2  0.043013  0.089594  0.009888  0.060689  0.055650  0.049560  \n",
       "3  0.082927  0.062791  0.048369  0.044633  0.069152  0.102740  \n",
       "4  0.072366  0.055249  0.028656  0.041247  0.110050  0.054509  \n",
       "\n",
       "[5 rows x 512 columns]"
      ]
     },
     "execution_count": 5,
     "metadata": {},
     "output_type": "execute_result"
    }
   ],
   "source": [
    "# Datasets\n",
    "X1 = pd.read_csv('../datasets/complete-data/Caltech/GISTFeature.csv',header=None);\n",
    "X2 = pd.read_csv('../datasets/complete-data/Caltech/LBPFeature.csv',header=None);\n",
    "print(X1.shape) # (1474, 512)\n",
    "print(X2.shape) # (1474,928)\n",
    "X1.head()"
   ]
  },
  {
   "cell_type": "code",
   "execution_count": 54,
   "id": "5e94f161",
   "metadata": {},
   "outputs": [],
   "source": [
    "# Normalize\n",
    "from sklearn.preprocessing import Normalizer\n",
    "transformer = Normalizer();\n",
    "Xn1 = transformer.transform(X1).T\n",
    "Xn2 = transformer.transform(X2).T"
   ]
  },
  {
   "cell_type": "code",
   "execution_count": 55,
   "id": "5fd6f566",
   "metadata": {},
   "outputs": [],
   "source": [
    "np.random.seed(123)\n",
    "import numpy.matlib\n",
    "Ht = np.matlib.rand(V[0].shape)"
   ]
  },
  {
   "cell_type": "code",
   "execution_count": 56,
   "id": "32d868e3",
   "metadata": {},
   "outputs": [],
   "source": [
    "V = [Xn1,Xn2];"
   ]
  },
  {
   "cell_type": "code",
   "execution_count": 68,
   "id": "1cf6f452",
   "metadata": {},
   "outputs": [
    {
     "data": {
      "text/plain": [
       "(512, 1474)"
      ]
     },
     "execution_count": 68,
     "metadata": {},
     "output_type": "execute_result"
    }
   ],
   "source": [
    "V[0].shape  # 10x 1474\n",
    "# H => 10 x 1474\n",
    "# w => 1474 x 10\n"
   ]
  },
  {
   "cell_type": "code",
   "execution_count": null,
   "id": "87356bd7",
   "metadata": {},
   "outputs": [],
   "source": [
    "# 512 x 1474 => (512 x 10) x (10 x 1474)\n",
    "#      X     =>   W      x   H"
   ]
  },
  {
   "cell_type": "code",
   "execution_count": 182,
   "id": "042eb340",
   "metadata": {},
   "outputs": [],
   "source": [
    "# random H1,H2, W1,W2 # k = 5\n",
    "H=[]\n",
    "W=[]\n",
    "for i in range(len(V)):\n",
    "    sh = V[i].shape\n",
    "    Wt = np.matlib.rand(sh[0],10)\n",
    "    Ht = np.matlib.rand(sh[1],10).T\n",
    "    W.append(Wt);\n",
    "    H.append(Ht);\n",
    "    "
   ]
  },
  {
   "cell_type": "code",
   "execution_count": 170,
   "id": "bfc75f9e",
   "metadata": {},
   "outputs": [
    {
     "name": "stdout",
     "output_type": "stream",
     "text": [
      "(512, 10)\n",
      "(10, 1474)\n"
     ]
    }
   ],
   "source": [
    "print(W[0].shape)\n",
    "print(H[0].shape)"
   ]
  },
  {
   "cell_type": "code",
   "execution_count": 8,
   "id": "ebcb4a85",
   "metadata": {},
   "outputs": [],
   "source": [
    "# update H\n",
    "# 1474 x something\n",
    "\n",
    "# W = (512 x 10)\n",
    "# X = (512 x 1474)\n",
    "# HF = (10 x 1474)\n",
    "# H = list [10 x 1470][10 x 1470]\n",
    "# view =  0\n",
    "\n",
    "# up => (10 x 512 )(512 x 1474) => (10 x 1474)\n",
    "# mid => (10  x 14704 )\n",
    "# other => (10 x 512)(512x 10)(10 x 1470) => (10 x 1474)\n",
    "# mid + other > (10 x 1470)\n",
    "# final > (10 x 1470)\n",
    "\n",
    "\n",
    "def h_coefficient_matrix(W,X,HF,alpha,beta,H,view_no):\n",
    "    # Upper calculation\n",
    "    up= 2*(W.T)*X # 512 x 1474 * 1474 x 512 => 512 x 512\n",
    "    # for middle loop\n",
    "    mid_H=0;\n",
    "    for i in range(len(H)): # [H0, H1]\n",
    "        if(i == view_no):\n",
    "            continue;\n",
    "        mid_H = mid_H + H[i];\n",
    "    mid_H = alpha*mid_H;\n",
    "    down = (2*W.T*(W)*HF)+2*beta*HF+mid_H; # H => previous H\n",
    "    final = up/down;\n",
    "    return final;"
   ]
  },
  {
   "cell_type": "code",
   "execution_count": 9,
   "id": "e9755e2a",
   "metadata": {},
   "outputs": [],
   "source": [
    "# W = (512 x 10)\n",
    "# X = (512 x 1474)\n",
    "# HF = (10 x 1474)\n",
    "# H = list [10 x 1470][10 x 1470]\n",
    "# view =  0\n",
    "\n",
    "# up => 512x1474 ) (1474 x 10 ) => 512 x 10\n",
    "# dow => 512 x 10 )( 10x1474 ) (1474 x 10) => 512 x 10\n",
    "\n",
    "def w_cofficient_matrix(X,H,W):\n",
    "    up = X * (H.T);\n",
    "    down = W * H * (H.T)\n",
    "    final = up/down\n",
    "    return final;\n",
    "    \n",
    "    "
   ]
  },
  {
   "cell_type": "code",
   "execution_count": 10,
   "id": "f6a0c0b5",
   "metadata": {},
   "outputs": [
    {
     "data": {
      "text/plain": [
       "0.5"
      ]
     },
     "execution_count": 10,
     "metadata": {},
     "output_type": "execute_result"
    }
   ],
   "source": [
    "from sklearn.metrics.pairwise import euclidean_distances\n",
    "x = np.array([[1,2],[3,4.5]])\n",
    "y = np.array([[1,2.1],[3,4]])\n",
    "d = euclidean_distances(x,y)\n",
    "di = [];\n",
    "for i in range(2):\n",
    "    di.append(d[i][i])\n",
    "di\n",
    "max(di)"
   ]
  },
  {
   "cell_type": "code",
   "execution_count": 124,
   "id": "ce50907f",
   "metadata": {},
   "outputs": [
    {
     "data": {
      "text/plain": [
       "512"
      ]
     },
     "execution_count": 124,
     "metadata": {},
     "output_type": "execute_result"
    }
   ],
   "source": [
    "a = V[0].shape\n",
    "a[0]"
   ]
  },
  {
   "cell_type": "code",
   "execution_count": 164,
   "id": "80abe69c",
   "metadata": {},
   "outputs": [
    {
     "data": {
      "text/plain": [
       "(10, 1474)"
      ]
     },
     "execution_count": 164,
     "metadata": {},
     "output_type": "execute_result"
    }
   ],
   "source": [
    "np.multiply(H[0],H[1]).shape"
   ]
  },
  {
   "cell_type": "code",
   "execution_count": 4,
   "id": "aaeaf092",
   "metadata": {},
   "outputs": [],
   "source": [
    "# W = (512 x 10)\n",
    "# X = (512 x 1474)\n",
    "# HF = (10 x 1474)\n",
    "\n",
    "def findError(X,W,H):\n",
    "    loop = X.shape\n",
    "    loop = loop[1];\n",
    "    sumz = 0;\n",
    "    L =W*H ; # 512 x 10 10x 1474 => 512 x 1474\n",
    "    L = L.T;\n",
    "    X = X.T;\n",
    "    error = euclidean_distances(X,L);\n",
    "    DI= [];\n",
    "    for i in range(loop):\n",
    "        DI.append(error[i][i])\n",
    "        \n",
    "    return max(DI),np.average(DI);"
   ]
  },
  {
   "cell_type": "code",
   "execution_count": 184,
   "id": "506261af",
   "metadata": {},
   "outputs": [
    {
     "name": "stdout",
     "output_type": "stream",
     "text": [
      "End of View  0\n",
      "Error:: of Iteration 1 =>  Maximum Error:  0.751517807097332  &&& Average Error: 0.35438022162617594\n",
      "Error:: of Iteration 2 =>  Maximum Error:  0.6979994206838757  &&& Average Error: 0.33770054822138745\n",
      "Error:: of Iteration 3 =>  Maximum Error:  0.6939661073771007  &&& Average Error: 0.3355179157595168\n",
      "Error:: of Iteration 4 =>  Maximum Error:  0.6899264035419238  &&& Average Error: 0.3333945430288152\n",
      "Error:: of Iteration 5 =>  Maximum Error:  0.6849025416893237  &&& Average Error: 0.3310956330389493\n",
      "Error:: of Iteration 6 =>  Maximum Error:  0.6784549063826059  &&& Average Error: 0.3284326542644478\n",
      "Error:: of Iteration 7 =>  Maximum Error:  0.6701242122794869  &&& Average Error: 0.3251911503218026\n",
      "Error:: of Iteration 8 =>  Maximum Error:  0.6594635979756991  &&& Average Error: 0.32113802383597395\n",
      "Error:: of Iteration 9 =>  Maximum Error:  0.6461736408030081  &&& Average Error: 0.3160565964373361\n",
      "Error:: of Iteration 10 =>  Maximum Error:  0.6303215231479009  &&& Average Error: 0.3098163582403696\n",
      "Error:: of Iteration 11 =>  Maximum Error:  0.6125680725017186  &&& Average Error: 0.3024673304764751\n",
      "Error:: of Iteration 12 =>  Maximum Error:  0.5942191193313292  &&& Average Error: 0.2943133894288655\n",
      "Error:: of Iteration 13 =>  Maximum Error:  0.5849528157425272  &&& Average Error: 0.28589380976563933\n",
      "Error:: of Iteration 14 =>  Maximum Error:  0.5800664553392184  &&& Average Error: 0.277839097497683\n",
      "Error:: of Iteration 15 =>  Maximum Error:  0.5769992452272316  &&& Average Error: 0.2706664528305178\n",
      "Error:: of Iteration 16 =>  Maximum Error:  0.575420192780181  &&& Average Error: 0.26464172732558094\n",
      "Error:: of Iteration 17 =>  Maximum Error:  0.5748854892748644  &&& Average Error: 0.2597761706166415\n",
      "Error:: of Iteration 18 =>  Maximum Error:  0.5749886353176773  &&& Average Error: 0.25591720498024234\n",
      "Error:: of Iteration 19 =>  Maximum Error:  0.5754212273722437  &&& Average Error: 0.25285139087336805\n",
      "Error:: of Iteration 20 =>  Maximum Error:  0.5759735415758548  &&& Average Error: 0.25037209115672177\n",
      "Error:: of Iteration 21 =>  Maximum Error:  0.5765125434739382  &&& Average Error: 0.2483083509159309\n",
      "Error:: of Iteration 22 =>  Maximum Error:  0.5769581187996979  &&& Average Error: 0.24652982529297424\n",
      "Error:: of Iteration 23 =>  Maximum Error:  0.5772643266004217  &&& Average Error: 0.24494159691992373\n",
      "Error:: of Iteration 24 =>  Maximum Error:  0.5774063037133443  &&& Average Error: 0.24347664001879243\n",
      "Error:: of Iteration 25 =>  Maximum Error:  0.5773717231563681  &&& Average Error: 0.24208906303288477\n",
      "Error:: of Iteration 26 =>  Maximum Error:  0.5771555464345645  &&& Average Error: 0.2407488998046057\n",
      "Error:: of Iteration 27 =>  Maximum Error:  0.576757019169704  &&& Average Error: 0.23943828419293495\n",
      "Error:: of Iteration 28 =>  Maximum Error:  0.5761781049655647  &&& Average Error: 0.238148587386418\n",
      "Error:: of Iteration 29 =>  Maximum Error:  0.5754227647548029  &&& Average Error: 0.23687812092341914\n",
      "Error:: of Iteration 30 =>  Maximum Error:  0.5744966608486898  &&& Average Error: 0.2356301329241471\n",
      "Error:: of Iteration 31 =>  Maximum Error:  0.5734070031199366  &&& Average Error: 0.23441097069209862\n",
      "Error:: of Iteration 32 =>  Maximum Error:  0.5721623679050013  &&& Average Error: 0.23322840695460093\n",
      "Error:: of Iteration 33 =>  Maximum Error:  0.5707724137233492  &&& Average Error: 0.23209020341434586\n",
      "Error:: of Iteration 34 =>  Maximum Error:  0.5692474918842589  &&& Average Error: 0.23100300365038\n",
      "Error:: of Iteration 35 =>  Maximum Error:  0.5675982009752579  &&& Average Error: 0.22997161577500383\n",
      "Error:: of Iteration 36 =>  Maximum Error:  0.5658349588309587  &&& Average Error: 0.2289986865391398\n",
      "End of View  1\n"
     ]
    }
   ],
   "source": [
    "alpha = 0.0001;\n",
    "beta = 0.0001;\n",
    "iteration = 0;\n",
    "\n",
    "for index,X in enumerate(V): # X1, X2\n",
    "    max_E , avg_E = findError(X,W[index],H[index]);\n",
    "    while( max_E >= 0.566): # 0.5 \n",
    "        # updata H \n",
    "        H[index] =  np.multiply(H[index],h_coefficient_matrix(W[index],X,H[index],alpha,beta,H,index));\n",
    "        # update W\n",
    "        W[index] =  np.multiply(W[index],w_cofficient_matrix(X,H[index],W[index]));\n",
    "        # increase number of iteration\n",
    "        iteration = iteration + 1;\n",
    "        # display info\n",
    "        max_E , avg_E = findError(X,W[index],H[index]);\n",
    "        print(f\"Error:: of Iteration {iteration} => \",\"Maximum Error: \",max_E,\" &&& Average Error:\",avg_E);\n",
    "        # End of View or End of While Loop;\n",
    "    # inside For Loop for View\n",
    "    print('End of View ',index)\n",
    "    "
   ]
  },
  {
   "cell_type": "code",
   "execution_count": 213,
   "id": "161125c0",
   "metadata": {},
   "outputs": [
    {
     "data": {
      "text/plain": [
       "matrix([[0.00865075, 0.00817312, 0.00267336, ..., 0.00063916, 0.00151358,\n",
       "         0.00358691],\n",
       "        [0.01105359, 0.00723174, 0.01081549, ..., 0.00418431, 0.0073252 ,\n",
       "         0.00718541],\n",
       "        [0.00688953, 0.01228485, 0.00795208, ..., 0.00669529, 0.0059402 ,\n",
       "         0.0021677 ]])"
      ]
     },
     "execution_count": 213,
     "metadata": {},
     "output_type": "execute_result"
    }
   ],
   "source": [
    "# find avearage of H => H*\n",
    "\n",
    "# initialize all to 0 with H dimenstion\n",
    "sum_H = np.zeros(H[0].shape);\n",
    "\n",
    "for h in H:\n",
    "    sum_H = sum_H + h;\n",
    "\n",
    "# Average of all H ;\n",
    "H_star = sum_H/len(H);\n"
   ]
  },
  {
   "cell_type": "markdown",
   "id": "f9728446",
   "metadata": {},
   "source": [
    "## Overall Coding\n",
    "1. Load Data\n",
    "2. Normalize\n",
    "3. Randomize H and W\n",
    "4. Find H and W\n",
    "5. Averaging H\n",
    "\n",
    "> input => multiview dataset V, alpha , beta;\n",
    "\n",
    "> output => H*"
   ]
  },
  {
   "cell_type": "code",
   "execution_count": 6,
   "id": "a0eba30c",
   "metadata": {},
   "outputs": [],
   "source": [
    "# 0. Import All requirements\n",
    "import pandas as pd;\n",
    "import numpy as np;\n",
    "import numpy.matlib;\n",
    "from sklearn.preprocessing import Normalizer\n",
    "from sklearn.metrics.pairwise import euclidean_distances"
   ]
  },
  {
   "cell_type": "code",
   "execution_count": 2,
   "id": "a9c41e48",
   "metadata": {},
   "outputs": [],
   "source": [
    "# 1 & 2. Load Data and Normalize\n",
    "#\n",
    "# LOAD\n",
    "# \n",
    "#X1 = pd.read_csv('../datasets/complete-data/Caltech/GISTFeature.csv',header=None);\n",
    "#X2 = pd.read_csv('../datasets/complete-data/Caltech/LBPFeature.csv',header=None);\n",
    "\n",
    "X1 = pd.read_csv('../../datasets/complete-data/Reuters/01FirstView.csv');\n",
    "X2 = pd.read_csv('../../datasets/complete-data/Reuters/02SecondView.csv');\n",
    "X3 = pd.read_csv('../../datasets/complete-data/Reuters/03ThirdView.csv');\n",
    "X4 = pd.read_csv('../../datasets/complete-data/Reuters/04FourthView.csv');\n",
    "X5 = pd.read_csv('../../datasets/complete-data/Reuters/05FifthView.csv');\n",
    "# NORMALIZE\n",
    "#\n",
    "transformer = Normalizer();\n",
    "Xn1 = transformer.transform(X1).T\n",
    "Xn2 = transformer.transform(X2).T\n",
    "Xn3 = transformer.transform(X3).T\n",
    "Xn4 = transformer.transform(X4).T\n",
    "Xn5 = transformer.transform(X5).T\n",
    "# COMBINE\n",
    "#\n",
    "V = [Xn1,Xn2,Xn3,Xn4,Xn5];"
   ]
  },
  {
   "cell_type": "code",
   "execution_count": 11,
   "id": "5607be51",
   "metadata": {},
   "outputs": [],
   "source": [
    "# 3. Random value of H and W for all View\n",
    "num_of_dimension = 10;  # Change this to test with other dimension :\n",
    "H=[]\n",
    "W=[]\n",
    "\n",
    "for i in range(len(V)):\n",
    "    sh = V[i].shape\n",
    "    Wt = np.matlib.rand(sh[0],num_of_dimension)\n",
    "    Ht = np.matlib.rand(sh[1],num_of_dimension).T\n",
    "    W.append(Wt);\n",
    "    H.append(Ht);\n",
    "# End of H and W Randomization"
   ]
  },
  {
   "cell_type": "code",
   "execution_count": 12,
   "id": "7eb09439",
   "metadata": {},
   "outputs": [
    {
     "name": "stdout",
     "output_type": "stream",
     "text": [
      "Error:: of Iteration 1 =>  Maximum Error:  1.007836286113281  &&& Average Error: 0.9825020599265162\n",
      "Error:: of Iteration 2 =>  Maximum Error:  0.9997476750384986  &&& Average Error: 0.980664350893718\n",
      "Error:: of Iteration 3 =>  Maximum Error:  0.9997387986119278  &&& Average Error: 0.9793920103629687\n",
      "Error:: of Iteration 4 =>  Maximum Error:  0.9996711600756049  &&& Average Error: 0.976695159483731\n",
      "Error:: of Iteration 5 =>  Maximum Error:  0.9994015419785106  &&& Average Error: 0.9708687277643259\n",
      "Error:: of Iteration 6 =>  Maximum Error:  0.9989714446299154  &&& Average Error: 0.9651937912646783\n",
      "Error:: of Iteration 7 =>  Maximum Error:  0.99881292471221  &&& Average Error: 0.9607781695306583\n",
      "Error:: of Iteration 8 =>  Maximum Error:  0.9990343961306377  &&& Average Error: 0.9566340470391811\n",
      "Error:: of Iteration 9 =>  Maximum Error:  0.9991162673515502  &&& Average Error: 0.9527490768212501\n",
      "Error:: of Iteration 10 =>  Maximum Error:  0.9990619622944343  &&& Average Error: 0.9492508862854522\n",
      "Error:: of Iteration 11 =>  Maximum Error:  0.9988047082454753  &&& Average Error: 0.9462325774942609\n",
      "Error:: of Iteration 12 =>  Maximum Error:  0.9987104525708806  &&& Average Error: 0.9438578147173139\n",
      "Error:: of Iteration 13 =>  Maximum Error:  0.9989366510177988  &&& Average Error: 0.9421543824527696\n",
      "Error:: of Iteration 14 =>  Maximum Error:  0.9990932723213357  &&& Average Error: 0.9410052543462623\n",
      "Error:: of Iteration 15 =>  Maximum Error:  0.9992006906450043  &&& Average Error: 0.9402508070637523\n",
      "Error:: of Iteration 16 =>  Maximum Error:  0.9992789399390893  &&& Average Error: 0.9397418479536266\n",
      "Error:: of Iteration 17 =>  Maximum Error:  0.9993397376533733  &&& Average Error: 0.9393804888188989\n",
      "Error:: of Iteration 18 =>  Maximum Error:  0.9993879090182369  &&& Average Error: 0.9391229658618293\n",
      "Error:: of Iteration 19 =>  Maximum Error:  0.9994254642207123  &&& Average Error: 0.9389307777816592\n",
      "Error:: of Iteration 20 =>  Maximum Error:  0.9994542004495143  &&& Average Error: 0.9387796191188452\n",
      "Error:: of Iteration 21 =>  Maximum Error:  0.9994763641222202  &&& Average Error: 0.9386537274616977\n",
      "Error:: of Iteration 22 =>  Maximum Error:  0.9994942799891217  &&& Average Error: 0.9385475482202568\n",
      "Error:: of Iteration 23 =>  Maximum Error:  0.9995099804753803  &&& Average Error: 0.9384618768258299\n",
      "Error:: of Iteration 24 =>  Maximum Error:  0.9995250303034422  &&& Average Error: 0.9383877043181116\n",
      "Error:: of Iteration 25 =>  Maximum Error:  0.9995403488692326  &&& Average Error: 0.9383225945068199\n",
      "Error:: of Iteration 26 =>  Maximum Error:  0.9995559077920337  &&& Average Error: 0.9382655174703679\n",
      "Error:: of Iteration 27 =>  Maximum Error:  0.9995702382080233  &&& Average Error: 0.9382148601638696\n",
      "Error:: of Iteration 28 =>  Maximum Error:  0.9995797317187161  &&& Average Error: 0.938169670030831\n",
      "Error:: of Iteration 29 =>  Maximum Error:  0.9995773763765041  &&& Average Error: 0.9381290878896259\n",
      "Error:: of Iteration 30 =>  Maximum Error:  0.9995526189746011  &&& Average Error: 0.9380922466104343\n",
      "Error:: of Iteration 31 =>  Maximum Error:  0.9995021269245792  &&& Average Error: 0.9380584816273462\n",
      "Error:: of Iteration 32 =>  Maximum Error:  0.9994467598552128  &&& Average Error: 0.9380273248366645\n",
      "Error:: of Iteration 33 =>  Maximum Error:  0.9994077259148556  &&& Average Error: 0.9379985297995259\n",
      "Error:: of Iteration 34 =>  Maximum Error:  0.9993834037184547  &&& Average Error: 0.9379718925773138\n",
      "Error:: of Iteration 35 =>  Maximum Error:  0.9993667034712761  &&& Average Error: 0.9379473150267779\n",
      "Error:: of Iteration 36 =>  Maximum Error:  0.9993537844450042  &&& Average Error: 0.9379245320579838\n",
      "Error:: of Iteration 37 =>  Maximum Error:  0.9993429991103537  &&& Average Error: 0.9379031107783816\n",
      "Error:: of Iteration 38 =>  Maximum Error:  0.9993335999662452  &&& Average Error: 0.9378831248256568\n",
      "Error:: of Iteration 39 =>  Maximum Error:  0.9993251942272191  &&& Average Error: 0.9378645823955795\n",
      "Error:: of Iteration 40 =>  Maximum Error:  0.9993175380998462  &&& Average Error: 0.9378472338496817\n",
      "Error:: of Iteration 41 =>  Maximum Error:  0.9993104607995121  &&& Average Error: 0.9378309967903091\n",
      "Error:: of Iteration 42 =>  Maximum Error:  0.999303835453906  &&& Average Error: 0.93781581298331\n",
      "Error:: of Iteration 43 =>  Maximum Error:  0.999297553501853  &&& Average Error: 0.9378015776590056\n",
      "Error:: of Iteration 44 =>  Maximum Error:  0.9992914963238322  &&& Average Error: 0.937788140697465\n",
      "Error:: of Iteration 45 =>  Maximum Error:  0.9992855080933647  &&& Average Error: 0.9377752709881583\n",
      "Error:: of Iteration 46 =>  Maximum Error:  0.9992793651081825  &&& Average Error: 0.9377627795947588\n",
      "Error:: of Iteration 47 =>  Maximum Error:  0.9992727406252586  &&& Average Error: 0.9377505273513944\n",
      "Error:: of Iteration 48 =>  Maximum Error:  0.9992651856600128  &&& Average Error: 0.9377386008564778\n",
      "Error:: of Iteration 49 =>  Maximum Error:  0.9992561966216377  &&& Average Error: 0.9377269964403171\n",
      "Error:: of Iteration 50 =>  Maximum Error:  0.999245436810091  &&& Average Error: 0.9377149760612081\n",
      "Error:: of Iteration 51 =>  Maximum Error:  0.9992329670971695  &&& Average Error: 0.9377010596885871\n",
      "Error:: of Iteration 52 =>  Maximum Error:  0.9992193106348923  &&& Average Error: 0.9376849161709444\n",
      "Error:: of Iteration 53 =>  Maximum Error:  0.9992051795821647  &&& Average Error: 0.9376699834082193\n",
      "Error:: of Iteration 54 =>  Maximum Error:  0.9991912030805025  &&& Average Error: 0.9376580822998388\n",
      "Error:: of Iteration 55 =>  Maximum Error:  0.9991778995144568  &&& Average Error: 0.9376481383520848\n",
      "Error:: of Iteration 56 =>  Maximum Error:  0.9991655325882473  &&& Average Error: 0.9376393322580121\n",
      "Error:: of Iteration 57 =>  Maximum Error:  0.9991541207932678  &&& Average Error: 0.9376311195516327\n",
      "Error:: of Iteration 58 =>  Maximum Error:  0.999143577076542  &&& Average Error: 0.9376231250932122\n",
      "Error:: of Iteration 59 =>  Maximum Error:  0.9991338045109803  &&& Average Error: 0.9376150963635872\n",
      "Error:: of Iteration 60 =>  Maximum Error:  0.9991247304808976  &&& Average Error: 0.9376068860629224\n",
      "Error:: of Iteration 61 =>  Maximum Error:  0.9991163063917539  &&& Average Error: 0.9375984949161379\n",
      "Error:: of Iteration 62 =>  Maximum Error:  0.999108486402525  &&& Average Error: 0.9375900293716533\n",
      "Error:: of Iteration 63 =>  Maximum Error:  0.9991012136402138  &&& Average Error: 0.9375815471690702\n",
      "Error:: of Iteration 64 =>  Maximum Error:  0.9990944269718108  &&& Average Error: 0.9375730858846255\n",
      "Error:: of Iteration 65 =>  Maximum Error:  0.9990880594519658  &&& Average Error: 0.9375646457481172\n",
      "Error:: of Iteration 66 =>  Maximum Error:  0.999082045361432  &&& Average Error: 0.9375561055784126\n",
      "Error:: of Iteration 67 =>  Maximum Error:  0.9990763398714423  &&& Average Error: 0.9375473062702536\n",
      "Error:: of Iteration 68 =>  Maximum Error:  0.9990709180270576  &&& Average Error: 0.9375380402166942\n",
      "Error:: of Iteration 69 =>  Maximum Error:  0.9990657720494912  &&& Average Error: 0.9375280023963555\n",
      "Error:: of Iteration 70 =>  Maximum Error:  0.9990609224549202  &&& Average Error: 0.9375167944797456\n",
      "Error:: of Iteration 71 =>  Maximum Error:  0.9990564075017623  &&& Average Error: 0.9375043671327711\n",
      "Error:: of Iteration 72 =>  Maximum Error:  0.9990521767180394  &&& Average Error: 0.937492115326637\n",
      "Error:: of Iteration 73 =>  Maximum Error:  0.9990480941478761  &&& Average Error: 0.9374811711941948\n",
      "Error:: of Iteration 74 =>  Maximum Error:  0.9990441122214214  &&& Average Error: 0.9374717056061299\n",
      "Error:: of Iteration 75 =>  Maximum Error:  0.9990402402672242  &&& Average Error: 0.9374632874645317\n",
      "Error:: of Iteration 76 =>  Maximum Error:  0.9990364917875723  &&& Average Error: 0.9374555759532571\n",
      "Error:: of Iteration 77 =>  Maximum Error:  0.9990328796011637  &&& Average Error: 0.9374489418331986\n",
      "Error:: of Iteration 78 =>  Maximum Error:  0.9990294085168068  &&& Average Error: 0.9374436134374208\n",
      "Error:: of Iteration 79 =>  Maximum Error:  0.9990260747270566  &&& Average Error: 0.9374391553284508\n",
      "Error:: of Iteration 80 =>  Maximum Error:  0.9990228704651554  &&& Average Error: 0.9374353214061701\n",
      "Error:: of Iteration 81 =>  Maximum Error:  0.9990197883760127  &&& Average Error: 0.9374319642038033\n",
      "Error:: of Iteration 82 =>  Maximum Error:  0.9990168235358197  &&& Average Error: 0.9374291577866409\n",
      "Error:: of Iteration 83 =>  Maximum Error:  0.9990139723212457  &&& Average Error: 0.9374275102848593\n"
     ]
    },
    {
     "name": "stdout",
     "output_type": "stream",
     "text": [
      "Error:: of Iteration 84 =>  Maximum Error:  0.9990112230554963  &&& Average Error: 0.9374263694608599\n",
      "Error:: of Iteration 85 =>  Maximum Error:  0.9990085442709684  &&& Average Error: 0.937424952965484\n",
      "Error:: of Iteration 86 =>  Maximum Error:  0.9990058913255961  &&& Average Error: 0.9374229064395185\n",
      "Error:: of Iteration 87 =>  Maximum Error:  0.9990032401316266  &&& Average Error: 0.9374229449080138\n",
      "Error:: of Iteration 88 =>  Maximum Error:  0.99900059215036  &&& Average Error: 0.9374235679697229\n",
      "Error:: of Iteration 89 =>  Maximum Error:  0.9989979552068742  &&& Average Error: 0.937424191537442\n",
      "Error:: of Iteration 90 =>  Maximum Error:  0.9989953420115825  &&& Average Error: 0.9374248843626185\n",
      "Error:: of Iteration 91 =>  Maximum Error:  0.998992770541364  &&& Average Error: 0.9374256353244459\n",
      "Error:: of Iteration 92 =>  Maximum Error:  0.9989902586194324  &&& Average Error: 0.9374262047983063\n",
      "Error:: of Iteration 93 =>  Maximum Error:  0.9989878157154077  &&& Average Error: 0.9374265639773016\n",
      "Error:: of Iteration 94 =>  Maximum Error:  0.9989854375930721  &&& Average Error: 0.9374268840634379\n",
      "Error:: of Iteration 95 =>  Maximum Error:  0.9989831123597641  &&& Average Error: 0.9374273698594223\n",
      "Error:: of Iteration 96 =>  Maximum Error:  0.9989808289119512  &&& Average Error: 0.9374280143063454\n",
      "Error:: of Iteration 97 =>  Maximum Error:  0.9989785792380647  &&& Average Error: 0.9374286882697956\n",
      "Error:: of Iteration 98 =>  Maximum Error:  0.9989763583706236  &&& Average Error: 0.9374293018564764\n",
      "Error:: of Iteration 99 =>  Maximum Error:  0.9989741661952025  &&& Average Error: 0.9374298485124869\n",
      "Error:: of Iteration 100 =>  Maximum Error:  0.9989720078800536  &&& Average Error: 0.9374303271231962\n",
      "Error:: of Iteration 101 =>  Maximum Error:  0.9989698903142382  &&& Average Error: 0.937430745765597\n",
      "Error:: of Iteration 102 =>  Maximum Error:  0.9989678185367862  &&& Average Error: 0.9374311435230661\n",
      "Error:: of Iteration 103 =>  Maximum Error:  0.9989657951982197  &&& Average Error: 0.9374315796936481\n",
      "Error:: of Iteration 104 =>  Maximum Error:  0.9989638216603062  &&& Average Error: 0.9374320921512012\n",
      "Error:: of Iteration 105 =>  Maximum Error:  0.9989619004590997  &&& Average Error: 0.9374326320560148\n",
      "Error:: of Iteration 106 =>  Maximum Error:  0.9989600419590607  &&& Average Error: 0.9374330009955065\n",
      "Error:: of Iteration 107 =>  Maximum Error:  0.998958280056777  &&& Average Error: 0.9374326930948372\n",
      "Error:: of Iteration 108 =>  Maximum Error:  0.9989566846068377  &&& Average Error: 0.9374309340709187\n",
      "Error:: of Iteration 109 =>  Maximum Error:  0.9989552471546131  &&& Average Error: 0.9374282801835188\n",
      "Error:: of Iteration 110 =>  Maximum Error:  0.9989537812081293  &&& Average Error: 0.9374260326271499\n",
      "Error:: of Iteration 111 =>  Maximum Error:  0.9989522231436553  &&& Average Error: 0.9374240871484737\n",
      "Error:: of Iteration 112 =>  Maximum Error:  0.9989506043844758  &&& Average Error: 0.9374226894116805\n",
      "Error:: of Iteration 113 =>  Maximum Error:  0.9989489479706785  &&& Average Error: 0.9374220933903894\n",
      "Error:: of Iteration 114 =>  Maximum Error:  0.9989472728870776  &&& Average Error: 0.9374220867548407\n",
      "Error:: of Iteration 115 =>  Maximum Error:  0.9989455973288033  &&& Average Error: 0.9374223499802555\n",
      "Error:: of Iteration 116 =>  Maximum Error:  0.998943937714044  &&& Average Error: 0.9374226996604617\n",
      "Error:: of Iteration 117 =>  Maximum Error:  0.998942307370425  &&& Average Error: 0.9374230753914436\n",
      "Error:: of Iteration 118 =>  Maximum Error:  0.9989407156207974  &&& Average Error: 0.9374234820927918\n",
      "Error:: of Iteration 119 =>  Maximum Error:  0.9989391677850071  &&& Average Error: 0.9374239385063\n",
      "Error:: of Iteration 120 =>  Maximum Error:  0.9989376670001081  &&& Average Error: 0.9374244429745977\n",
      "Error:: of Iteration 121 =>  Maximum Error:  0.9989362168821141  &&& Average Error: 0.9374249715339456\n",
      "Error:: of Iteration 122 =>  Maximum Error:  0.9989348225412199  &&& Average Error: 0.9374254951388503\n",
      "Error:: of Iteration 123 =>  Maximum Error:  0.9989334893406484  &&& Average Error: 0.9374259880309974\n",
      "Error:: of Iteration 124 =>  Maximum Error:  0.9989322212716664  &&& Average Error: 0.9374264115107708\n",
      "Error:: of Iteration 125 =>  Maximum Error:  0.9989310204239434  &&& Average Error: 0.9374266912815421\n",
      "Error:: of Iteration 126 =>  Maximum Error:  0.9989298873253566  &&& Average Error: 0.937426726029229\n",
      "Error:: of Iteration 127 =>  Maximum Error:  0.998928821511137  &&& Average Error: 0.9374264650009335\n",
      "Error:: of Iteration 128 =>  Maximum Error:  0.9989278220902282  &&& Average Error: 0.9374260441860072\n",
      "Error:: of Iteration 129 =>  Maximum Error:  0.9989268880544503  &&& Average Error: 0.9374257446701433\n"
     ]
    },
    {
     "ename": "KeyboardInterrupt",
     "evalue": "",
     "output_type": "error",
     "traceback": [
      "\u001b[1;31m---------------------------------------------------------------------------\u001b[0m",
      "\u001b[1;31mKeyboardInterrupt\u001b[0m                         Traceback (most recent call last)",
      "\u001b[1;32mC:\\Users\\SAINYI~1\\AppData\\Local\\Temp/ipykernel_9500/87256631.py\u001b[0m in \u001b[0;36m<module>\u001b[1;34m\u001b[0m\n\u001b[0;32m     10\u001b[0m         \u001b[0mH\u001b[0m\u001b[1;33m[\u001b[0m\u001b[0mindex\u001b[0m\u001b[1;33m]\u001b[0m \u001b[1;33m=\u001b[0m  \u001b[0mnp\u001b[0m\u001b[1;33m.\u001b[0m\u001b[0mmultiply\u001b[0m\u001b[1;33m(\u001b[0m\u001b[0mH\u001b[0m\u001b[1;33m[\u001b[0m\u001b[0mindex\u001b[0m\u001b[1;33m]\u001b[0m\u001b[1;33m,\u001b[0m\u001b[0mh_coefficient_matrix\u001b[0m\u001b[1;33m(\u001b[0m\u001b[0mW\u001b[0m\u001b[1;33m[\u001b[0m\u001b[0mindex\u001b[0m\u001b[1;33m]\u001b[0m\u001b[1;33m,\u001b[0m\u001b[0mX\u001b[0m\u001b[1;33m,\u001b[0m\u001b[0mH\u001b[0m\u001b[1;33m[\u001b[0m\u001b[0mindex\u001b[0m\u001b[1;33m]\u001b[0m\u001b[1;33m,\u001b[0m\u001b[0malpha\u001b[0m\u001b[1;33m,\u001b[0m\u001b[0mbeta\u001b[0m\u001b[1;33m,\u001b[0m\u001b[0mH\u001b[0m\u001b[1;33m,\u001b[0m\u001b[0mindex\u001b[0m\u001b[1;33m)\u001b[0m\u001b[1;33m)\u001b[0m\u001b[1;33m;\u001b[0m\u001b[1;33m\u001b[0m\u001b[1;33m\u001b[0m\u001b[0m\n\u001b[0;32m     11\u001b[0m         \u001b[1;31m# update W\u001b[0m\u001b[1;33m\u001b[0m\u001b[1;33m\u001b[0m\u001b[0m\n\u001b[1;32m---> 12\u001b[1;33m         \u001b[0mW\u001b[0m\u001b[1;33m[\u001b[0m\u001b[0mindex\u001b[0m\u001b[1;33m]\u001b[0m \u001b[1;33m=\u001b[0m  \u001b[0mnp\u001b[0m\u001b[1;33m.\u001b[0m\u001b[0mmultiply\u001b[0m\u001b[1;33m(\u001b[0m\u001b[0mW\u001b[0m\u001b[1;33m[\u001b[0m\u001b[0mindex\u001b[0m\u001b[1;33m]\u001b[0m\u001b[1;33m,\u001b[0m\u001b[0mw_cofficient_matrix\u001b[0m\u001b[1;33m(\u001b[0m\u001b[0mX\u001b[0m\u001b[1;33m,\u001b[0m\u001b[0mH\u001b[0m\u001b[1;33m[\u001b[0m\u001b[0mindex\u001b[0m\u001b[1;33m]\u001b[0m\u001b[1;33m,\u001b[0m\u001b[0mW\u001b[0m\u001b[1;33m[\u001b[0m\u001b[0mindex\u001b[0m\u001b[1;33m]\u001b[0m\u001b[1;33m)\u001b[0m\u001b[1;33m)\u001b[0m\u001b[1;33m;\u001b[0m\u001b[1;33m\u001b[0m\u001b[1;33m\u001b[0m\u001b[0m\n\u001b[0m\u001b[0;32m     13\u001b[0m         \u001b[1;31m# increase number of iteration\u001b[0m\u001b[1;33m\u001b[0m\u001b[1;33m\u001b[0m\u001b[0m\n\u001b[0;32m     14\u001b[0m         \u001b[0miteration\u001b[0m \u001b[1;33m=\u001b[0m \u001b[0miteration\u001b[0m \u001b[1;33m+\u001b[0m \u001b[1;36m1\u001b[0m\u001b[1;33m;\u001b[0m\u001b[1;33m\u001b[0m\u001b[1;33m\u001b[0m\u001b[0m\n",
      "\u001b[1;32mC:\\Users\\SAINYI~1\\AppData\\Local\\Temp/ipykernel_9500/3028850883.py\u001b[0m in \u001b[0;36mw_cofficient_matrix\u001b[1;34m(X, H, W)\u001b[0m\n\u001b[0;32m     10\u001b[0m \u001b[1;32mdef\u001b[0m \u001b[0mw_cofficient_matrix\u001b[0m\u001b[1;33m(\u001b[0m\u001b[0mX\u001b[0m\u001b[1;33m,\u001b[0m\u001b[0mH\u001b[0m\u001b[1;33m,\u001b[0m\u001b[0mW\u001b[0m\u001b[1;33m)\u001b[0m\u001b[1;33m:\u001b[0m\u001b[1;33m\u001b[0m\u001b[1;33m\u001b[0m\u001b[0m\n\u001b[0;32m     11\u001b[0m     \u001b[0mup\u001b[0m \u001b[1;33m=\u001b[0m \u001b[0mX\u001b[0m \u001b[1;33m*\u001b[0m \u001b[1;33m(\u001b[0m\u001b[0mH\u001b[0m\u001b[1;33m.\u001b[0m\u001b[0mT\u001b[0m\u001b[1;33m)\u001b[0m\u001b[1;33m;\u001b[0m\u001b[1;33m\u001b[0m\u001b[1;33m\u001b[0m\u001b[0m\n\u001b[1;32m---> 12\u001b[1;33m     \u001b[0mdown\u001b[0m \u001b[1;33m=\u001b[0m \u001b[0mW\u001b[0m \u001b[1;33m*\u001b[0m \u001b[0mH\u001b[0m \u001b[1;33m*\u001b[0m \u001b[1;33m(\u001b[0m\u001b[0mH\u001b[0m\u001b[1;33m.\u001b[0m\u001b[0mT\u001b[0m\u001b[1;33m)\u001b[0m\u001b[1;33m\u001b[0m\u001b[1;33m\u001b[0m\u001b[0m\n\u001b[0m\u001b[0;32m     13\u001b[0m     \u001b[0mfinal\u001b[0m \u001b[1;33m=\u001b[0m \u001b[0mup\u001b[0m\u001b[1;33m/\u001b[0m\u001b[0mdown\u001b[0m\u001b[1;33m\u001b[0m\u001b[1;33m\u001b[0m\u001b[0m\n\u001b[0;32m     14\u001b[0m     \u001b[1;32mreturn\u001b[0m \u001b[0mfinal\u001b[0m\u001b[1;33m;\u001b[0m\u001b[1;33m\u001b[0m\u001b[1;33m\u001b[0m\u001b[0m\n",
      "\u001b[1;32m~\\Desktop\\pjt\\Experiments\\env\\lib\\site-packages\\numpy\\matrixlib\\defmatrix.py\u001b[0m in \u001b[0;36m__mul__\u001b[1;34m(self, other)\u001b[0m\n\u001b[0;32m    216\u001b[0m         \u001b[1;32mif\u001b[0m \u001b[0misinstance\u001b[0m\u001b[1;33m(\u001b[0m\u001b[0mother\u001b[0m\u001b[1;33m,\u001b[0m \u001b[1;33m(\u001b[0m\u001b[0mN\u001b[0m\u001b[1;33m.\u001b[0m\u001b[0mndarray\u001b[0m\u001b[1;33m,\u001b[0m \u001b[0mlist\u001b[0m\u001b[1;33m,\u001b[0m \u001b[0mtuple\u001b[0m\u001b[1;33m)\u001b[0m\u001b[1;33m)\u001b[0m \u001b[1;33m:\u001b[0m\u001b[1;33m\u001b[0m\u001b[1;33m\u001b[0m\u001b[0m\n\u001b[0;32m    217\u001b[0m             \u001b[1;31m# This promotes 1-D vectors to row vectors\u001b[0m\u001b[1;33m\u001b[0m\u001b[1;33m\u001b[0m\u001b[0m\n\u001b[1;32m--> 218\u001b[1;33m             \u001b[1;32mreturn\u001b[0m \u001b[0mN\u001b[0m\u001b[1;33m.\u001b[0m\u001b[0mdot\u001b[0m\u001b[1;33m(\u001b[0m\u001b[0mself\u001b[0m\u001b[1;33m,\u001b[0m \u001b[0masmatrix\u001b[0m\u001b[1;33m(\u001b[0m\u001b[0mother\u001b[0m\u001b[1;33m)\u001b[0m\u001b[1;33m)\u001b[0m\u001b[1;33m\u001b[0m\u001b[1;33m\u001b[0m\u001b[0m\n\u001b[0m\u001b[0;32m    219\u001b[0m         \u001b[1;32mif\u001b[0m \u001b[0misscalar\u001b[0m\u001b[1;33m(\u001b[0m\u001b[0mother\u001b[0m\u001b[1;33m)\u001b[0m \u001b[1;32mor\u001b[0m \u001b[1;32mnot\u001b[0m \u001b[0mhasattr\u001b[0m\u001b[1;33m(\u001b[0m\u001b[0mother\u001b[0m\u001b[1;33m,\u001b[0m \u001b[1;34m'__rmul__'\u001b[0m\u001b[1;33m)\u001b[0m \u001b[1;33m:\u001b[0m\u001b[1;33m\u001b[0m\u001b[1;33m\u001b[0m\u001b[0m\n\u001b[0;32m    220\u001b[0m             \u001b[1;32mreturn\u001b[0m \u001b[0mN\u001b[0m\u001b[1;33m.\u001b[0m\u001b[0mdot\u001b[0m\u001b[1;33m(\u001b[0m\u001b[0mself\u001b[0m\u001b[1;33m,\u001b[0m \u001b[0mother\u001b[0m\u001b[1;33m)\u001b[0m\u001b[1;33m\u001b[0m\u001b[1;33m\u001b[0m\u001b[0m\n",
      "\u001b[1;32m<__array_function__ internals>\u001b[0m in \u001b[0;36mdot\u001b[1;34m(*args, **kwargs)\u001b[0m\n",
      "\u001b[1;31mKeyboardInterrupt\u001b[0m: "
     ]
    }
   ],
   "source": [
    "# 4. Update H and W for all View\n",
    "alpha = 0.0001; # parameter\n",
    "beta = 0.0001;  # parameter \n",
    "iteration = 0;  # tracking of iteration\n",
    "\n",
    "for index,X in enumerate(V): # X1, X2\n",
    "    max_E , avg_E = findError(X,W[index],H[index]);\n",
    "    while( max_E >= 0.566): # Effect by random value of H , W ;\n",
    "        # updata H \n",
    "        H[index] =  np.multiply(H[index],h_coefficient_matrix(W[index],X,H[index],alpha,beta,H,index));\n",
    "        # update W\n",
    "        W[index] =  np.multiply(W[index],w_cofficient_matrix(X,H[index],W[index]));\n",
    "        # increase number of iteration\n",
    "        iteration = iteration + 1;\n",
    "        # display info\n",
    "        max_E , avg_E = findError(X,W[index],H[index]);\n",
    "        print(f\"Error:: of Iteration {iteration} => \",\"Maximum Error: \",max_E,\" &&& Average Error:\",avg_E);\n",
    "        # End of View or End of While Loop;\n",
    "    # inside For Loop for View\n",
    "    print('End of View ',index)\n",
    "    iteration = 0;"
   ]
  },
  {
   "cell_type": "code",
   "execution_count": 16,
   "id": "db1ffb5f",
   "metadata": {},
   "outputs": [],
   "source": [
    "# Averaging\n",
    "sum_H = np.zeros(H[0].shape);\n",
    "for h in H:\n",
    "    sum_H = sum_H + h;\n",
    "H_star = sum_H/len(H);  # <=======================   output -  H*\n"
   ]
  },
  {
   "cell_type": "code",
   "execution_count": 17,
   "id": "b8ebca40",
   "metadata": {},
   "outputs": [
    {
     "data": {
      "text/plain": [
       "(10, 1474)"
      ]
     },
     "execution_count": 17,
     "metadata": {},
     "output_type": "execute_result"
    }
   ],
   "source": [
    "H_star.shape # (reduced dimension x sample number )"
   ]
  },
  {
   "cell_type": "code",
   "execution_count": 18,
   "id": "75af446b",
   "metadata": {},
   "outputs": [
    {
     "data": {
      "text/plain": [
       "(1474, 1)"
      ]
     },
     "execution_count": 18,
     "metadata": {},
     "output_type": "execute_result"
    }
   ],
   "source": [
    "Label = pd.read_csv(\"../datasets/complete-data/Caltech/label.csv\",header=None);\n",
    "from sklearn.cluster import KMeans\n",
    "Label = Label.to_numpy()\n",
    "Label.shape"
   ]
  },
  {
   "cell_type": "code",
   "execution_count": 19,
   "id": "6b82ca47",
   "metadata": {},
   "outputs": [],
   "source": [
    "km = KMeans(n_clusters=7,random_state=0).fit(H_star.T);"
   ]
  },
  {
   "cell_type": "code",
   "execution_count": 20,
   "id": "4ece447a",
   "metadata": {},
   "outputs": [],
   "source": [
    "y_pred = km.predict(H_star.T)"
   ]
  },
  {
   "cell_type": "code",
   "execution_count": 21,
   "id": "d2d585eb",
   "metadata": {},
   "outputs": [],
   "source": [
    "from sklearn.metrics import accuracy_score;"
   ]
  },
  {
   "cell_type": "code",
   "execution_count": 22,
   "id": "44beac06",
   "metadata": {},
   "outputs": [
    {
     "data": {
      "text/plain": [
       "0.1919945725915875"
      ]
     },
     "execution_count": 22,
     "metadata": {},
     "output_type": "execute_result"
    }
   ],
   "source": [
    "accuracy_score(Label,y_pred)"
   ]
  },
  {
   "cell_type": "code",
   "execution_count": null,
   "id": "bde165a4",
   "metadata": {},
   "outputs": [],
   "source": []
  }
 ],
 "metadata": {
  "kernelspec": {
   "display_name": "Python 3 (ipykernel)",
   "language": "python",
   "name": "python3"
  },
  "language_info": {
   "codemirror_mode": {
    "name": "ipython",
    "version": 3
   },
   "file_extension": ".py",
   "mimetype": "text/x-python",
   "name": "python",
   "nbconvert_exporter": "python",
   "pygments_lexer": "ipython3",
   "version": "3.9.7"
  }
 },
 "nbformat": 4,
 "nbformat_minor": 5
}
