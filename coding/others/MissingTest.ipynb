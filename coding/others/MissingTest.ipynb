{
 "cells": [
  {
   "cell_type": "code",
   "execution_count": 1,
   "id": "8aeb57de",
   "metadata": {},
   "outputs": [],
   "source": [
    "import pandas as pd\n",
    "import numpy as np\n",
    "\n"
   ]
  },
  {
   "cell_type": "code",
   "execution_count": 123,
   "id": "724d948f",
   "metadata": {},
   "outputs": [],
   "source": [
    "V1 = pd.read_csv('../datasets/complete-data/Caltech/GISTFeature.csv',header=None);\n",
    "V2 = pd.read_csv('../datasets/complete-data/Caltech/LBPFeature.csv',header=None);\n"
   ]
  },
  {
   "cell_type": "code",
   "execution_count": 68,
   "id": "0466ab3f",
   "metadata": {},
   "outputs": [
    {
     "data": {
      "text/plain": [
       "0    1600\n",
       "1    1600\n",
       "2    1600\n",
       "dtype: int64"
      ]
     },
     "execution_count": 68,
     "metadata": {},
     "output_type": "execute_result"
    }
   ],
   "source": [
    "data.isna().count()"
   ]
  },
  {
   "cell_type": "code",
   "execution_count": 9,
   "id": "3b36e8e4",
   "metadata": {},
   "outputs": [
    {
     "name": "stdout",
     "output_type": "stream",
     "text": [
      "<class 'pandas.core.frame.DataFrame'>\n",
      "RangeIndex: 1600 entries, 0 to 1599\n",
      "Data columns (total 3 columns):\n",
      " #   Column  Non-Null Count  Dtype\n",
      "---  ------  --------------  -----\n",
      " 0   0       1600 non-null   int64\n",
      " 1   1       1600 non-null   int64\n",
      " 2   2       1600 non-null   int64\n",
      "dtypes: int64(3)\n",
      "memory usage: 37.6 KB\n"
     ]
    }
   ],
   "source": [
    "data.info()"
   ]
  },
  {
   "cell_type": "code",
   "execution_count": 17,
   "id": "07239b31",
   "metadata": {},
   "outputs": [
    {
     "data": {
      "text/plain": [
       "1    1600\n",
       "Name: 2, dtype: int64"
      ]
     },
     "execution_count": 17,
     "metadata": {},
     "output_type": "execute_result"
    }
   ],
   "source": [
    "data[2].value_counts()    "
   ]
  },
  {
   "cell_type": "code",
   "execution_count": null,
   "id": "e8f336c3",
   "metadata": {},
   "outputs": [],
   "source": [
    "# 0 => 0 => 160\n",
    "# 0 => 1 => 160\n",
    "# 0 => 2 => 0"
   ]
  },
  {
   "cell_type": "code",
   "execution_count": 19,
   "id": "1eb77bfc",
   "metadata": {},
   "outputs": [],
   "source": [
    "X = data.to_numpy()"
   ]
  },
  {
   "cell_type": "code",
   "execution_count": 30,
   "id": "a514271f",
   "metadata": {},
   "outputs": [
    {
     "data": {
      "text/plain": [
       "1600"
      ]
     },
     "execution_count": 30,
     "metadata": {},
     "output_type": "execute_result"
    }
   ],
   "source": [
    "len(data)"
   ]
  },
  {
   "cell_type": "code",
   "execution_count": 18,
   "id": "4467ea4a",
   "metadata": {},
   "outputs": [
    {
     "data": {
      "text/plain": [
       "160.0"
      ]
     },
     "execution_count": 18,
     "metadata": {},
     "output_type": "execute_result"
    }
   ],
   "source": [
    "(1600/100)*10"
   ]
  },
  {
   "cell_type": "code",
   "execution_count": 109,
   "id": "7907abb1",
   "metadata": {},
   "outputs": [
    {
     "data": {
      "text/plain": [
       "2"
      ]
     },
     "execution_count": 109,
     "metadata": {},
     "output_type": "execute_result"
    }
   ],
   "source": [
    "X = [V1,V2]\n",
    "len(X)"
   ]
  },
  {
   "cell_type": "code",
   "execution_count": 110,
   "id": "629ea4d4",
   "metadata": {},
   "outputs": [
    {
     "data": {
      "text/html": [
       "<div>\n",
       "<style scoped>\n",
       "    .dataframe tbody tr th:only-of-type {\n",
       "        vertical-align: middle;\n",
       "    }\n",
       "\n",
       "    .dataframe tbody tr th {\n",
       "        vertical-align: top;\n",
       "    }\n",
       "\n",
       "    .dataframe thead th {\n",
       "        text-align: right;\n",
       "    }\n",
       "</style>\n",
       "<table border=\"1\" class=\"dataframe\">\n",
       "  <thead>\n",
       "    <tr style=\"text-align: right;\">\n",
       "      <th></th>\n",
       "      <th>0</th>\n",
       "      <th>1</th>\n",
       "      <th>2</th>\n",
       "      <th>3</th>\n",
       "      <th>4</th>\n",
       "      <th>5</th>\n",
       "      <th>6</th>\n",
       "      <th>7</th>\n",
       "      <th>8</th>\n",
       "      <th>9</th>\n",
       "      <th>...</th>\n",
       "      <th>502</th>\n",
       "      <th>503</th>\n",
       "      <th>504</th>\n",
       "      <th>505</th>\n",
       "      <th>506</th>\n",
       "      <th>507</th>\n",
       "      <th>508</th>\n",
       "      <th>509</th>\n",
       "      <th>510</th>\n",
       "      <th>511</th>\n",
       "    </tr>\n",
       "  </thead>\n",
       "  <tbody>\n",
       "    <tr>\n",
       "      <th>0</th>\n",
       "      <td>NaN</td>\n",
       "      <td>NaN</td>\n",
       "      <td>NaN</td>\n",
       "      <td>NaN</td>\n",
       "      <td>NaN</td>\n",
       "      <td>NaN</td>\n",
       "      <td>NaN</td>\n",
       "      <td>NaN</td>\n",
       "      <td>NaN</td>\n",
       "      <td>NaN</td>\n",
       "      <td>...</td>\n",
       "      <td>NaN</td>\n",
       "      <td>NaN</td>\n",
       "      <td>NaN</td>\n",
       "      <td>NaN</td>\n",
       "      <td>NaN</td>\n",
       "      <td>NaN</td>\n",
       "      <td>NaN</td>\n",
       "      <td>NaN</td>\n",
       "      <td>NaN</td>\n",
       "      <td>NaN</td>\n",
       "    </tr>\n",
       "    <tr>\n",
       "      <th>1</th>\n",
       "      <td>NaN</td>\n",
       "      <td>NaN</td>\n",
       "      <td>NaN</td>\n",
       "      <td>NaN</td>\n",
       "      <td>NaN</td>\n",
       "      <td>NaN</td>\n",
       "      <td>NaN</td>\n",
       "      <td>NaN</td>\n",
       "      <td>NaN</td>\n",
       "      <td>NaN</td>\n",
       "      <td>...</td>\n",
       "      <td>NaN</td>\n",
       "      <td>NaN</td>\n",
       "      <td>NaN</td>\n",
       "      <td>NaN</td>\n",
       "      <td>NaN</td>\n",
       "      <td>NaN</td>\n",
       "      <td>NaN</td>\n",
       "      <td>NaN</td>\n",
       "      <td>NaN</td>\n",
       "      <td>NaN</td>\n",
       "    </tr>\n",
       "    <tr>\n",
       "      <th>2</th>\n",
       "      <td>NaN</td>\n",
       "      <td>NaN</td>\n",
       "      <td>NaN</td>\n",
       "      <td>NaN</td>\n",
       "      <td>NaN</td>\n",
       "      <td>NaN</td>\n",
       "      <td>NaN</td>\n",
       "      <td>NaN</td>\n",
       "      <td>NaN</td>\n",
       "      <td>NaN</td>\n",
       "      <td>...</td>\n",
       "      <td>NaN</td>\n",
       "      <td>NaN</td>\n",
       "      <td>NaN</td>\n",
       "      <td>NaN</td>\n",
       "      <td>NaN</td>\n",
       "      <td>NaN</td>\n",
       "      <td>NaN</td>\n",
       "      <td>NaN</td>\n",
       "      <td>NaN</td>\n",
       "      <td>NaN</td>\n",
       "    </tr>\n",
       "    <tr>\n",
       "      <th>3</th>\n",
       "      <td>NaN</td>\n",
       "      <td>NaN</td>\n",
       "      <td>NaN</td>\n",
       "      <td>NaN</td>\n",
       "      <td>NaN</td>\n",
       "      <td>NaN</td>\n",
       "      <td>NaN</td>\n",
       "      <td>NaN</td>\n",
       "      <td>NaN</td>\n",
       "      <td>NaN</td>\n",
       "      <td>...</td>\n",
       "      <td>NaN</td>\n",
       "      <td>NaN</td>\n",
       "      <td>NaN</td>\n",
       "      <td>NaN</td>\n",
       "      <td>NaN</td>\n",
       "      <td>NaN</td>\n",
       "      <td>NaN</td>\n",
       "      <td>NaN</td>\n",
       "      <td>NaN</td>\n",
       "      <td>NaN</td>\n",
       "    </tr>\n",
       "    <tr>\n",
       "      <th>4</th>\n",
       "      <td>NaN</td>\n",
       "      <td>NaN</td>\n",
       "      <td>NaN</td>\n",
       "      <td>NaN</td>\n",
       "      <td>NaN</td>\n",
       "      <td>NaN</td>\n",
       "      <td>NaN</td>\n",
       "      <td>NaN</td>\n",
       "      <td>NaN</td>\n",
       "      <td>NaN</td>\n",
       "      <td>...</td>\n",
       "      <td>NaN</td>\n",
       "      <td>NaN</td>\n",
       "      <td>NaN</td>\n",
       "      <td>NaN</td>\n",
       "      <td>NaN</td>\n",
       "      <td>NaN</td>\n",
       "      <td>NaN</td>\n",
       "      <td>NaN</td>\n",
       "      <td>NaN</td>\n",
       "      <td>NaN</td>\n",
       "    </tr>\n",
       "    <tr>\n",
       "      <th>...</th>\n",
       "      <td>...</td>\n",
       "      <td>...</td>\n",
       "      <td>...</td>\n",
       "      <td>...</td>\n",
       "      <td>...</td>\n",
       "      <td>...</td>\n",
       "      <td>...</td>\n",
       "      <td>...</td>\n",
       "      <td>...</td>\n",
       "      <td>...</td>\n",
       "      <td>...</td>\n",
       "      <td>...</td>\n",
       "      <td>...</td>\n",
       "      <td>...</td>\n",
       "      <td>...</td>\n",
       "      <td>...</td>\n",
       "      <td>...</td>\n",
       "      <td>...</td>\n",
       "      <td>...</td>\n",
       "      <td>...</td>\n",
       "      <td>...</td>\n",
       "    </tr>\n",
       "    <tr>\n",
       "      <th>1469</th>\n",
       "      <td>NaN</td>\n",
       "      <td>NaN</td>\n",
       "      <td>NaN</td>\n",
       "      <td>NaN</td>\n",
       "      <td>NaN</td>\n",
       "      <td>NaN</td>\n",
       "      <td>NaN</td>\n",
       "      <td>NaN</td>\n",
       "      <td>NaN</td>\n",
       "      <td>NaN</td>\n",
       "      <td>...</td>\n",
       "      <td>NaN</td>\n",
       "      <td>NaN</td>\n",
       "      <td>NaN</td>\n",
       "      <td>NaN</td>\n",
       "      <td>NaN</td>\n",
       "      <td>NaN</td>\n",
       "      <td>NaN</td>\n",
       "      <td>NaN</td>\n",
       "      <td>NaN</td>\n",
       "      <td>NaN</td>\n",
       "    </tr>\n",
       "    <tr>\n",
       "      <th>1470</th>\n",
       "      <td>0.002586</td>\n",
       "      <td>0.026140</td>\n",
       "      <td>0.024114</td>\n",
       "      <td>0.015401</td>\n",
       "      <td>0.072028</td>\n",
       "      <td>0.19497</td>\n",
       "      <td>0.067662</td>\n",
       "      <td>0.002747</td>\n",
       "      <td>0.051086</td>\n",
       "      <td>0.18571</td>\n",
       "      <td>...</td>\n",
       "      <td>0.06816</td>\n",
       "      <td>0.023893</td>\n",
       "      <td>0.015431</td>\n",
       "      <td>0.063414</td>\n",
       "      <td>0.081292</td>\n",
       "      <td>0.078235</td>\n",
       "      <td>0.054562</td>\n",
       "      <td>0.080643</td>\n",
       "      <td>0.047916</td>\n",
       "      <td>0.015823</td>\n",
       "    </tr>\n",
       "    <tr>\n",
       "      <th>1471</th>\n",
       "      <td>NaN</td>\n",
       "      <td>NaN</td>\n",
       "      <td>NaN</td>\n",
       "      <td>NaN</td>\n",
       "      <td>NaN</td>\n",
       "      <td>NaN</td>\n",
       "      <td>NaN</td>\n",
       "      <td>NaN</td>\n",
       "      <td>NaN</td>\n",
       "      <td>NaN</td>\n",
       "      <td>...</td>\n",
       "      <td>NaN</td>\n",
       "      <td>NaN</td>\n",
       "      <td>NaN</td>\n",
       "      <td>NaN</td>\n",
       "      <td>NaN</td>\n",
       "      <td>NaN</td>\n",
       "      <td>NaN</td>\n",
       "      <td>NaN</td>\n",
       "      <td>NaN</td>\n",
       "      <td>NaN</td>\n",
       "    </tr>\n",
       "    <tr>\n",
       "      <th>1472</th>\n",
       "      <td>NaN</td>\n",
       "      <td>NaN</td>\n",
       "      <td>NaN</td>\n",
       "      <td>NaN</td>\n",
       "      <td>NaN</td>\n",
       "      <td>NaN</td>\n",
       "      <td>NaN</td>\n",
       "      <td>NaN</td>\n",
       "      <td>NaN</td>\n",
       "      <td>NaN</td>\n",
       "      <td>...</td>\n",
       "      <td>NaN</td>\n",
       "      <td>NaN</td>\n",
       "      <td>NaN</td>\n",
       "      <td>NaN</td>\n",
       "      <td>NaN</td>\n",
       "      <td>NaN</td>\n",
       "      <td>NaN</td>\n",
       "      <td>NaN</td>\n",
       "      <td>NaN</td>\n",
       "      <td>NaN</td>\n",
       "    </tr>\n",
       "    <tr>\n",
       "      <th>1473</th>\n",
       "      <td>0.010106</td>\n",
       "      <td>0.002967</td>\n",
       "      <td>0.029339</td>\n",
       "      <td>0.026014</td>\n",
       "      <td>0.096916</td>\n",
       "      <td>0.18804</td>\n",
       "      <td>0.036649</td>\n",
       "      <td>0.009920</td>\n",
       "      <td>0.092854</td>\n",
       "      <td>0.21914</td>\n",
       "      <td>...</td>\n",
       "      <td>0.10848</td>\n",
       "      <td>0.029358</td>\n",
       "      <td>0.013349</td>\n",
       "      <td>0.038101</td>\n",
       "      <td>0.058742</td>\n",
       "      <td>0.037894</td>\n",
       "      <td>0.079986</td>\n",
       "      <td>0.123180</td>\n",
       "      <td>0.034318</td>\n",
       "      <td>0.020230</td>\n",
       "    </tr>\n",
       "  </tbody>\n",
       "</table>\n",
       "<p>1474 rows × 512 columns</p>\n",
       "</div>"
      ],
      "text/plain": [
       "           0         1         2         3         4        5         6    \\\n",
       "0          NaN       NaN       NaN       NaN       NaN      NaN       NaN   \n",
       "1          NaN       NaN       NaN       NaN       NaN      NaN       NaN   \n",
       "2          NaN       NaN       NaN       NaN       NaN      NaN       NaN   \n",
       "3          NaN       NaN       NaN       NaN       NaN      NaN       NaN   \n",
       "4          NaN       NaN       NaN       NaN       NaN      NaN       NaN   \n",
       "...        ...       ...       ...       ...       ...      ...       ...   \n",
       "1469       NaN       NaN       NaN       NaN       NaN      NaN       NaN   \n",
       "1470  0.002586  0.026140  0.024114  0.015401  0.072028  0.19497  0.067662   \n",
       "1471       NaN       NaN       NaN       NaN       NaN      NaN       NaN   \n",
       "1472       NaN       NaN       NaN       NaN       NaN      NaN       NaN   \n",
       "1473  0.010106  0.002967  0.029339  0.026014  0.096916  0.18804  0.036649   \n",
       "\n",
       "           7         8        9    ...      502       503       504       505  \\\n",
       "0          NaN       NaN      NaN  ...      NaN       NaN       NaN       NaN   \n",
       "1          NaN       NaN      NaN  ...      NaN       NaN       NaN       NaN   \n",
       "2          NaN       NaN      NaN  ...      NaN       NaN       NaN       NaN   \n",
       "3          NaN       NaN      NaN  ...      NaN       NaN       NaN       NaN   \n",
       "4          NaN       NaN      NaN  ...      NaN       NaN       NaN       NaN   \n",
       "...        ...       ...      ...  ...      ...       ...       ...       ...   \n",
       "1469       NaN       NaN      NaN  ...      NaN       NaN       NaN       NaN   \n",
       "1470  0.002747  0.051086  0.18571  ...  0.06816  0.023893  0.015431  0.063414   \n",
       "1471       NaN       NaN      NaN  ...      NaN       NaN       NaN       NaN   \n",
       "1472       NaN       NaN      NaN  ...      NaN       NaN       NaN       NaN   \n",
       "1473  0.009920  0.092854  0.21914  ...  0.10848  0.029358  0.013349  0.038101   \n",
       "\n",
       "           506       507       508       509       510       511  \n",
       "0          NaN       NaN       NaN       NaN       NaN       NaN  \n",
       "1          NaN       NaN       NaN       NaN       NaN       NaN  \n",
       "2          NaN       NaN       NaN       NaN       NaN       NaN  \n",
       "3          NaN       NaN       NaN       NaN       NaN       NaN  \n",
       "4          NaN       NaN       NaN       NaN       NaN       NaN  \n",
       "...        ...       ...       ...       ...       ...       ...  \n",
       "1469       NaN       NaN       NaN       NaN       NaN       NaN  \n",
       "1470  0.081292  0.078235  0.054562  0.080643  0.047916  0.015823  \n",
       "1471       NaN       NaN       NaN       NaN       NaN       NaN  \n",
       "1472       NaN       NaN       NaN       NaN       NaN       NaN  \n",
       "1473  0.058742  0.037894  0.079986  0.123180  0.034318  0.020230  \n",
       "\n",
       "[1474 rows x 512 columns]"
      ]
     },
     "execution_count": 110,
     "metadata": {},
     "output_type": "execute_result"
    }
   ],
   "source": [
    "X.pop(0)\n"
   ]
  },
  {
   "cell_type": "code",
   "execution_count": 111,
   "id": "74a3e007",
   "metadata": {},
   "outputs": [
    {
     "data": {
      "text/plain": [
       "1"
      ]
     },
     "execution_count": 111,
     "metadata": {},
     "output_type": "execute_result"
    }
   ],
   "source": [
    "len(X)"
   ]
  },
  {
   "cell_type": "code",
   "execution_count": 119,
   "id": "ee6c66e0",
   "metadata": {},
   "outputs": [],
   "source": [
    "def place_no_complete(X,number_of_complete): # X[0], X[1], X[2]\n",
    "    # get length of view\n",
    "    view_tot = len(X); # 3\n",
    "    X_filled = [];\n",
    "    X_not_filled = [];\n",
    "    \n",
    "    for i in range(number_of_complete): # 2\n",
    "        X_filled.append(X[i]);\n",
    "        X.pop(i);\n",
    "    # X_filled => [V1,V2];\n",
    "    X_not_filled = X;\n",
    "    return X_filled,X_not_filled;"
   ]
  },
  {
   "cell_type": "code",
   "execution_count": 120,
   "id": "b3d777a1",
   "metadata": {},
   "outputs": [],
   "source": [
    "# Random Remove Data\n",
    "\n",
    "def random_remove_data(X,percent=10,number_of_complete = 0):\n",
    "    \"\"\" X = list of all view of data . e.g X = [V1, V2, .... ], percent = percent of data want to remove \"\"\"\n",
    "    # V1(mxn) * (Sample X feature)\n",
    "    # Find Number of sample\n",
    "    no_of_sample = len(X[0]);\n",
    "    no_of_missing = int(((no_of_sample)/100)*percent);\n",
    "    # column number\n",
    "\n",
    "    # for each view , randomly remove items\n",
    "    X_final = [];\n",
    "    if number_of_complete>0:\n",
    "        X_final,X = place_no_complete(X,number_of_complete);\n",
    "    \n",
    "    print(len(X_final));\n",
    "    print(len(X));\n",
    "    \n",
    "    for V in X: # V must be panda DataFrame\n",
    "        for i in range(no_of_missing): # 0 - no_of_missing -1\n",
    "            # Generage random number between 0 - sample number\n",
    "            col_number = len(V.iloc[0]);\n",
    "            to_remove = np.random.randint(0,no_of_sample);\n",
    "            V.iloc[to_remove] = [np.NaN for i in range(col_number)]\n",
    "        X_final.append(V);\n",
    "    return X_final;"
   ]
  },
  {
   "cell_type": "code",
   "execution_count": 128,
   "id": "7e85b39a",
   "metadata": {},
   "outputs": [
    {
     "name": "stdout",
     "output_type": "stream",
     "text": [
      "0\n",
      "2\n"
     ]
    }
   ],
   "source": [
    "X = random_remove_data([V1,V2],number_of_complete=0); # 1,1"
   ]
  },
  {
   "cell_type": "code",
   "execution_count": 137,
   "id": "f24e0a10",
   "metadata": {},
   "outputs": [
    {
     "data": {
      "text/plain": [
       "(1474, 512)"
      ]
     },
     "execution_count": 137,
     "metadata": {},
     "output_type": "execute_result"
    }
   ],
   "source": [
    "X[0].shape"
   ]
  },
  {
   "cell_type": "code",
   "execution_count": 136,
   "id": "07a5f27f",
   "metadata": {},
   "outputs": [
    {
     "data": {
      "text/plain": [
       "0      135\n",
       "1      135\n",
       "2      135\n",
       "3      135\n",
       "4      135\n",
       "      ... \n",
       "507    135\n",
       "508    135\n",
       "509    135\n",
       "510    135\n",
       "511    135\n",
       "Length: 512, dtype: int64"
      ]
     },
     "execution_count": 136,
     "metadata": {},
     "output_type": "execute_result"
    }
   ],
   "source": [
    "a = X[0].isna()\n",
    "a.sum()"
   ]
  },
  {
   "cell_type": "code",
   "execution_count": 127,
   "id": "b2f15ce5",
   "metadata": {},
   "outputs": [],
   "source": [
    "X[0].to_csv('missF1.csv',header=None,index=None);\n",
    "X[1].to_csv('missF2.csv',header=None,index=None);"
   ]
  },
  {
   "cell_type": "code",
   "execution_count": 86,
   "id": "654dd159",
   "metadata": {},
   "outputs": [
    {
     "data": {
      "text/plain": [
       "3522"
      ]
     },
     "execution_count": 86,
     "metadata": {},
     "output_type": "execute_result"
    }
   ],
   "source": [
    "X[0].isnull().sum().sum() # 160 x 160 x 160 "
   ]
  },
  {
   "cell_type": "code",
   "execution_count": 91,
   "id": "094b40af",
   "metadata": {},
   "outputs": [
    {
     "data": {
      "text/plain": [
       "1440"
      ]
     },
     "execution_count": 91,
     "metadata": {},
     "output_type": "execute_result"
    }
   ],
   "source": [
    "(160*3+160*3+160*3)"
   ]
  },
  {
   "cell_type": "code",
   "execution_count": 28,
   "id": "39e8ea51",
   "metadata": {},
   "outputs": [
    {
     "data": {
      "text/plain": [
       "236"
      ]
     },
     "execution_count": 28,
     "metadata": {},
     "output_type": "execute_result"
    }
   ],
   "source": [
    "np.random.randint(0,1600)"
   ]
  },
  {
   "cell_type": "code",
   "execution_count": 51,
   "id": "95c8293b",
   "metadata": {},
   "outputs": [
    {
     "data": {
      "text/plain": [
       "array([[1, 2, 3, 4, 5, 6],\n",
       "       [1, 2, 3, 4, 5, 6],\n",
       "       [1, 2, 3, 4, 5, 6]])"
      ]
     },
     "execution_count": 51,
     "metadata": {},
     "output_type": "execute_result"
    }
   ],
   "source": [
    "arr = np.array([[1,2,3,4,5,6],[1,2,3,4,5,6],[1,2,3,4,5,6]])\n",
    "arr"
   ]
  },
  {
   "cell_type": "code",
   "execution_count": 60,
   "id": "028eaec1",
   "metadata": {},
   "outputs": [
    {
     "data": {
      "text/plain": [
       "3"
      ]
     },
     "execution_count": 60,
     "metadata": {},
     "output_type": "execute_result"
    }
   ],
   "source": [
    "data.iloc[0] = [np.NaN for i in range(3)]\n",
    "data.head()\n",
    "len(data.iloc[0])"
   ]
  },
  {
   "cell_type": "code",
   "execution_count": 53,
   "id": "a426b7ec",
   "metadata": {},
   "outputs": [
    {
     "data": {
      "text/plain": [
       "array([[  1, 100,   3, 100,   5,   6],\n",
       "       [  1,   2,   3,   4,   5,   6],\n",
       "       [  1,   2,   3,   4,   5,   6]])"
      ]
     },
     "execution_count": 53,
     "metadata": {},
     "output_type": "execute_result"
    }
   ],
   "source": [
    "arr"
   ]
  },
  {
   "cell_type": "code",
   "execution_count": 149,
   "id": "3e83c2c3",
   "metadata": {},
   "outputs": [
    {
     "data": {
      "text/plain": [
       "(1474,)"
      ]
     },
     "execution_count": 149,
     "metadata": {},
     "output_type": "execute_result"
    }
   ],
   "source": [
    "### \n",
    "data = pd.read_csv('../coding/missF2.csv',header=None);\n",
    "data[0].shape"
   ]
  },
  {
   "cell_type": "code",
   "execution_count": 142,
   "id": "ffa3d0f3",
   "metadata": {},
   "outputs": [],
   "source": [
    "filled_zero = data.fillna(0);"
   ]
  },
  {
   "cell_type": "code",
   "execution_count": 148,
   "id": "a1507e78",
   "metadata": {},
   "outputs": [
    {
     "data": {
      "text/plain": [
       "0.10023632909393178"
      ]
     },
     "execution_count": 148,
     "metadata": {},
     "output_type": "execute_result"
    }
   ],
   "source": [
    "avg = data.mean()"
   ]
  },
  {
   "cell_type": "code",
   "execution_count": 150,
   "id": "01ab08e1",
   "metadata": {},
   "outputs": [],
   "source": [
    "for i in range(len(avg)):\n",
    "    data[i].fillna(avg[i],inplace=True)"
   ]
  },
  {
   "cell_type": "code",
   "execution_count": 151,
   "id": "e368a61f",
   "metadata": {},
   "outputs": [
    {
     "data": {
      "text/html": [
       "<div>\n",
       "<style scoped>\n",
       "    .dataframe tbody tr th:only-of-type {\n",
       "        vertical-align: middle;\n",
       "    }\n",
       "\n",
       "    .dataframe tbody tr th {\n",
       "        vertical-align: top;\n",
       "    }\n",
       "\n",
       "    .dataframe thead th {\n",
       "        text-align: right;\n",
       "    }\n",
       "</style>\n",
       "<table border=\"1\" class=\"dataframe\">\n",
       "  <thead>\n",
       "    <tr style=\"text-align: right;\">\n",
       "      <th></th>\n",
       "      <th>0</th>\n",
       "      <th>1</th>\n",
       "      <th>2</th>\n",
       "      <th>3</th>\n",
       "      <th>4</th>\n",
       "      <th>5</th>\n",
       "      <th>6</th>\n",
       "      <th>7</th>\n",
       "      <th>8</th>\n",
       "      <th>9</th>\n",
       "      <th>...</th>\n",
       "      <th>918</th>\n",
       "      <th>919</th>\n",
       "      <th>920</th>\n",
       "      <th>921</th>\n",
       "      <th>922</th>\n",
       "      <th>923</th>\n",
       "      <th>924</th>\n",
       "      <th>925</th>\n",
       "      <th>926</th>\n",
       "      <th>927</th>\n",
       "    </tr>\n",
       "  </thead>\n",
       "  <tbody>\n",
       "    <tr>\n",
       "      <th>0</th>\n",
       "      <td>0.108460</td>\n",
       "      <td>0.139790</td>\n",
       "      <td>0.164090</td>\n",
       "      <td>0.212410</td>\n",
       "      <td>0.139990</td>\n",
       "      <td>0.159740</td>\n",
       "      <td>0.133210</td>\n",
       "      <td>0.154770</td>\n",
       "      <td>0.102340</td>\n",
       "      <td>0.093976</td>\n",
       "      <td>...</td>\n",
       "      <td>0.408460</td>\n",
       "      <td>0.487300</td>\n",
       "      <td>0.447960</td>\n",
       "      <td>0.381330</td>\n",
       "      <td>0.377930</td>\n",
       "      <td>0.431360</td>\n",
       "      <td>0.343590</td>\n",
       "      <td>0.352650</td>\n",
       "      <td>0.364300</td>\n",
       "      <td>0.447580</td>\n",
       "    </tr>\n",
       "    <tr>\n",
       "      <th>1</th>\n",
       "      <td>0.096998</td>\n",
       "      <td>0.213060</td>\n",
       "      <td>0.100830</td>\n",
       "      <td>0.132360</td>\n",
       "      <td>0.093379</td>\n",
       "      <td>0.101970</td>\n",
       "      <td>0.091109</td>\n",
       "      <td>0.124210</td>\n",
       "      <td>0.069519</td>\n",
       "      <td>0.109280</td>\n",
       "      <td>...</td>\n",
       "      <td>0.374760</td>\n",
       "      <td>0.404910</td>\n",
       "      <td>0.440690</td>\n",
       "      <td>0.396130</td>\n",
       "      <td>0.394840</td>\n",
       "      <td>0.441580</td>\n",
       "      <td>0.380730</td>\n",
       "      <td>0.380380</td>\n",
       "      <td>0.417250</td>\n",
       "      <td>0.423590</td>\n",
       "    </tr>\n",
       "    <tr>\n",
       "      <th>2</th>\n",
       "      <td>0.045027</td>\n",
       "      <td>0.076644</td>\n",
       "      <td>0.164320</td>\n",
       "      <td>0.117800</td>\n",
       "      <td>0.095204</td>\n",
       "      <td>0.095636</td>\n",
       "      <td>0.154870</td>\n",
       "      <td>0.115220</td>\n",
       "      <td>0.121090</td>\n",
       "      <td>0.097014</td>\n",
       "      <td>...</td>\n",
       "      <td>0.485340</td>\n",
       "      <td>0.469110</td>\n",
       "      <td>0.466930</td>\n",
       "      <td>0.360160</td>\n",
       "      <td>0.425190</td>\n",
       "      <td>0.410980</td>\n",
       "      <td>0.512400</td>\n",
       "      <td>0.434400</td>\n",
       "      <td>0.487140</td>\n",
       "      <td>0.467390</td>\n",
       "    </tr>\n",
       "    <tr>\n",
       "      <th>3</th>\n",
       "      <td>0.123120</td>\n",
       "      <td>0.116230</td>\n",
       "      <td>0.087352</td>\n",
       "      <td>0.098424</td>\n",
       "      <td>0.107950</td>\n",
       "      <td>0.084728</td>\n",
       "      <td>0.076021</td>\n",
       "      <td>0.084370</td>\n",
       "      <td>0.087614</td>\n",
       "      <td>0.075527</td>\n",
       "      <td>...</td>\n",
       "      <td>0.372750</td>\n",
       "      <td>0.363650</td>\n",
       "      <td>0.423920</td>\n",
       "      <td>0.418650</td>\n",
       "      <td>0.472290</td>\n",
       "      <td>0.484790</td>\n",
       "      <td>0.504200</td>\n",
       "      <td>0.511020</td>\n",
       "      <td>0.535250</td>\n",
       "      <td>0.521520</td>\n",
       "    </tr>\n",
       "    <tr>\n",
       "      <th>4</th>\n",
       "      <td>0.140320</td>\n",
       "      <td>0.149090</td>\n",
       "      <td>0.165670</td>\n",
       "      <td>0.178500</td>\n",
       "      <td>0.127360</td>\n",
       "      <td>0.136250</td>\n",
       "      <td>0.133510</td>\n",
       "      <td>0.116470</td>\n",
       "      <td>0.106750</td>\n",
       "      <td>0.086654</td>\n",
       "      <td>...</td>\n",
       "      <td>0.468030</td>\n",
       "      <td>0.505250</td>\n",
       "      <td>0.406080</td>\n",
       "      <td>0.390570</td>\n",
       "      <td>0.382200</td>\n",
       "      <td>0.399100</td>\n",
       "      <td>0.434880</td>\n",
       "      <td>0.388160</td>\n",
       "      <td>0.414920</td>\n",
       "      <td>0.499680</td>\n",
       "    </tr>\n",
       "    <tr>\n",
       "      <th>...</th>\n",
       "      <td>...</td>\n",
       "      <td>...</td>\n",
       "      <td>...</td>\n",
       "      <td>...</td>\n",
       "      <td>...</td>\n",
       "      <td>...</td>\n",
       "      <td>...</td>\n",
       "      <td>...</td>\n",
       "      <td>...</td>\n",
       "      <td>...</td>\n",
       "      <td>...</td>\n",
       "      <td>...</td>\n",
       "      <td>...</td>\n",
       "      <td>...</td>\n",
       "      <td>...</td>\n",
       "      <td>...</td>\n",
       "      <td>...</td>\n",
       "      <td>...</td>\n",
       "      <td>...</td>\n",
       "      <td>...</td>\n",
       "      <td>...</td>\n",
       "    </tr>\n",
       "    <tr>\n",
       "      <th>1469</th>\n",
       "      <td>0.098801</td>\n",
       "      <td>0.121610</td>\n",
       "      <td>0.089544</td>\n",
       "      <td>0.051020</td>\n",
       "      <td>0.074765</td>\n",
       "      <td>0.061109</td>\n",
       "      <td>0.097322</td>\n",
       "      <td>0.050793</td>\n",
       "      <td>0.063312</td>\n",
       "      <td>0.049183</td>\n",
       "      <td>...</td>\n",
       "      <td>0.423440</td>\n",
       "      <td>0.250430</td>\n",
       "      <td>0.371970</td>\n",
       "      <td>0.395830</td>\n",
       "      <td>0.432220</td>\n",
       "      <td>0.307960</td>\n",
       "      <td>0.340380</td>\n",
       "      <td>0.387320</td>\n",
       "      <td>0.370870</td>\n",
       "      <td>0.300320</td>\n",
       "    </tr>\n",
       "    <tr>\n",
       "      <th>1470</th>\n",
       "      <td>0.130870</td>\n",
       "      <td>0.129040</td>\n",
       "      <td>0.079234</td>\n",
       "      <td>0.093815</td>\n",
       "      <td>0.102190</td>\n",
       "      <td>0.073211</td>\n",
       "      <td>0.120800</td>\n",
       "      <td>0.082014</td>\n",
       "      <td>0.112430</td>\n",
       "      <td>0.058710</td>\n",
       "      <td>...</td>\n",
       "      <td>0.396210</td>\n",
       "      <td>0.279930</td>\n",
       "      <td>0.431770</td>\n",
       "      <td>0.507940</td>\n",
       "      <td>0.439670</td>\n",
       "      <td>0.383190</td>\n",
       "      <td>0.400520</td>\n",
       "      <td>0.319880</td>\n",
       "      <td>0.256520</td>\n",
       "      <td>0.242870</td>\n",
       "    </tr>\n",
       "    <tr>\n",
       "      <th>1471</th>\n",
       "      <td>0.100236</td>\n",
       "      <td>0.108461</td>\n",
       "      <td>0.107290</td>\n",
       "      <td>0.103243</td>\n",
       "      <td>0.105115</td>\n",
       "      <td>0.112554</td>\n",
       "      <td>0.114478</td>\n",
       "      <td>0.108015</td>\n",
       "      <td>0.096287</td>\n",
       "      <td>0.099354</td>\n",
       "      <td>...</td>\n",
       "      <td>0.461432</td>\n",
       "      <td>0.402973</td>\n",
       "      <td>0.393801</td>\n",
       "      <td>0.447973</td>\n",
       "      <td>0.455227</td>\n",
       "      <td>0.399508</td>\n",
       "      <td>0.342073</td>\n",
       "      <td>0.386456</td>\n",
       "      <td>0.407609</td>\n",
       "      <td>0.376054</td>\n",
       "    </tr>\n",
       "    <tr>\n",
       "      <th>1472</th>\n",
       "      <td>0.074013</td>\n",
       "      <td>0.111890</td>\n",
       "      <td>0.106230</td>\n",
       "      <td>0.119160</td>\n",
       "      <td>0.064057</td>\n",
       "      <td>0.109350</td>\n",
       "      <td>0.120160</td>\n",
       "      <td>0.111510</td>\n",
       "      <td>0.076272</td>\n",
       "      <td>0.103710</td>\n",
       "      <td>...</td>\n",
       "      <td>0.393710</td>\n",
       "      <td>0.268370</td>\n",
       "      <td>0.233720</td>\n",
       "      <td>0.376330</td>\n",
       "      <td>0.350070</td>\n",
       "      <td>0.261720</td>\n",
       "      <td>0.146490</td>\n",
       "      <td>0.134610</td>\n",
       "      <td>0.205190</td>\n",
       "      <td>0.287530</td>\n",
       "    </tr>\n",
       "    <tr>\n",
       "      <th>1473</th>\n",
       "      <td>0.095907</td>\n",
       "      <td>0.054933</td>\n",
       "      <td>0.080963</td>\n",
       "      <td>0.095705</td>\n",
       "      <td>0.133960</td>\n",
       "      <td>0.088551</td>\n",
       "      <td>0.109950</td>\n",
       "      <td>0.059033</td>\n",
       "      <td>0.124690</td>\n",
       "      <td>0.085201</td>\n",
       "      <td>...</td>\n",
       "      <td>0.400900</td>\n",
       "      <td>0.245740</td>\n",
       "      <td>0.435550</td>\n",
       "      <td>0.445980</td>\n",
       "      <td>0.420360</td>\n",
       "      <td>0.375380</td>\n",
       "      <td>0.411990</td>\n",
       "      <td>0.354240</td>\n",
       "      <td>0.307630</td>\n",
       "      <td>0.290690</td>\n",
       "    </tr>\n",
       "  </tbody>\n",
       "</table>\n",
       "<p>1474 rows × 928 columns</p>\n",
       "</div>"
      ],
      "text/plain": [
       "           0         1         2         3         4         5         6    \\\n",
       "0     0.108460  0.139790  0.164090  0.212410  0.139990  0.159740  0.133210   \n",
       "1     0.096998  0.213060  0.100830  0.132360  0.093379  0.101970  0.091109   \n",
       "2     0.045027  0.076644  0.164320  0.117800  0.095204  0.095636  0.154870   \n",
       "3     0.123120  0.116230  0.087352  0.098424  0.107950  0.084728  0.076021   \n",
       "4     0.140320  0.149090  0.165670  0.178500  0.127360  0.136250  0.133510   \n",
       "...        ...       ...       ...       ...       ...       ...       ...   \n",
       "1469  0.098801  0.121610  0.089544  0.051020  0.074765  0.061109  0.097322   \n",
       "1470  0.130870  0.129040  0.079234  0.093815  0.102190  0.073211  0.120800   \n",
       "1471  0.100236  0.108461  0.107290  0.103243  0.105115  0.112554  0.114478   \n",
       "1472  0.074013  0.111890  0.106230  0.119160  0.064057  0.109350  0.120160   \n",
       "1473  0.095907  0.054933  0.080963  0.095705  0.133960  0.088551  0.109950   \n",
       "\n",
       "           7         8         9    ...       918       919       920  \\\n",
       "0     0.154770  0.102340  0.093976  ...  0.408460  0.487300  0.447960   \n",
       "1     0.124210  0.069519  0.109280  ...  0.374760  0.404910  0.440690   \n",
       "2     0.115220  0.121090  0.097014  ...  0.485340  0.469110  0.466930   \n",
       "3     0.084370  0.087614  0.075527  ...  0.372750  0.363650  0.423920   \n",
       "4     0.116470  0.106750  0.086654  ...  0.468030  0.505250  0.406080   \n",
       "...        ...       ...       ...  ...       ...       ...       ...   \n",
       "1469  0.050793  0.063312  0.049183  ...  0.423440  0.250430  0.371970   \n",
       "1470  0.082014  0.112430  0.058710  ...  0.396210  0.279930  0.431770   \n",
       "1471  0.108015  0.096287  0.099354  ...  0.461432  0.402973  0.393801   \n",
       "1472  0.111510  0.076272  0.103710  ...  0.393710  0.268370  0.233720   \n",
       "1473  0.059033  0.124690  0.085201  ...  0.400900  0.245740  0.435550   \n",
       "\n",
       "           921       922       923       924       925       926       927  \n",
       "0     0.381330  0.377930  0.431360  0.343590  0.352650  0.364300  0.447580  \n",
       "1     0.396130  0.394840  0.441580  0.380730  0.380380  0.417250  0.423590  \n",
       "2     0.360160  0.425190  0.410980  0.512400  0.434400  0.487140  0.467390  \n",
       "3     0.418650  0.472290  0.484790  0.504200  0.511020  0.535250  0.521520  \n",
       "4     0.390570  0.382200  0.399100  0.434880  0.388160  0.414920  0.499680  \n",
       "...        ...       ...       ...       ...       ...       ...       ...  \n",
       "1469  0.395830  0.432220  0.307960  0.340380  0.387320  0.370870  0.300320  \n",
       "1470  0.507940  0.439670  0.383190  0.400520  0.319880  0.256520  0.242870  \n",
       "1471  0.447973  0.455227  0.399508  0.342073  0.386456  0.407609  0.376054  \n",
       "1472  0.376330  0.350070  0.261720  0.146490  0.134610  0.205190  0.287530  \n",
       "1473  0.445980  0.420360  0.375380  0.411990  0.354240  0.307630  0.290690  \n",
       "\n",
       "[1474 rows x 928 columns]"
      ]
     },
     "execution_count": 151,
     "metadata": {},
     "output_type": "execute_result"
    }
   ],
   "source": [
    "data"
   ]
  },
  {
   "cell_type": "code",
   "execution_count": 152,
   "id": "d8e27979",
   "metadata": {},
   "outputs": [],
   "source": [
    "data.to_csv('filled_avg.csv');"
   ]
  },
  {
   "cell_type": "code",
   "execution_count": 153,
   "id": "c5fa440d",
   "metadata": {},
   "outputs": [
    {
     "data": {
      "text/plain": [
       "0.10023632909393178"
      ]
     },
     "execution_count": 153,
     "metadata": {},
     "output_type": "execute_result"
    }
   ],
   "source": [
    "avg[0]"
   ]
  },
  {
   "cell_type": "code",
   "execution_count": null,
   "id": "e097acc3",
   "metadata": {},
   "outputs": [],
   "source": [
    "# Regression >> 1 col >avg => M1 => "
   ]
  }
 ],
 "metadata": {
  "kernelspec": {
   "display_name": "Python 3",
   "language": "python",
   "name": "python3"
  },
  "language_info": {
   "codemirror_mode": {
    "name": "ipython",
    "version": 3
   },
   "file_extension": ".py",
   "mimetype": "text/x-python",
   "name": "python",
   "nbconvert_exporter": "python",
   "pygments_lexer": "ipython3",
   "version": "3.9.5"
  }
 },
 "nbformat": 4,
 "nbformat_minor": 5
}
