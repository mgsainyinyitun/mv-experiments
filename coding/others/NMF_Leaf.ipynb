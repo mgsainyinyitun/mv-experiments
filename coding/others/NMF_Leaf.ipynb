{
 "cells": [
  {
   "cell_type": "code",
   "execution_count": 1,
   "id": "128c5e68",
   "metadata": {},
   "outputs": [],
   "source": [
    "# import \n",
    "import pandas as pd\n",
    "import numpy as np;"
   ]
  },
  {
   "cell_type": "code",
   "execution_count": 54,
   "id": "017fde34",
   "metadata": {},
   "outputs": [],
   "source": [
    "# read data\n",
    "V1 = pd.read_csv('./datasets/complete-data/Leaf100/margin.csv',header=None);\n",
    "V2 = pd.read_csv('./datasets/complete-data/Leaf100/shape.csv',header=None);\n",
    "V3 = pd.read_csv('./datasets/complete-data/Leaf100/texture.csv',header=None);\n",
    "Label = pd.read_csv('./datasets/complete-data/Leaf100/label.csv',header=None);"
   ]
  },
  {
   "cell_type": "code",
   "execution_count": 55,
   "id": "53569eb6",
   "metadata": {},
   "outputs": [
    {
     "name": "stdout",
     "output_type": "stream",
     "text": [
      "(1600, 64)\n",
      "(1600, 64)\n",
      "(1600, 64)\n",
      "(1600, 1)\n"
     ]
    }
   ],
   "source": [
    "print(V1.shape)\n",
    "print(V2.shape)\n",
    "print(V3.shape)\n",
    "print(Label.shape)"
   ]
  },
  {
   "cell_type": "code",
   "execution_count": 68,
   "id": "2ca02201",
   "metadata": {},
   "outputs": [],
   "source": [
    "# Normalize \n",
    "X = [V1,V2,V3]\n",
    "X_Normalized = [];\n",
    "transformer = Normalizer();\n",
    "for V in X:\n",
    "    transformer.fit(V);\n",
    "    temp = transformer.transform(V);\n",
    "    X_Normalized.append(temp);"
   ]
  },
  {
   "cell_type": "code",
   "execution_count": 9,
   "id": "13c9e75b",
   "metadata": {},
   "outputs": [
    {
     "data": {
      "text/plain": [
       "(1599, 1)"
      ]
     },
     "execution_count": 9,
     "metadata": {},
     "output_type": "execute_result"
    }
   ],
   "source": [
    "Label.shape  # 1599 x 1"
   ]
  },
  {
   "cell_type": "code",
   "execution_count": 15,
   "id": "410fd506",
   "metadata": {},
   "outputs": [],
   "source": [
    "# NMF\n",
    "from sklearn.decomposition import NMF;\n",
    "from sklearn.cluster import KMeans;\n",
    "from sklearn.metrics import accuracy_score;\n",
    "# V = W . H   (1599 x 64 )  = (1599 x k ) (k x 64 ) 1. cluster W\n",
    "# v = W . H    (64  x 1599 ) = (64 x k ) (k x 1599) 2. cluster H"
   ]
  },
  {
   "cell_type": "code",
   "execution_count": 79,
   "id": "5cc0a879",
   "metadata": {},
   "outputs": [],
   "source": [
    "k = [2,5,6,8,10,14,20,25,30,35,40]\n",
    "km = KMeans(n_clusters=100,random_state=152);"
   ]
  },
  {
   "cell_type": "code",
   "execution_count": 80,
   "id": "b0dab362",
   "metadata": {},
   "outputs": [
    {
     "name": "stdout",
     "output_type": "stream",
     "text": [
      "Accuracy for 2 is 0.006875 . \n",
      "Accuracy for 5 is 0.006875 . \n",
      "Accuracy for 6 is 0.006875 . \n",
      "Accuracy for 8 is 0.006875 . \n",
      "Accuracy for 10 is 0.006875 . \n",
      "Accuracy for 14 is 0.006875 . \n",
      "Accuracy for 20 is 0.006875 . \n",
      "Accuracy for 25 is 0.006875 . \n",
      "Accuracy for 30 is 0.006875 . \n",
      "Accuracy for 35 is 0.006875 . \n",
      "Accuracy for 40 is 0.006875 . \n"
     ]
    }
   ],
   "source": [
    "nmf = NMF(n_components=i,init='random',max_iter=5000)\n",
    "W = [];\n",
    "for i in k:\n",
    "    for V in X_Normalized:\n",
    "        Wt = nmf.fit_transform(V1); # 1599 x k \n",
    "        W.append(Wt) \n",
    "    # find average of all view\n",
    "    W_avg = (W[0]+W[1]+W[2])/3;\n",
    "    # fit in k-means\n",
    "    km.fit(W_avg);\n",
    "    y_preds = km.predict(W_avg);\n",
    "    acc = accuracy_score(Label,y_preds);\n",
    "    print(f'Accuracy for {i} is {acc} . ')\n",
    "    "
   ]
  },
  {
   "cell_type": "code",
   "execution_count": 32,
   "id": "ce4c2dd4",
   "metadata": {},
   "outputs": [
    {
     "name": "stdout",
     "output_type": "stream",
     "text": [
      "Accuracy for 2 is 0.0050031269543464665 .\n",
      "Accuracy for 5 is 0.0068792995622263915 .\n",
      "Accuracy for 6 is 0.009380863039399626 .\n",
      "Accuracy for 8 is 0.0050031269543464665 .\n",
      "Accuracy for 10 is 0.01876172607879925 .\n",
      "Accuracy for 14 is 0.008130081300813009 .\n",
      "Accuracy for 20 is 0.008130081300813009 .\n",
      "Accuracy for 25 is 0.0150093808630394 .\n",
      "Accuracy for 30 is 0.0025015634771732333 .\n",
      "Accuracy for 35 is 0.013133208255159476 .\n",
      "Accuracy for 40 is 0.00375234521575985 .\n"
     ]
    }
   ],
   "source": [
    "for i in k:\n",
    "    W = nmf.fit_transform(V1.T);\n",
    "    H = nmf.components_ # k x 1599\n",
    "    km.fit(H.T) # 2x1599\n",
    "    y_preds = km.predict(H.T);\n",
    "    acc = accuracy_score(Label,y_preds);\n",
    "    print(f'Accuracy for {i} is {acc} .')"
   ]
  },
  {
   "cell_type": "code",
   "execution_count": 58,
   "id": "e05c3703",
   "metadata": {},
   "outputs": [
    {
     "name": "stdout",
     "output_type": "stream",
     "text": [
      "Accuracy for 2 is 0.01 . \n",
      "Accuracy for 5 is 0.0225 . \n",
      "Accuracy for 6 is 0.005 . \n",
      "Accuracy for 8 is 0.018125 . \n",
      "Accuracy for 10 is 0.009375 . \n",
      "Accuracy for 14 is 0.01125 . \n",
      "Accuracy for 20 is 0.01625 . \n",
      "Accuracy for 25 is 0.00375 . \n",
      "Accuracy for 30 is 0.003125 . \n",
      "Accuracy for 35 is 0.004375 . \n",
      "Accuracy for 40 is 0.020625 . \n"
     ]
    }
   ],
   "source": [
    "nmf = NMF(n_components=i,init='random',max_iter=3000,random_state=0)\n",
    "H = [];\n",
    "for i in k:\n",
    "    for V in X:\n",
    "        Wt = nmf.fit(V1.T); # 1599 x k\n",
    "        H.append(nmf.components_) # k x 1600\n",
    "    # find average of all view\n",
    "    H_avg = (H[0]+H[1]+H[2])/3; # k x1600\n",
    "    # fit in k-means\n",
    "    km.fit(H_avg.T); # 1600 x k \n",
    "    y_preds = km.predict(H_avg.T);\n",
    "    acc = accuracy_score(Label,y_preds);\n",
    "    print(f'Accuracy for {i} is {acc} . ')\n",
    "    "
   ]
  },
  {
   "cell_type": "code",
   "execution_count": 62,
   "id": "ce2375f7",
   "metadata": {},
   "outputs": [],
   "source": [
    "from sklearn.preprocessing import Normalizer"
   ]
  },
  {
   "cell_type": "code",
   "execution_count": 64,
   "id": "e6193c1f",
   "metadata": {},
   "outputs": [
    {
     "data": {
      "text/plain": [
       "array([[1, 2, 3],\n",
       "       [4, 5, 6],\n",
       "       [7, 8, 9]])"
      ]
     },
     "execution_count": 64,
     "metadata": {},
     "output_type": "execute_result"
    }
   ],
   "source": [
    "a =np.array([[1,2,3],[4,5,6],[7,8,9]])\n",
    "a"
   ]
  },
  {
   "cell_type": "code",
   "execution_count": 66,
   "id": "5175d823",
   "metadata": {},
   "outputs": [
    {
     "data": {
      "text/plain": [
       "Normalizer()"
      ]
     },
     "execution_count": 66,
     "metadata": {},
     "output_type": "execute_result"
    }
   ],
   "source": [
    "transformer = Normalizer().fit(a)\n",
    "transformer"
   ]
  },
  {
   "cell_type": "code",
   "execution_count": 67,
   "id": "c8e5c3b2",
   "metadata": {},
   "outputs": [
    {
     "data": {
      "text/plain": [
       "array([[0.26726124, 0.53452248, 0.80178373],\n",
       "       [0.45584231, 0.56980288, 0.68376346],\n",
       "       [0.50257071, 0.57436653, 0.64616234]])"
      ]
     },
     "execution_count": 67,
     "metadata": {},
     "output_type": "execute_result"
    }
   ],
   "source": [
    "transformer.transform(a)"
   ]
  },
  {
   "cell_type": "code",
   "execution_count": null,
   "id": "5d92c0f3",
   "metadata": {},
   "outputs": [],
   "source": []
  }
 ],
 "metadata": {
  "kernelspec": {
   "display_name": "Python 3 (ipykernel)",
   "language": "python",
   "name": "python3"
  },
  "language_info": {
   "codemirror_mode": {
    "name": "ipython",
    "version": 3
   },
   "file_extension": ".py",
   "mimetype": "text/x-python",
   "name": "python",
   "nbconvert_exporter": "python",
   "pygments_lexer": "ipython3",
   "version": "3.9.6"
  }
 },
 "nbformat": 4,
 "nbformat_minor": 5
}
