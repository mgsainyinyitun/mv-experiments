{
 "cells": [
  {
   "cell_type": "code",
   "execution_count": 1,
   "id": "b8191fe5",
   "metadata": {},
   "outputs": [],
   "source": [
    "import pandas as pd;\n",
    "import numpy as np;\n",
    "import matplotlib.pyplot as plt;"
   ]
  },
  {
   "cell_type": "code",
   "execution_count": 88,
   "id": "43d43d40",
   "metadata": {},
   "outputs": [],
   "source": [
    "# data sets\n",
    "V1 = pd.read_csv('./datasets/complete-data/Caltech/GISTFeature.csv')\n",
    "V2 = pd.read_csv('./datasets/complete-data/Caltech/LBPFeature.csv')\n",
    "Label = pd.read_csv('./datasets/complete-data/Caltech/label.csv');"
   ]
  },
  {
   "cell_type": "code",
   "execution_count": 87,
   "id": "1c5f24a1",
   "metadata": {},
   "outputs": [],
   "source": [
    "X = [V1,V2]"
   ]
  },
  {
   "cell_type": "code",
   "execution_count": 101,
   "id": "d3157dae",
   "metadata": {},
   "outputs": [],
   "source": [
    "no_feature=[2,4,6,8,10,14,20,30,35,40];"
   ]
  },
  {
   "cell_type": "code",
   "execution_count": 97,
   "id": "b86af1b5",
   "metadata": {},
   "outputs": [
    {
     "data": {
      "text/plain": [
       "2"
      ]
     },
     "execution_count": 97,
     "metadata": {},
     "output_type": "execute_result"
    }
   ],
   "source": [
    "len(X)"
   ]
  },
  {
   "cell_type": "code",
   "execution_count": 90,
   "id": "5fc7076e",
   "metadata": {},
   "outputs": [],
   "source": [
    "# Feature Reduction with NMF\n",
    "from sklearn.decomposition import NMF\n",
    "from sklearn.cluster import KMeans\n",
    "from sklearn.metrics import accuracy_score"
   ]
  },
  {
   "cell_type": "code",
   "execution_count": 116,
   "id": "6fdce57f",
   "metadata": {},
   "outputs": [
    {
     "name": "stdout",
     "output_type": "stream",
     "text": [
      "Accuracy for 2 is 0.07060420909708079 and random state is None .\n",
      "Accuracy for 4 is 0.16768499660556688 and random state is None .\n",
      "Accuracy for 6 is 0.2898845892735913 and random state is None .\n",
      "Accuracy for 8 is 0.23217922606924643 and random state is None .\n",
      "Accuracy for 10 is 0.3333333333333333 and random state is None .\n",
      "Accuracy for 14 is 0.19212491513917176 and random state is None .\n",
      "Accuracy for 20 is 0.25661914460285135 and random state is None .\n",
      "Accuracy for 30 is 0.25594025797691783 and random state is None .\n",
      "Accuracy for 35 is 0.11405295315682282 and random state is None .\n",
      "Accuracy for 40 is 0.09368635437881874 and random state is None .\n"
     ]
    }
   ],
   "source": [
    "Overall = [];\n",
    "W,H = [],[];\n",
    "for feature in no_feature:\n",
    "    for V in X:\n",
    "        # Create Model \n",
    "        nmf_model = NMF(n_components=feature,init='random',random_state=0,max_iter=3000);\n",
    "            # Fit Model\n",
    "        tempW = nmf_model.fit_transform(V);\n",
    "        # Append W value to W array\n",
    "        W.append(tempW);\n",
    "    # Calculate average of W \n",
    "    avg_W = (W[0]+W[1]) / 2\n",
    "    km = KMeans(n_clusters=7)\n",
    "    a = km.get_params()\n",
    "    rd = a['random_state'];\n",
    "    y_pred = km.fit_predict(avg_W)\n",
    "    print(f'Accuracy for {feature} is {accuracy_score(Label,y_pred)} and random state is {rd} .')\n",
    "    "
   ]
  },
  {
   "cell_type": "code",
   "execution_count": 114,
   "id": "e3461456",
   "metadata": {},
   "outputs": [
    {
     "data": {
      "text/plain": [
       "1333434"
      ]
     },
     "execution_count": 114,
     "metadata": {},
     "output_type": "execute_result"
    }
   ],
   "source": [
    "a = km.get_params()\n",
    "a['random_state']"
   ]
  },
  {
   "cell_type": "code",
   "execution_count": 72,
   "id": "6b096148",
   "metadata": {},
   "outputs": [],
   "source": [
    "y_pred = km.fit_predict(W)"
   ]
  },
  {
   "cell_type": "code",
   "execution_count": 1,
   "id": "13b960f0",
   "metadata": {},
   "outputs": [
    {
     "ename": "NameError",
     "evalue": "name 'nmf' is not defined",
     "output_type": "error",
     "traceback": [
      "\u001b[1;31m---------------------------------------------------------------------------\u001b[0m",
      "\u001b[1;31mNameError\u001b[0m                                 Traceback (most recent call last)",
      "\u001b[1;32mC:\\Users\\SAINYI~1\\AppData\\Local\\Temp/ipykernel_10712/1695755309.py\u001b[0m in \u001b[0;36m<module>\u001b[1;34m\u001b[0m\n\u001b[1;32m----> 1\u001b[1;33m \u001b[0mW\u001b[0m \u001b[1;33m=\u001b[0m \u001b[0mnmf\u001b[0m\u001b[1;33m.\u001b[0m\u001b[0mfit_transform\u001b[0m\u001b[1;33m(\u001b[0m\u001b[0mV1\u001b[0m\u001b[1;33m)\u001b[0m\u001b[1;33m\u001b[0m\u001b[1;33m\u001b[0m\u001b[0m\n\u001b[0m",
      "\u001b[1;31mNameError\u001b[0m: name 'nmf' is not defined"
     ]
    }
   ],
   "source": [
    "W = nmf.fit_transform(V1)"
   ]
  },
  {
   "cell_type": "code",
   "execution_count": null,
   "id": "79cf12fe",
   "metadata": {},
   "outputs": [],
   "source": []
  }
 ],
 "metadata": {
  "kernelspec": {
   "display_name": "Python 3 (ipykernel)",
   "language": "python",
   "name": "python3"
  },
  "language_info": {
   "codemirror_mode": {
    "name": "ipython",
    "version": 3
   },
   "file_extension": ".py",
   "mimetype": "text/x-python",
   "name": "python",
   "nbconvert_exporter": "python",
   "pygments_lexer": "ipython3",
   "version": "3.9.6"
  }
 },
 "nbformat": 4,
 "nbformat_minor": 5
}
