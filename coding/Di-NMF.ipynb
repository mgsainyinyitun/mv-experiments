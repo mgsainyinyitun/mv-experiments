{
 "cells": [
  {
   "cell_type": "code",
   "execution_count": 1,
   "id": "5542d455",
   "metadata": {},
   "outputs": [],
   "source": [
    "# import \n",
    "import pandas as pd;\n",
    "import numpy as np;"
   ]
  },
  {
   "cell_type": "code",
   "execution_count": 5,
   "id": "73332d61",
   "metadata": {},
   "outputs": [
    {
     "name": "stdout",
     "output_type": "stream",
     "text": [
      "(1474, 512)\n",
      "(1474, 928)\n"
     ]
    },
    {
     "data": {
      "text/html": [
       "<div>\n",
       "<style scoped>\n",
       "    .dataframe tbody tr th:only-of-type {\n",
       "        vertical-align: middle;\n",
       "    }\n",
       "\n",
       "    .dataframe tbody tr th {\n",
       "        vertical-align: top;\n",
       "    }\n",
       "\n",
       "    .dataframe thead th {\n",
       "        text-align: right;\n",
       "    }\n",
       "</style>\n",
       "<table border=\"1\" class=\"dataframe\">\n",
       "  <thead>\n",
       "    <tr style=\"text-align: right;\">\n",
       "      <th></th>\n",
       "      <th>0</th>\n",
       "      <th>1</th>\n",
       "      <th>2</th>\n",
       "      <th>3</th>\n",
       "      <th>4</th>\n",
       "      <th>5</th>\n",
       "      <th>6</th>\n",
       "      <th>7</th>\n",
       "      <th>8</th>\n",
       "      <th>9</th>\n",
       "      <th>...</th>\n",
       "      <th>502</th>\n",
       "      <th>503</th>\n",
       "      <th>504</th>\n",
       "      <th>505</th>\n",
       "      <th>506</th>\n",
       "      <th>507</th>\n",
       "      <th>508</th>\n",
       "      <th>509</th>\n",
       "      <th>510</th>\n",
       "      <th>511</th>\n",
       "    </tr>\n",
       "  </thead>\n",
       "  <tbody>\n",
       "    <tr>\n",
       "      <th>0</th>\n",
       "      <td>0.149860</td>\n",
       "      <td>0.049631</td>\n",
       "      <td>0.049833</td>\n",
       "      <td>0.030009</td>\n",
       "      <td>0.166100</td>\n",
       "      <td>0.045195</td>\n",
       "      <td>0.052351</td>\n",
       "      <td>0.032841</td>\n",
       "      <td>0.072760</td>\n",
       "      <td>0.067054</td>\n",
       "      <td>...</td>\n",
       "      <td>0.045340</td>\n",
       "      <td>0.038174</td>\n",
       "      <td>0.068873</td>\n",
       "      <td>0.088719</td>\n",
       "      <td>0.060006</td>\n",
       "      <td>0.046778</td>\n",
       "      <td>0.024452</td>\n",
       "      <td>0.050038</td>\n",
       "      <td>0.096785</td>\n",
       "      <td>0.070728</td>\n",
       "    </tr>\n",
       "    <tr>\n",
       "      <th>1</th>\n",
       "      <td>0.168870</td>\n",
       "      <td>0.082086</td>\n",
       "      <td>0.167050</td>\n",
       "      <td>0.109790</td>\n",
       "      <td>0.113190</td>\n",
       "      <td>0.045916</td>\n",
       "      <td>0.050687</td>\n",
       "      <td>0.031878</td>\n",
       "      <td>0.207420</td>\n",
       "      <td>0.102760</td>\n",
       "      <td>...</td>\n",
       "      <td>0.118360</td>\n",
       "      <td>0.075107</td>\n",
       "      <td>0.081991</td>\n",
       "      <td>0.046442</td>\n",
       "      <td>0.163500</td>\n",
       "      <td>0.110060</td>\n",
       "      <td>0.112140</td>\n",
       "      <td>0.085244</td>\n",
       "      <td>0.079044</td>\n",
       "      <td>0.051326</td>\n",
       "    </tr>\n",
       "    <tr>\n",
       "      <th>2</th>\n",
       "      <td>0.031449</td>\n",
       "      <td>0.038602</td>\n",
       "      <td>0.040515</td>\n",
       "      <td>0.064938</td>\n",
       "      <td>0.024486</td>\n",
       "      <td>0.064542</td>\n",
       "      <td>0.038623</td>\n",
       "      <td>0.055522</td>\n",
       "      <td>0.035708</td>\n",
       "      <td>0.034724</td>\n",
       "      <td>...</td>\n",
       "      <td>0.040049</td>\n",
       "      <td>0.055716</td>\n",
       "      <td>0.054746</td>\n",
       "      <td>0.068624</td>\n",
       "      <td>0.043013</td>\n",
       "      <td>0.089594</td>\n",
       "      <td>0.009888</td>\n",
       "      <td>0.060689</td>\n",
       "      <td>0.055650</td>\n",
       "      <td>0.049560</td>\n",
       "    </tr>\n",
       "    <tr>\n",
       "      <th>3</th>\n",
       "      <td>0.062685</td>\n",
       "      <td>0.069544</td>\n",
       "      <td>0.061907</td>\n",
       "      <td>0.038404</td>\n",
       "      <td>0.052422</td>\n",
       "      <td>0.041499</td>\n",
       "      <td>0.053826</td>\n",
       "      <td>0.048148</td>\n",
       "      <td>0.034058</td>\n",
       "      <td>0.040677</td>\n",
       "      <td>...</td>\n",
       "      <td>0.085608</td>\n",
       "      <td>0.071643</td>\n",
       "      <td>0.119500</td>\n",
       "      <td>0.058825</td>\n",
       "      <td>0.082927</td>\n",
       "      <td>0.062791</td>\n",
       "      <td>0.048369</td>\n",
       "      <td>0.044633</td>\n",
       "      <td>0.069152</td>\n",
       "      <td>0.102740</td>\n",
       "    </tr>\n",
       "    <tr>\n",
       "      <th>4</th>\n",
       "      <td>0.062920</td>\n",
       "      <td>0.034458</td>\n",
       "      <td>0.015966</td>\n",
       "      <td>0.022567</td>\n",
       "      <td>0.127380</td>\n",
       "      <td>0.098888</td>\n",
       "      <td>0.062020</td>\n",
       "      <td>0.031535</td>\n",
       "      <td>0.049430</td>\n",
       "      <td>0.058208</td>\n",
       "      <td>...</td>\n",
       "      <td>0.029204</td>\n",
       "      <td>0.038763</td>\n",
       "      <td>0.047977</td>\n",
       "      <td>0.071451</td>\n",
       "      <td>0.072366</td>\n",
       "      <td>0.055249</td>\n",
       "      <td>0.028656</td>\n",
       "      <td>0.041247</td>\n",
       "      <td>0.110050</td>\n",
       "      <td>0.054509</td>\n",
       "    </tr>\n",
       "  </tbody>\n",
       "</table>\n",
       "<p>5 rows × 512 columns</p>\n",
       "</div>"
      ],
      "text/plain": [
       "        0         1         2         3         4         5         6    \\\n",
       "0  0.149860  0.049631  0.049833  0.030009  0.166100  0.045195  0.052351   \n",
       "1  0.168870  0.082086  0.167050  0.109790  0.113190  0.045916  0.050687   \n",
       "2  0.031449  0.038602  0.040515  0.064938  0.024486  0.064542  0.038623   \n",
       "3  0.062685  0.069544  0.061907  0.038404  0.052422  0.041499  0.053826   \n",
       "4  0.062920  0.034458  0.015966  0.022567  0.127380  0.098888  0.062020   \n",
       "\n",
       "        7         8         9    ...       502       503       504       505  \\\n",
       "0  0.032841  0.072760  0.067054  ...  0.045340  0.038174  0.068873  0.088719   \n",
       "1  0.031878  0.207420  0.102760  ...  0.118360  0.075107  0.081991  0.046442   \n",
       "2  0.055522  0.035708  0.034724  ...  0.040049  0.055716  0.054746  0.068624   \n",
       "3  0.048148  0.034058  0.040677  ...  0.085608  0.071643  0.119500  0.058825   \n",
       "4  0.031535  0.049430  0.058208  ...  0.029204  0.038763  0.047977  0.071451   \n",
       "\n",
       "        506       507       508       509       510       511  \n",
       "0  0.060006  0.046778  0.024452  0.050038  0.096785  0.070728  \n",
       "1  0.163500  0.110060  0.112140  0.085244  0.079044  0.051326  \n",
       "2  0.043013  0.089594  0.009888  0.060689  0.055650  0.049560  \n",
       "3  0.082927  0.062791  0.048369  0.044633  0.069152  0.102740  \n",
       "4  0.072366  0.055249  0.028656  0.041247  0.110050  0.054509  \n",
       "\n",
       "[5 rows x 512 columns]"
      ]
     },
     "execution_count": 5,
     "metadata": {},
     "output_type": "execute_result"
    }
   ],
   "source": [
    "# Datasets\n",
    "X1 = pd.read_csv('../datasets/complete-data/Caltech/GISTFeature.csv',header=None);\n",
    "X2 = pd.read_csv('../datasets/complete-data/Caltech/LBPFeature.csv',header=None);\n",
    "print(X1.shape) # (1474, 512)\n",
    "print(X2.shape) # (1474,928)\n",
    "X1.head()"
   ]
  },
  {
   "cell_type": "code",
   "execution_count": 54,
   "id": "5e94f161",
   "metadata": {},
   "outputs": [],
   "source": [
    "# Normalize\n",
    "from sklearn.preprocessing import Normalizer\n",
    "transformer = Normalizer();\n",
    "Xn1 = transformer.transform(X1).T\n",
    "Xn2 = transformer.transform(X2).T"
   ]
  },
  {
   "cell_type": "code",
   "execution_count": 55,
   "id": "5fd6f566",
   "metadata": {},
   "outputs": [],
   "source": [
    "np.random.seed(123)\n",
    "import numpy.matlib\n",
    "Ht = np.matlib.rand(V[0].shape)"
   ]
  },
  {
   "cell_type": "code",
   "execution_count": 56,
   "id": "32d868e3",
   "metadata": {},
   "outputs": [],
   "source": [
    "V = [Xn1,Xn2];"
   ]
  },
  {
   "cell_type": "code",
   "execution_count": 68,
   "id": "1cf6f452",
   "metadata": {},
   "outputs": [
    {
     "data": {
      "text/plain": [
       "(512, 1474)"
      ]
     },
     "execution_count": 68,
     "metadata": {},
     "output_type": "execute_result"
    }
   ],
   "source": [
    "V[0].shape  # 10x 1474\n",
    "# H => 10 x 1474\n",
    "# w => 1474 x 10\n"
   ]
  },
  {
   "cell_type": "code",
   "execution_count": null,
   "id": "87356bd7",
   "metadata": {},
   "outputs": [],
   "source": [
    "# 512 x 1474 => (512 x 10) x (10 x 1474)\n",
    "#      X     =>   W      x   H"
   ]
  },
  {
   "cell_type": "code",
   "execution_count": 182,
   "id": "042eb340",
   "metadata": {},
   "outputs": [],
   "source": [
    "# random H1,H2, W1,W2 # k = 5\n",
    "H=[]\n",
    "W=[]\n",
    "for i in range(len(V)):\n",
    "    sh = V[i].shape\n",
    "    Wt = np.matlib.rand(sh[0],10)\n",
    "    Ht = np.matlib.rand(sh[1],10).T\n",
    "    W.append(Wt);\n",
    "    H.append(Ht);\n",
    "    "
   ]
  },
  {
   "cell_type": "code",
   "execution_count": 170,
   "id": "bfc75f9e",
   "metadata": {},
   "outputs": [
    {
     "name": "stdout",
     "output_type": "stream",
     "text": [
      "(512, 10)\n",
      "(10, 1474)\n"
     ]
    }
   ],
   "source": [
    "print(W[0].shape)\n",
    "print(H[0].shape)"
   ]
  },
  {
   "cell_type": "code",
   "execution_count": 7,
   "id": "ebcb4a85",
   "metadata": {},
   "outputs": [],
   "source": [
    "# update H\n",
    "# 1474 x something\n",
    "\n",
    "# W = (512 x 10)\n",
    "# X = (512 x 1474)\n",
    "# HF = (10 x 1474)\n",
    "# H = list [10 x 1470][10 x 1470]\n",
    "# view =  0\n",
    "\n",
    "# up => (10 x 512 )(512 x 1474) => (10 x 1474)\n",
    "# mid => (10  x 14704 )\n",
    "# other => (10 x 512)(512x 10)(10 x 1470) => (10 x 1474)\n",
    "# mid + other > (10 x 1470)\n",
    "# final > (10 x 1470)\n",
    "\n",
    "\n",
    "def h_coefficient_matrix(W,X,HF,alpha,beta,H,view_no):\n",
    "    # Upper calculation\n",
    "    up= 2*(W.T)*X # 512 x 1474 * 1474 x 512 => 512 x 512\n",
    "    # for middle loop\n",
    "    mid_H=0;\n",
    "    for i in range(len(H)): # [H0, H1]\n",
    "        if(i == view_no):\n",
    "            continue;\n",
    "        mid_H = mid_H + H[i];\n",
    "    mid_H = alpha*mid_H;\n",
    "    down = (2*W.T*(W)*HF)+2*beta*HF+mid_H; # H => previous H\n",
    "    final = up/down;\n",
    "    return final;"
   ]
  },
  {
   "cell_type": "code",
   "execution_count": 8,
   "id": "e9755e2a",
   "metadata": {},
   "outputs": [],
   "source": [
    "# W = (512 x 10)\n",
    "# X = (512 x 1474)\n",
    "# HF = (10 x 1474)\n",
    "# H = list [10 x 1470][10 x 1470]\n",
    "# view =  0\n",
    "\n",
    "# up => 512x1474 ) (1474 x 10 ) => 512 x 10\n",
    "# dow => 512 x 10 )( 10x1474 ) (1474 x 10) => 512 x 10\n",
    "\n",
    "def w_cofficient_matrix(X,H,W):\n",
    "    up = X * (H.T);\n",
    "    down = W * H * (H.T)\n",
    "    final = up/down\n",
    "    return final;\n",
    "    \n",
    "    "
   ]
  },
  {
   "cell_type": "code",
   "execution_count": 10,
   "id": "f6a0c0b5",
   "metadata": {},
   "outputs": [
    {
     "data": {
      "text/plain": [
       "0.5"
      ]
     },
     "execution_count": 10,
     "metadata": {},
     "output_type": "execute_result"
    }
   ],
   "source": [
    "from sklearn.metrics.pairwise import euclidean_distances\n",
    "x = np.array([[1,2],[3,4.5]])\n",
    "y = np.array([[1,2.1],[3,4]])\n",
    "d = euclidean_distances(x,y)\n",
    "di = [];\n",
    "for i in range(2):\n",
    "    di.append(d[i][i])\n",
    "di\n",
    "max(di)"
   ]
  },
  {
   "cell_type": "code",
   "execution_count": 124,
   "id": "ce50907f",
   "metadata": {},
   "outputs": [
    {
     "data": {
      "text/plain": [
       "512"
      ]
     },
     "execution_count": 124,
     "metadata": {},
     "output_type": "execute_result"
    }
   ],
   "source": [
    "a = V[0].shape\n",
    "a[0]"
   ]
  },
  {
   "cell_type": "code",
   "execution_count": 164,
   "id": "80abe69c",
   "metadata": {},
   "outputs": [
    {
     "data": {
      "text/plain": [
       "(10, 1474)"
      ]
     },
     "execution_count": 164,
     "metadata": {},
     "output_type": "execute_result"
    }
   ],
   "source": [
    "np.multiply(H[0],H[1]).shape"
   ]
  },
  {
   "cell_type": "code",
   "execution_count": 5,
   "id": "aaeaf092",
   "metadata": {},
   "outputs": [],
   "source": [
    "# W = (512 x 10)\n",
    "# X = (512 x 1474)\n",
    "# HF = (10 x 1474)\n",
    "\n",
    "def findError(X,W,H):\n",
    "    loop = X.shape\n",
    "    loop = loop[1];\n",
    "    sumz = 0;\n",
    "    L =W*H ; # 512 x 10 10x 1474 => 512 x 1474\n",
    "    L = L.T;\n",
    "    X = X.T;\n",
    "    error = euclidean_distances(X,L);\n",
    "    DI= [];\n",
    "    for i in range(loop):\n",
    "        DI.append(error[i][i])\n",
    "        \n",
    "    return max(DI),np.average(DI);"
   ]
  },
  {
   "cell_type": "code",
   "execution_count": 184,
   "id": "506261af",
   "metadata": {},
   "outputs": [
    {
     "name": "stdout",
     "output_type": "stream",
     "text": [
      "End of View  0\n",
      "Error:: of Iteration 1 =>  Maximum Error:  0.751517807097332  &&& Average Error: 0.35438022162617594\n",
      "Error:: of Iteration 2 =>  Maximum Error:  0.6979994206838757  &&& Average Error: 0.33770054822138745\n",
      "Error:: of Iteration 3 =>  Maximum Error:  0.6939661073771007  &&& Average Error: 0.3355179157595168\n",
      "Error:: of Iteration 4 =>  Maximum Error:  0.6899264035419238  &&& Average Error: 0.3333945430288152\n",
      "Error:: of Iteration 5 =>  Maximum Error:  0.6849025416893237  &&& Average Error: 0.3310956330389493\n",
      "Error:: of Iteration 6 =>  Maximum Error:  0.6784549063826059  &&& Average Error: 0.3284326542644478\n",
      "Error:: of Iteration 7 =>  Maximum Error:  0.6701242122794869  &&& Average Error: 0.3251911503218026\n",
      "Error:: of Iteration 8 =>  Maximum Error:  0.6594635979756991  &&& Average Error: 0.32113802383597395\n",
      "Error:: of Iteration 9 =>  Maximum Error:  0.6461736408030081  &&& Average Error: 0.3160565964373361\n",
      "Error:: of Iteration 10 =>  Maximum Error:  0.6303215231479009  &&& Average Error: 0.3098163582403696\n",
      "Error:: of Iteration 11 =>  Maximum Error:  0.6125680725017186  &&& Average Error: 0.3024673304764751\n",
      "Error:: of Iteration 12 =>  Maximum Error:  0.5942191193313292  &&& Average Error: 0.2943133894288655\n",
      "Error:: of Iteration 13 =>  Maximum Error:  0.5849528157425272  &&& Average Error: 0.28589380976563933\n",
      "Error:: of Iteration 14 =>  Maximum Error:  0.5800664553392184  &&& Average Error: 0.277839097497683\n",
      "Error:: of Iteration 15 =>  Maximum Error:  0.5769992452272316  &&& Average Error: 0.2706664528305178\n",
      "Error:: of Iteration 16 =>  Maximum Error:  0.575420192780181  &&& Average Error: 0.26464172732558094\n",
      "Error:: of Iteration 17 =>  Maximum Error:  0.5748854892748644  &&& Average Error: 0.2597761706166415\n",
      "Error:: of Iteration 18 =>  Maximum Error:  0.5749886353176773  &&& Average Error: 0.25591720498024234\n",
      "Error:: of Iteration 19 =>  Maximum Error:  0.5754212273722437  &&& Average Error: 0.25285139087336805\n",
      "Error:: of Iteration 20 =>  Maximum Error:  0.5759735415758548  &&& Average Error: 0.25037209115672177\n",
      "Error:: of Iteration 21 =>  Maximum Error:  0.5765125434739382  &&& Average Error: 0.2483083509159309\n",
      "Error:: of Iteration 22 =>  Maximum Error:  0.5769581187996979  &&& Average Error: 0.24652982529297424\n",
      "Error:: of Iteration 23 =>  Maximum Error:  0.5772643266004217  &&& Average Error: 0.24494159691992373\n",
      "Error:: of Iteration 24 =>  Maximum Error:  0.5774063037133443  &&& Average Error: 0.24347664001879243\n",
      "Error:: of Iteration 25 =>  Maximum Error:  0.5773717231563681  &&& Average Error: 0.24208906303288477\n",
      "Error:: of Iteration 26 =>  Maximum Error:  0.5771555464345645  &&& Average Error: 0.2407488998046057\n",
      "Error:: of Iteration 27 =>  Maximum Error:  0.576757019169704  &&& Average Error: 0.23943828419293495\n",
      "Error:: of Iteration 28 =>  Maximum Error:  0.5761781049655647  &&& Average Error: 0.238148587386418\n",
      "Error:: of Iteration 29 =>  Maximum Error:  0.5754227647548029  &&& Average Error: 0.23687812092341914\n",
      "Error:: of Iteration 30 =>  Maximum Error:  0.5744966608486898  &&& Average Error: 0.2356301329241471\n",
      "Error:: of Iteration 31 =>  Maximum Error:  0.5734070031199366  &&& Average Error: 0.23441097069209862\n",
      "Error:: of Iteration 32 =>  Maximum Error:  0.5721623679050013  &&& Average Error: 0.23322840695460093\n",
      "Error:: of Iteration 33 =>  Maximum Error:  0.5707724137233492  &&& Average Error: 0.23209020341434586\n",
      "Error:: of Iteration 34 =>  Maximum Error:  0.5692474918842589  &&& Average Error: 0.23100300365038\n",
      "Error:: of Iteration 35 =>  Maximum Error:  0.5675982009752579  &&& Average Error: 0.22997161577500383\n",
      "Error:: of Iteration 36 =>  Maximum Error:  0.5658349588309587  &&& Average Error: 0.2289986865391398\n",
      "End of View  1\n"
     ]
    }
   ],
   "source": [
    "alpha = 0.0001;\n",
    "beta = 0.0001;\n",
    "iteration = 0;\n",
    "\n",
    "for index,X in enumerate(V): # X1, X2\n",
    "    max_E , avg_E = findError(X,W[index],H[index]);\n",
    "    while( max_E >= 0.566): # 0.5 \n",
    "        # updata H \n",
    "        H[index] =  np.multiply(H[index],h_coefficient_matrix(W[index],X,H[index],alpha,beta,H,index));\n",
    "        # update W\n",
    "        W[index] =  np.multiply(W[index],w_cofficient_matrix(X,H[index],W[index]));\n",
    "        # increase number of iteration\n",
    "        iteration = iteration + 1;\n",
    "        # display info\n",
    "        max_E , avg_E = findError(X,W[index],H[index]);\n",
    "        print(f\"Error:: of Iteration {iteration} => \",\"Maximum Error: \",max_E,\" &&& Average Error:\",avg_E);\n",
    "        # End of View or End of While Loop;\n",
    "    # inside For Loop for View\n",
    "    print('End of View ',index)\n",
    "    "
   ]
  },
  {
   "cell_type": "code",
   "execution_count": 213,
   "id": "161125c0",
   "metadata": {},
   "outputs": [
    {
     "data": {
      "text/plain": [
       "matrix([[0.00865075, 0.00817312, 0.00267336, ..., 0.00063916, 0.00151358,\n",
       "         0.00358691],\n",
       "        [0.01105359, 0.00723174, 0.01081549, ..., 0.00418431, 0.0073252 ,\n",
       "         0.00718541],\n",
       "        [0.00688953, 0.01228485, 0.00795208, ..., 0.00669529, 0.0059402 ,\n",
       "         0.0021677 ]])"
      ]
     },
     "execution_count": 213,
     "metadata": {},
     "output_type": "execute_result"
    }
   ],
   "source": [
    "# find avearage of H => H*\n",
    "\n",
    "# initialize all to 0 with H dimenstion\n",
    "sum_H = np.zeros(H[0].shape);\n",
    "\n",
    "for h in H:\n",
    "    sum_H = sum_H + h;\n",
    "\n",
    "# Average of all H ;\n",
    "H_star = sum_H/len(H);\n"
   ]
  },
  {
   "cell_type": "markdown",
   "id": "f9728446",
   "metadata": {},
   "source": [
    "## Overall Coding\n",
    "1. Load Data\n",
    "2. Normalize\n",
    "3. Randomize H and W\n",
    "4. Find H and W\n",
    "5. Averaging H\n",
    "\n",
    "> input => multiview dataset V, alpha , beta;\n",
    "\n",
    "> output => H*"
   ]
  },
  {
   "cell_type": "code",
   "execution_count": 1,
   "id": "a0eba30c",
   "metadata": {},
   "outputs": [],
   "source": [
    "# 0. Import All requirements\n",
    "import pandas as pd;\n",
    "import numpy as np;\n",
    "import numpy.matlib;\n",
    "from sklearn.preprocessing import Normalizer"
   ]
  },
  {
   "cell_type": "code",
   "execution_count": 2,
   "id": "a9c41e48",
   "metadata": {},
   "outputs": [],
   "source": [
    "# 1 & 2. Load Data and Normalize\n",
    "#\n",
    "# LOAD\n",
    "# \n",
    "X1 = pd.read_csv('../datasets/complete-data/Caltech/GISTFeature.csv',header=None);\n",
    "X2 = pd.read_csv('../datasets/complete-data/Caltech/LBPFeature.csv',header=None);\n",
    "# NORMALIZE\n",
    "#\n",
    "transformer = Normalizer();\n",
    "Xn1 = transformer.transform(X1).T\n",
    "Xn2 = transformer.transform(X2).T\n",
    "# COMBINE\n",
    "#\n",
    "V = [Xn1,Xn2];"
   ]
  },
  {
   "cell_type": "code",
   "execution_count": 14,
   "id": "5607be51",
   "metadata": {},
   "outputs": [],
   "source": [
    "# 3. Random value of H and W for all View\n",
    "num_of_dimension = 10;  # Change this to test with other dimension :\n",
    "H=[]\n",
    "W=[]\n",
    "\n",
    "for i in range(len(V)):\n",
    "    sh = V[i].shape\n",
    "    Wt = np.matlib.rand(sh[0],num_of_dimension)\n",
    "    Ht = np.matlib.rand(sh[1],num_of_dimension).T\n",
    "    W.append(Wt);\n",
    "    H.append(Ht);\n",
    "# End of H and W Randomization"
   ]
  },
  {
   "cell_type": "code",
   "execution_count": 15,
   "id": "7eb09439",
   "metadata": {},
   "outputs": [
    {
     "name": "stdout",
     "output_type": "stream",
     "text": [
      "Error:: of Iteration 1 =>  Maximum Error:  0.8628712518999498  &&& Average Error: 0.4519839235401925\n",
      "Error:: of Iteration 2 =>  Maximum Error:  0.8579897814003695  &&& Average Error: 0.44705776236865896\n",
      "Error:: of Iteration 3 =>  Maximum Error:  0.8575514601207841  &&& Average Error: 0.4459614669187957\n",
      "Error:: of Iteration 4 =>  Maximum Error:  0.8571087544958778  &&& Average Error: 0.4449895895677228\n",
      "Error:: of Iteration 5 =>  Maximum Error:  0.8566875102068761  &&& Average Error: 0.44407102685281324\n",
      "Error:: of Iteration 6 =>  Maximum Error:  0.8562676589352627  &&& Average Error: 0.4431621201607246\n",
      "Error:: of Iteration 7 =>  Maximum Error:  0.855827309536202  &&& Average Error: 0.4422164361089687\n",
      "Error:: of Iteration 8 =>  Maximum Error:  0.8553430193362042  &&& Average Error: 0.4411780162683457\n",
      "Error:: of Iteration 9 =>  Maximum Error:  0.854788141569047  &&& Average Error: 0.43997459456935467\n",
      "Error:: of Iteration 10 =>  Maximum Error:  0.8541319582026379  &&& Average Error: 0.43850963657344316\n",
      "Error:: of Iteration 11 =>  Maximum Error:  0.8533408326348854  &&& Average Error: 0.43665379548030236\n",
      "Error:: of Iteration 12 =>  Maximum Error:  0.8523834865072992  &&& Average Error: 0.43423847734452803\n",
      "Error:: of Iteration 13 =>  Maximum Error:  0.8512431626453059  &&& Average Error: 0.4310581502608031\n",
      "Error:: of Iteration 14 =>  Maximum Error:  0.849937608681189  &&& Average Error: 0.4268936755113612\n",
      "Error:: of Iteration 15 =>  Maximum Error:  0.8485396021800264  &&& Average Error: 0.42157201789651016\n",
      "Error:: of Iteration 16 =>  Maximum Error:  0.847176142912776  &&& Average Error: 0.41506566229822955\n",
      "Error:: of Iteration 17 =>  Maximum Error:  0.8459817256158737  &&& Average Error: 0.40759368211304103\n",
      "Error:: of Iteration 18 =>  Maximum Error:  0.8450203998088063  &&& Average Error: 0.39963662527415156\n",
      "Error:: of Iteration 19 =>  Maximum Error:  0.8442448096801765  &&& Average Error: 0.3918016324308336\n",
      "Error:: of Iteration 20 =>  Maximum Error:  0.843533542263618  &&& Average Error: 0.38460506411292683\n",
      "Error:: of Iteration 21 =>  Maximum Error:  0.8427615222050696  &&& Average Error: 0.3783274385086207\n",
      "Error:: of Iteration 22 =>  Maximum Error:  0.8418427795290236  &&& Average Error: 0.3730130096552255\n",
      "Error:: of Iteration 23 =>  Maximum Error:  0.8407351039692258  &&& Average Error: 0.36855771652374436\n",
      "Error:: of Iteration 24 =>  Maximum Error:  0.839425716570576  &&& Average Error: 0.36480136704550103\n",
      "Error:: of Iteration 25 =>  Maximum Error:  0.8379148222567611  &&& Average Error: 0.36158513506576373\n",
      "Error:: of Iteration 26 =>  Maximum Error:  0.836204095579015  &&& Average Error: 0.35877558114091795\n",
      "Error:: of Iteration 27 =>  Maximum Error:  0.8342907486010027  &&& Average Error: 0.3562691064519857\n",
      "Error:: of Iteration 28 =>  Maximum Error:  0.8321655793630308  &&& Average Error: 0.353988203713079\n",
      "Error:: of Iteration 29 =>  Maximum Error:  0.8298134152970233  &&& Average Error: 0.3518754548077612\n",
      "Error:: of Iteration 30 =>  Maximum Error:  0.8272149208284093  &&& Average Error: 0.34988785070968825\n",
      "Error:: of Iteration 31 =>  Maximum Error:  0.8243491920173377  &&& Average Error: 0.34799264990015855\n",
      "Error:: of Iteration 32 =>  Maximum Error:  0.8211969253982269  &&& Average Error: 0.3461650285946746\n",
      "Error:: of Iteration 33 =>  Maximum Error:  0.8177441065951536  &&& Average Error: 0.34438689533979483\n",
      "Error:: of Iteration 34 =>  Maximum Error:  0.8139859652015485  &&& Average Error: 0.3426460952904078\n",
      "Error:: of Iteration 35 =>  Maximum Error:  0.8099305564555733  &&& Average Error: 0.3409356085410316\n",
      "Error:: of Iteration 36 =>  Maximum Error:  0.8056010571745479  &&& Average Error: 0.33925265613127187\n",
      "Error:: of Iteration 37 =>  Maximum Error:  0.8010359098027778  &&& Average Error: 0.3375977351207979\n",
      "Error:: of Iteration 38 =>  Maximum Error:  0.7962863944948746  &&& Average Error: 0.3359736281489925\n",
      "Error:: of Iteration 39 =>  Maximum Error:  0.7914119460332193  &&& Average Error: 0.33438444523189725\n",
      "Error:: of Iteration 40 =>  Maximum Error:  0.7864742433461289  &&& Average Error: 0.33283476501460796\n",
      "Error:: of Iteration 41 =>  Maximum Error:  0.7815314284447682  &&& Average Error: 0.33132894200849705\n",
      "Error:: of Iteration 42 =>  Maximum Error:  0.7766336182066308  &&& Average Error: 0.32987063055645\n",
      "Error:: of Iteration 43 =>  Maximum Error:  0.771820322468489  &&& Average Error: 0.328462544117159\n",
      "Error:: of Iteration 44 =>  Maximum Error:  0.7671197865349164  &&& Average Error: 0.3271064237525505\n",
      "Error:: of Iteration 45 =>  Maximum Error:  0.7625498625248862  &&& Average Error: 0.3258031451466697\n",
      "Error:: of Iteration 46 =>  Maximum Error:  0.7581198381699724  &&& Average Error: 0.32455287094786694\n",
      "Error:: of Iteration 47 =>  Maximum Error:  0.7538326598130088  &&& Average Error: 0.32335517428012717\n",
      "Error:: of Iteration 48 =>  Maximum Error:  0.7496870986335675  &&& Average Error: 0.32220911386276796\n",
      "Error:: of Iteration 49 =>  Maximum Error:  0.745679560444365  &&& Average Error: 0.3211132909930298\n",
      "Error:: of Iteration 50 =>  Maximum Error:  0.7418053892630936  &&& Average Error: 0.3200659249991837\n",
      "Error:: of Iteration 51 =>  Maximum Error:  0.738059644737735  &&& Average Error: 0.3190649542882801\n",
      "Error:: of Iteration 52 =>  Maximum Error:  0.73443743489886  &&& Average Error: 0.31810814443762925\n",
      "Error:: of Iteration 53 =>  Maximum Error:  0.7309339489613729  &&& Average Error: 0.3171931835765734\n",
      "Error:: of Iteration 54 =>  Maximum Error:  0.7275443508188955  &&& Average Error: 0.3163177576446811\n",
      "Error:: of Iteration 55 =>  Maximum Error:  0.7242636645566121  &&& Average Error: 0.31547960760038746\n",
      "Error:: of Iteration 56 =>  Maximum Error:  0.7210867269460471  &&& Average Error: 0.3146765727291849\n",
      "Error:: of Iteration 57 =>  Maximum Error:  0.7180082243632359  &&& Average Error: 0.31390662253681345\n",
      "Error:: of Iteration 58 =>  Maximum Error:  0.7150227925057203  &&& Average Error: 0.31316787818115105\n",
      "Error:: of Iteration 59 =>  Maximum Error:  0.7121251424264888  &&& Average Error: 0.31245862417272674\n",
      "Error:: of Iteration 60 =>  Maximum Error:  0.7093101800569426  &&& Average Error: 0.31177731158094574\n",
      "Error:: of Iteration 61 =>  Maximum Error:  0.7065730987175343  &&& Average Error: 0.3111225544199014\n",
      "Error:: of Iteration 62 =>  Maximum Error:  0.7039094370516773  &&& Average Error: 0.3104931209478111\n",
      "Error:: of Iteration 63 =>  Maximum Error:  0.7013151042125246  &&& Average Error: 0.3098879214227009\n",
      "Error:: of Iteration 64 =>  Maximum Error:  0.6987863790985879  &&& Average Error: 0.30930599360912947\n",
      "Error:: of Iteration 65 =>  Maximum Error:  0.6963198918240758  &&& Average Error: 0.308746487053508\n",
      "Error:: of Iteration 66 =>  Maximum Error:  0.6939125947741783  &&& Average Error: 0.30820864674124165\n",
      "Error:: of Iteration 67 =>  Maximum Error:  0.6915617287647172  &&& Average Error: 0.30769179621368387\n",
      "Error:: of Iteration 68 =>  Maximum Error:  0.689264787933453  &&& Average Error: 0.30719531979335934\n",
      "Error:: of Iteration 69 =>  Maximum Error:  0.6870194856515766  &&& Average Error: 0.30671864360899126\n",
      "Error:: of Iteration 70 =>  Maximum Error:  0.6848237232076659  &&& Average Error: 0.30626121580594035\n",
      "Error:: of Iteration 71 =>  Maximum Error:  0.6826755631073136  &&& Average Error: 0.30582248740754336\n",
      "Error:: of Iteration 72 =>  Maximum Error:  0.6805732090168704  &&& Average Error: 0.3054018961254131\n",
      "Error:: of Iteration 73 =>  Maximum Error:  0.6785149940439575  &&& Average Error: 0.3049988554050805\n",
      "Error:: of Iteration 74 =>  Maximum Error:  0.6764993778649944  &&& Average Error: 0.3046127500045994\n",
      "Error:: of Iteration 75 =>  Maximum Error:  0.6745249513713701  &&& Average Error: 0.3042429378735424\n",
      "Error:: of Iteration 76 =>  Maximum Error:  0.672590445629388  &&& Average Error: 0.30388875673607124\n",
      "Error:: of Iteration 77 =>  Maximum Error:  0.6706947407426888  &&& Average Error: 0.3035495331195013\n",
      "Error:: of Iteration 78 =>  Maximum Error:  0.6688368701137514  &&& Average Error: 0.3032245917115708\n",
      "Error:: of Iteration 79 =>  Maximum Error:  0.6670160166364062  &&& Average Error: 0.30291326360206994\n",
      "Error:: of Iteration 80 =>  Maximum Error:  0.6652314991563624  &&& Average Error: 0.30261489276477455\n",
      "Error:: of Iteration 81 =>  Maximum Error:  0.6634827495753102  &&& Average Error: 0.3023288407585374\n",
      "Error:: of Iteration 82 =>  Maximum Error:  0.6617692827364726  &&& Average Error: 0.3020544899548268\n"
     ]
    },
    {
     "name": "stdout",
     "output_type": "stream",
     "text": [
      "Error:: of Iteration 83 =>  Maximum Error:  0.6600906623707221  &&& Average Error: 0.30179124567135146\n",
      "Error:: of Iteration 84 =>  Maximum Error:  0.6584464667743408  &&& Average Error: 0.301538537517594\n",
      "Error:: of Iteration 85 =>  Maximum Error:  0.6568362575989172  &&& Average Error: 0.30129582014590495\n",
      "Error:: of Iteration 86 =>  Maximum Error:  0.6552595543554656  &&& Average Error: 0.3010625735183623\n",
      "Error:: of Iteration 87 =>  Maximum Error:  0.6537158162117652  &&& Average Error: 0.30083830276588674\n",
      "Error:: of Iteration 88 =>  Maximum Error:  0.6522044316190192  &&& Average Error: 0.30062253772109715\n",
      "Error:: of Iteration 89 =>  Maximum Error:  0.6507247154071486  &&& Average Error: 0.3004148322263253\n",
      "Error:: of Iteration 90 =>  Maximum Error:  0.6492759123304653  &&& Average Error: 0.3002147633316936\n",
      "Error:: of Iteration 91 =>  Maximum Error:  0.6478572056543639  &&& Average Error: 0.3000219304935407\n",
      "Error:: of Iteration 92 =>  Maximum Error:  0.6464677292277287  &&& Average Error: 0.2998359548594648\n",
      "Error:: of Iteration 93 =>  Maximum Error:  0.6451065815345578  &&& Average Error: 0.2996564786887078\n",
      "Error:: of Iteration 94 =>  Maximum Error:  0.6437728404011009  &&& Average Error: 0.2994831649143193\n",
      "Error:: of Iteration 95 =>  Maximum Error:  0.6424655772915979  &&& Average Error: 0.29931569681492143\n",
      "Error:: of Iteration 96 =>  Maximum Error:  0.6411838704068877  &&& Average Error: 0.29915377773508794\n",
      "Error:: of Iteration 97 =>  Maximum Error:  0.6399268160681946  &&& Average Error: 0.29899713077786505\n",
      "Error:: of Iteration 98 =>  Maximum Error:  0.63869353809991  &&& Average Error: 0.2988454983919135\n",
      "Error:: of Iteration 99 =>  Maximum Error:  0.6374831951087403  &&& Average Error: 0.2986986417883912\n",
      "Error:: of Iteration 100 =>  Maximum Error:  0.6362949856907131  &&& Average Error: 0.29855634014648363\n",
      "Error:: of Iteration 101 =>  Maximum Error:  0.635128151688515  &&& Average Error: 0.298418389597175\n",
      "Error:: of Iteration 102 =>  Maximum Error:  0.6339819796793427  &&& Average Error: 0.29828460200669027\n",
      "Error:: of Iteration 103 =>  Maximum Error:  0.6328558009094738  &&& Average Error: 0.29815480360782554\n",
      "Error:: of Iteration 104 =>  Maximum Error:  0.6317489899155098  &&& Average Error: 0.2980288335440354\n",
      "Error:: of Iteration 105 =>  Maximum Error:  0.6306609620896345  &&& Average Error: 0.2979065423953938\n",
      "Error:: of Iteration 106 =>  Maximum Error:  0.629591170459002  &&& Average Error: 0.2977877907486192\n",
      "Error:: of Iteration 107 =>  Maximum Error:  0.6285391019553163  &&& Average Error: 0.2976724478593584\n",
      "Error:: of Iteration 108 =>  Maximum Error:  0.6275042734465541  &&& Average Error: 0.29756039043902605\n",
      "Error:: of Iteration 109 =>  Maximum Error:  0.6264862277850319  &&& Average Error: 0.2974515015848626\n",
      "Error:: of Iteration 110 =>  Maximum Error:  0.6254845300935774  &&& Average Error: 0.2973456698624133\n",
      "Error:: of Iteration 111 =>  Maximum Error:  0.6244987644658776  &&& Average Error: 0.2972427885437973\n",
      "Error:: of Iteration 112 =>  Maximum Error:  0.6235285312019516  &&& Average Error: 0.29714275500097137\n",
      "Error:: of Iteration 113 =>  Maximum Error:  0.6225734446406884  &&& Average Error: 0.29704547024855776\n",
      "Error:: of Iteration 114 =>  Maximum Error:  0.6216331315941477  &&& Average Error: 0.2969508386246278\n",
      "Error:: of Iteration 115 =>  Maximum Error:  0.6207072303381415  &&& Average Error: 0.29685876759043844\n",
      "Error:: of Iteration 116 =>  Maximum Error:  0.6197953900741804  &&& Average Error: 0.2967691676230362\n",
      "Error:: of Iteration 117 =>  Maximum Error:  0.6188972707515512  &&& Average Error: 0.2966819521698415\n",
      "Error:: of Iteration 118 =>  Maximum Error:  0.6180125431258008  &&& Average Error: 0.2965970376333043\n",
      "Error:: of Iteration 119 =>  Maximum Error:  0.6171408889305621  &&& Average Error: 0.2965143433570599\n",
      "Error:: of Iteration 120 =>  Maximum Error:  0.6162820010519201  &&& Average Error: 0.2964337915920795\n",
      "Error:: of Iteration 121 =>  Maximum Error:  0.6154355836158518  &&& Average Error: 0.2963553074306055\n",
      "Error:: of Iteration 122 =>  Maximum Error:  0.6146013519266436  &&& Average Error: 0.2962788187052928\n",
      "Error:: of Iteration 123 =>  Maximum Error:  0.6137790322243343  &&& Average Error: 0.2962042558591475\n",
      "Error:: of Iteration 124 =>  Maximum Error:  0.6129683612586995  &&& Average Error: 0.2961315517973465\n",
      "Error:: of Iteration 125 =>  Maximum Error:  0.6121690857029903  &&& Average Error: 0.29606064173434293\n",
      "Error:: of Iteration 126 =>  Maximum Error:  0.6113809614501572  &&& Average Error: 0.2959914630490208\n",
      "Error:: of Iteration 127 =>  Maximum Error:  0.6106037528460483  &&& Average Error: 0.2959239551578658\n",
      "Error:: of Iteration 128 =>  Maximum Error:  0.6098372319176476  &&& Average Error: 0.2958580594121465\n",
      "Error:: of Iteration 129 =>  Maximum Error:  0.6090811776505951  &&& Average Error: 0.2957937190210025\n",
      "Error:: of Iteration 130 =>  Maximum Error:  0.6083353753604948  &&& Average Error: 0.2957308789988763\n",
      "Error:: of Iteration 131 =>  Maximum Error:  0.6075996161891675  &&& Average Error: 0.29566948613336685\n",
      "Error:: of Iteration 132 =>  Maximum Error:  0.6068736967422215  &&& Average Error: 0.29560948896842376\n",
      "Error:: of Iteration 133 =>  Maximum Error:  0.6061574188703216  &&& Average Error: 0.29555083779769153\n",
      "Error:: of Iteration 134 =>  Maximum Error:  0.6054505895846097  &&& Average Error: 0.29549348466343717\n",
      "Error:: of Iteration 135 =>  Maximum Error:  0.6047530210880213  &&& Average Error: 0.29543738335749803\n",
      "Error:: of Iteration 136 =>  Maximum Error:  0.6040645308987399  &&& Average Error: 0.295382489421766\n",
      "Error:: of Iteration 137 =>  Maximum Error:  0.6033849420395636  &&& Average Error: 0.29532876014666376\n",
      "Error:: of Iteration 138 =>  Maximum Error:  0.6027140832669851  &&& Average Error: 0.29527615456676504\n",
      "Error:: of Iteration 139 =>  Maximum Error:  0.602051789315485  &&& Average Error: 0.2952246334531291\n",
      "Error:: of Iteration 140 =>  Maximum Error:  0.6013979011353615  &&& Average Error: 0.2951741593020978\n",
      "Error:: of Iteration 141 =>  Maximum Error:  0.6007522661056337  &&& Average Error: 0.29512469632030136\n",
      "Error:: of Iteration 142 =>  Maximum Error:  0.6001147382070071  &&& Average Error: 0.2950762104054906\n",
      "Error:: of Iteration 143 =>  Maximum Error:  0.5994851781430018  &&& Average Error: 0.29502866912261366\n",
      "Error:: of Iteration 144 =>  Maximum Error:  0.5988634534003051  &&& Average Error: 0.294982041674338\n",
      "Error:: of Iteration 145 =>  Maximum Error:  0.5982494382420127  &&& Average Error: 0.29493629886499667\n",
      "Error:: of Iteration 146 =>  Maximum Error:  0.5976430136296269  &&& Average Error: 0.2948914130567728\n",
      "Error:: of Iteration 147 =>  Maximum Error:  0.5970440670718483  &&& Average Error: 0.29484735811685664\n",
      "Error:: of Iteration 148 =>  Maximum Error:  0.5964524923999767  &&& Average Error: 0.2948041093543646\n",
      "Error:: of Iteration 149 =>  Maximum Error:  0.5958681894716535  &&& Average Error: 0.29476164344607325\n",
      "Error:: of Iteration 150 =>  Maximum Error:  0.5952910638065719  &&& Average Error: 0.2947199383505245\n",
      "Error:: of Iteration 151 =>  Maximum Error:  0.594721026159904  &&& Average Error: 0.29467897321083814\n",
      "Error:: of Iteration 152 =>  Maximum Error:  0.594157992041658  &&& Average Error: 0.29463872824761156\n",
      "Error:: of Iteration 153 =>  Maximum Error:  0.5936018811929088  &&& Average Error: 0.2945991846445153\n",
      "Error:: of Iteration 154 =>  Maximum Error:  0.59305261703292  &&& Average Error: 0.2945603244304784\n",
      "Error:: of Iteration 155 =>  Maximum Error:  0.5925101260942169  &&& Average Error: 0.29452213036351155\n",
      "Error:: of Iteration 156 =>  Maximum Error:  0.5919743374654549  &&& Average Error: 0.2944845858220234\n",
      "Error:: of Iteration 157 =>  Maximum Error:  0.5914451822638572  &&& Average Error: 0.2944476747097427\n",
      "Error:: of Iteration 158 =>  Maximum Error:  0.590922593159606  &&& Average Error: 0.2944113813799133\n",
      "Error:: of Iteration 159 =>  Maximum Error:  0.5904065039734244  &&& Average Error: 0.29437569058322594\n",
      "Error:: of Iteration 160 =>  Maximum Error:  0.5898968493652391  &&& Average Error: 0.2943405874420539\n",
      "Error:: of Iteration 161 =>  Maximum Error:  0.5893935646263786  &&& Average Error: 0.2943060574511502\n",
      "Error:: of Iteration 162 =>  Maximum Error:  0.5888965855803961  &&& Average Error: 0.29427208650232395\n",
      "Error:: of Iteration 163 =>  Maximum Error:  0.5884058485888319  &&& Average Error: 0.2942386609280917\n"
     ]
    },
    {
     "name": "stdout",
     "output_type": "stream",
     "text": [
      "Error:: of Iteration 164 =>  Maximum Error:  0.5879212906489474  &&& Average Error: 0.2942057675572198\n",
      "Error:: of Iteration 165 =>  Maximum Error:  0.5874428495616015  &&& Average Error: 0.2941733937737498\n",
      "Error:: of Iteration 166 =>  Maximum Error:  0.5869704641399682  &&& Average Error: 0.29414152757070366\n",
      "Error:: of Iteration 167 =>  Maximum Error:  0.5865040744248283  &&& Average Error: 0.29411015759027603\n",
      "Error:: of Iteration 168 =>  Maximum Error:  0.5860436218703441  &&& Average Error: 0.29407927314387006\n",
      "Error:: of Iteration 169 =>  Maximum Error:  0.5855890494661006  &&& Average Error: 0.2940488642076151\n",
      "Error:: of Iteration 170 =>  Maximum Error:  0.585140301766833  &&& Average Error: 0.2940189213917311\n",
      "Error:: of Iteration 171 =>  Maximum Error:  0.5846973248103458  &&& Average Error: 0.29398943588491766\n",
      "Error:: of Iteration 172 =>  Maximum Error:  0.5842600659156646  &&& Average Error: 0.29396039937748647\n",
      "Error:: of Iteration 173 =>  Maximum Error:  0.5838284733663351  &&& Average Error: 0.2939318039689128\n",
      "Error:: of Iteration 174 =>  Maximum Error:  0.5834024959963263  &&& Average Error: 0.2939036420666488\n",
      "Error:: of Iteration 175 =>  Maximum Error:  0.5829820827066423  &&& Average Error: 0.29387590628333726\n",
      "Error:: of Iteration 176 =>  Maximum Error:  0.5825671819481067  &&& Average Error: 0.29384858933906194\n",
      "Error:: of Iteration 177 =>  Maximum Error:  0.5821577412089575  &&& Average Error: 0.29382168397414293\n",
      "Error:: of Iteration 178 =>  Maximum Error:  0.5817537065445609  &&& Average Error: 0.29379518287649764\n",
      "Error:: of Iteration 179 =>  Maximum Error:  0.5813550221812287  &&& Average Error: 0.29376907862601337\n",
      "Error:: of Iteration 180 =>  Maximum Error:  0.5809616302177244  &&& Average Error: 0.29374336365693815\n",
      "Error:: of Iteration 181 =>  Maximum Error:  0.5805734704381624  &&& Average Error: 0.29371803023816706\n",
      "Error:: of Iteration 182 =>  Maximum Error:  0.5801904802399082  &&& Average Error: 0.29369307047051446\n",
      "Error:: of Iteration 183 =>  Maximum Error:  0.5798125946713766  &&& Average Error: 0.29366847629962617\n",
      "Error:: of Iteration 184 =>  Maximum Error:  0.5794397465680451  &&& Average Error: 0.2936442395429939\n",
      "Error:: of Iteration 185 =>  Maximum Error:  0.5790718667711099  &&& Average Error: 0.29362035192949004\n",
      "Error:: of Iteration 186 =>  Maximum Error:  0.5787088844119692  &&& Average Error: 0.29359680514985415\n",
      "Error:: of Iteration 187 =>  Maximum Error:  0.578350727246636  &&& Average Error: 0.29357359091653157\n",
      "Error:: of Iteration 188 =>  Maximum Error:  0.5779973220266987  &&& Average Error: 0.29355070103117176\n",
      "Error:: of Iteration 189 =>  Maximum Error:  0.5776485948966159  &&& Average Error: 0.29352812745791457\n",
      "Error:: of Iteration 190 =>  Maximum Error:  0.5773044718104104  &&& Average Error: 0.29350586240034376\n",
      "Error:: of Iteration 191 =>  Maximum Error:  0.5769648789634382  &&& Average Error: 0.29348389837969774\n",
      "Error:: of Iteration 192 =>  Maximum Error:  0.5766297432365605  &&& Average Error: 0.2934622283116394\n",
      "Error:: of Iteration 193 =>  Maximum Error:  0.5762989926504634  &&& Average Error: 0.29344084557863076\n",
      "Error:: of Iteration 194 =>  Maximum Error:  0.5759725568270625  &&& Average Error: 0.2934197440947777\n",
      "Error:: of Iteration 195 =>  Maximum Error:  0.5756503674531032  &&& Average Error: 0.29339891835994397\n",
      "Error:: of Iteration 196 =>  Maximum Error:  0.5753323587384064  &&& Average Error: 0.29337836350001734\n",
      "Error:: of Iteration 197 =>  Maximum Error:  0.5750184678582259  &&& Average Error: 0.293358075290477\n",
      "Error:: of Iteration 198 =>  Maximum Error:  0.5747086353662655  &&& Average Error: 0.2933380501608977\n",
      "Error:: of Iteration 199 =>  Maximum Error:  0.5744028055625201  &&& Average Error: 0.29331828517873076\n",
      "Error:: of Iteration 200 =>  Maximum Error:  0.5741009267987394  &&& Average Error: 0.29329877801163157\n",
      "Error:: of Iteration 201 =>  Maximum Error:  0.5738029517042368  &&& Average Error: 0.2932795268686972\n",
      "Error:: of Iteration 202 =>  Maximum Error:  0.5735088373162925  &&& Average Error: 0.2932605304221773\n",
      "Error:: of Iteration 203 =>  Maximum Error:  0.5732185451024551  &&& Average Error: 0.29324178771242343\n",
      "Error:: of Iteration 204 =>  Maximum Error:  0.5729320408665689  &&& Average Error: 0.2932232980399241\n",
      "Error:: of Iteration 205 =>  Maximum Error:  0.5726492945359531  &&& Average Error: 0.29320506084914566\n",
      "Error:: of Iteration 206 =>  Maximum Error:  0.5723702798333143  &&& Average Error: 0.293187075609461\n",
      "Error:: of Iteration 207 =>  Maximum Error:  0.5720949738432206  &&& Average Error: 0.2931693416986564\n",
      "Error:: of Iteration 208 =>  Maximum Error:  0.5718233564886499  &&& Average Error: 0.29315185829434354\n",
      "Error:: of Iteration 209 =>  Maximum Error:  0.5715554099378533  &&& Average Error: 0.29313462427808834\n",
      "Error:: of Iteration 210 =>  Maximum Error:  0.5712911179651187  &&& Average Error: 0.29311763815624886\n",
      "Error:: of Iteration 211 =>  Maximum Error:  0.5710304652908571  &&& Average Error: 0.2931008980004653\n",
      "Error:: of Iteration 212 =>  Maximum Error:  0.5707734369266745  &&& Average Error: 0.29308440140955383\n",
      "Error:: of Iteration 213 =>  Maximum Error:  0.5705200175498597  &&& Average Error: 0.2930681454933122\n",
      "Error:: of Iteration 214 =>  Maximum Error:  0.5702701909291682  &&& Average Error: 0.29305212687755877\n",
      "Error:: of Iteration 215 =>  Maximum Error:  0.5700239394202555  &&& Average Error: 0.29303634172867343\n",
      "Error:: of Iteration 216 =>  Maximum Error:  0.5697812435449571  &&& Average Error: 0.29302078579506485\n",
      "Error:: of Iteration 217 =>  Maximum Error:  0.5695420816639207  &&& Average Error: 0.2930054544623839\n",
      "Error:: of Iteration 218 =>  Maximum Error:  0.5693064297476124  &&& Average Error: 0.2929903428189529\n",
      "Error:: of Iteration 219 =>  Maximum Error:  0.5690742612461896  &&& Average Error: 0.2929754457277542\n",
      "Error:: of Iteration 220 =>  Maximum Error:  0.5688455470547598  &&& Average Error: 0.29296075790138876\n",
      "Error:: of Iteration 221 =>  Maximum Error:  0.5686202555670368  &&& Average Error: 0.2929462739766151\n",
      "Error:: of Iteration 222 =>  Maximum Error:  0.5683983528074782  &&& Average Error: 0.2929319885853807\n",
      "Error:: of Iteration 223 =>  Maximum Error:  0.5681798026296878  &&& Average Error: 0.29291789641961546\n",
      "Error:: of Iteration 224 =>  Maximum Error:  0.5679645669672025  &&& Average Error: 0.29290399228745595\n",
      "Error:: of Iteration 225 =>  Maximum Error:  0.5677526061216057  &&& Average Error: 0.2928902711590177\n",
      "Error:: of Iteration 226 =>  Maximum Error:  0.5675438790724315  &&& Average Error: 0.29287672820031974\n",
      "Error:: of Iteration 227 =>  Maximum Error:  0.5673383437933371  &&& Average Error: 0.29286335879452086\n",
      "Error:: of Iteration 228 =>  Maximum Error:  0.567135957559669  &&& Average Error: 0.2928501585502547\n",
      "Error:: of Iteration 229 =>  Maximum Error:  0.5669366772338396  &&& Average Error: 0.2928371232975292\n",
      "Error:: of Iteration 230 =>  Maximum Error:  0.566740459516799  &&& Average Error: 0.29282424907238014\n",
      "Error:: of Iteration 231 =>  Maximum Error:  0.5665472611564484  &&& Average Error: 0.29281153209217103\n",
      "Error:: of Iteration 232 =>  Maximum Error:  0.5663570391068831  &&& Average Error: 0.292798968724055\n",
      "Error:: of Iteration 233 =>  Maximum Error:  0.5661697506358194  &&& Average Error: 0.29278655544957605\n",
      "Error:: of Iteration 234 =>  Maximum Error:  0.5659853533812272  &&& Average Error: 0.29277428882862494\n",
      "End of View  0\n",
      "Error:: of Iteration 1 =>  Maximum Error:  0.7647392771232571  &&& Average Error: 0.35314031912958604\n",
      "Error:: of Iteration 2 =>  Maximum Error:  0.7170476547298811  &&& Average Error: 0.3366518329574269\n",
      "Error:: of Iteration 3 =>  Maximum Error:  0.7147853670636776  &&& Average Error: 0.3344733432708139\n",
      "Error:: of Iteration 4 =>  Maximum Error:  0.713067674469555  &&& Average Error: 0.33229281175418784\n",
      "Error:: of Iteration 5 =>  Maximum Error:  0.711043080518502  &&& Average Error: 0.32985844654975555\n",
      "Error:: of Iteration 6 =>  Maximum Error:  0.708320843192379  &&& Average Error: 0.32695972777679855\n",
      "Error:: of Iteration 7 =>  Maximum Error:  0.7044216446747955  &&& Average Error: 0.32335678269106183\n",
      "Error:: of Iteration 8 =>  Maximum Error:  0.6987601914740255  &&& Average Error: 0.3187935315578033\n",
      "Error:: of Iteration 9 =>  Maximum Error:  0.6907132410776238  &&& Average Error: 0.31304519885837057\n",
      "Error:: of Iteration 10 =>  Maximum Error:  0.6797886628559577  &&& Average Error: 0.3060069646391037\n"
     ]
    },
    {
     "name": "stdout",
     "output_type": "stream",
     "text": [
      "Error:: of Iteration 11 =>  Maximum Error:  0.6658905366841805  &&& Average Error: 0.29780567162805954\n",
      "Error:: of Iteration 12 =>  Maximum Error:  0.6495679191636453  &&& Average Error: 0.28887057103353064\n",
      "Error:: of Iteration 13 =>  Maximum Error:  0.6320269990622737  &&& Average Error: 0.27987668278396094\n",
      "Error:: of Iteration 14 =>  Maximum Error:  0.614770216717475  &&& Average Error: 0.2715408472143692\n",
      "Error:: of Iteration 15 =>  Maximum Error:  0.599049875400672  &&& Average Error: 0.2643805489560277\n",
      "Error:: of Iteration 16 =>  Maximum Error:  0.5899020313921732  &&& Average Error: 0.25859041502670965\n",
      "Error:: of Iteration 17 =>  Maximum Error:  0.5850686237592688  &&& Average Error: 0.2540840985857293\n",
      "Error:: of Iteration 18 =>  Maximum Error:  0.5809694640230199  &&& Average Error: 0.2506234226620843\n",
      "Error:: of Iteration 19 =>  Maximum Error:  0.5774310954306923  &&& Average Error: 0.24793751081946483\n",
      "Error:: of Iteration 20 =>  Maximum Error:  0.5742953135719887  &&& Average Error: 0.24578998791621484\n",
      "Error:: of Iteration 21 =>  Maximum Error:  0.5714363289954718  &&& Average Error: 0.2440005804486817\n",
      "Error:: of Iteration 22 =>  Maximum Error:  0.568761125070994  &&& Average Error: 0.2424420640314255\n",
      "Error:: of Iteration 23 =>  Maximum Error:  0.5662036100597615  &&& Average Error: 0.24102880321694323\n",
      "Error:: of Iteration 24 =>  Maximum Error:  0.5637178906725391  &&& Average Error: 0.2397050351986135\n",
      "End of View  1\n"
     ]
    }
   ],
   "source": [
    "# 4. Update H and W for all View\n",
    "alpha = 0.0001; # parameter\n",
    "beta = 0.0001;  # parameter \n",
    "iteration = 0;  # tracking of iteration\n",
    "\n",
    "for index,X in enumerate(V): # X1, X2\n",
    "    max_E , avg_E = findError(X,W[index],H[index]);\n",
    "    while( max_E >= 0.566): # Effect by random value of H , W ;\n",
    "        # updata H \n",
    "        H[index] =  np.multiply(H[index],h_coefficient_matrix(W[index],X,H[index],alpha,beta,H,index));\n",
    "        # update W\n",
    "        W[index] =  np.multiply(W[index],w_cofficient_matrix(X,H[index],W[index]));\n",
    "        # increase number of iteration\n",
    "        iteration = iteration + 1;\n",
    "        # display info\n",
    "        max_E , avg_E = findError(X,W[index],H[index]);\n",
    "        print(f\"Error:: of Iteration {iteration} => \",\"Maximum Error: \",max_E,\" &&& Average Error:\",avg_E);\n",
    "        # End of View or End of While Loop;\n",
    "    # inside For Loop for View\n",
    "    print('End of View ',index)\n",
    "    iteration = 0;"
   ]
  },
  {
   "cell_type": "code",
   "execution_count": 16,
   "id": "db1ffb5f",
   "metadata": {},
   "outputs": [],
   "source": [
    "# Averaging\n",
    "sum_H = np.zeros(H[0].shape);\n",
    "for h in H:\n",
    "    sum_H = sum_H + h;\n",
    "H_star = sum_H/len(H);  # <=======================   output -  H*\n"
   ]
  },
  {
   "cell_type": "code",
   "execution_count": 17,
   "id": "b8ebca40",
   "metadata": {},
   "outputs": [
    {
     "data": {
      "text/plain": [
       "(10, 1474)"
      ]
     },
     "execution_count": 17,
     "metadata": {},
     "output_type": "execute_result"
    }
   ],
   "source": [
    "H_star.shape # (reduced dimension x sample number )"
   ]
  },
  {
   "cell_type": "code",
   "execution_count": 18,
   "id": "75af446b",
   "metadata": {},
   "outputs": [
    {
     "data": {
      "text/plain": [
       "(1474, 1)"
      ]
     },
     "execution_count": 18,
     "metadata": {},
     "output_type": "execute_result"
    }
   ],
   "source": [
    "Label = pd.read_csv(\"../datasets/complete-data/Caltech/label.csv\",header=None);\n",
    "from sklearn.cluster import KMeans\n",
    "Label = Label.to_numpy()\n",
    "Label.shape"
   ]
  },
  {
   "cell_type": "code",
   "execution_count": 19,
   "id": "6b82ca47",
   "metadata": {},
   "outputs": [],
   "source": [
    "km = KMeans(n_clusters=7,random_state=0).fit(H_star.T);"
   ]
  },
  {
   "cell_type": "code",
   "execution_count": 20,
   "id": "4ece447a",
   "metadata": {},
   "outputs": [],
   "source": [
    "y_pred = km.predict(H_star.T)"
   ]
  },
  {
   "cell_type": "code",
   "execution_count": 21,
   "id": "d2d585eb",
   "metadata": {},
   "outputs": [],
   "source": [
    "from sklearn.metrics import accuracy_score;"
   ]
  },
  {
   "cell_type": "code",
   "execution_count": 22,
   "id": "44beac06",
   "metadata": {},
   "outputs": [
    {
     "data": {
      "text/plain": [
       "0.1919945725915875"
      ]
     },
     "execution_count": 22,
     "metadata": {},
     "output_type": "execute_result"
    }
   ],
   "source": [
    "accuracy_score(Label,y_pred)"
   ]
  },
  {
   "cell_type": "code",
   "execution_count": null,
   "id": "bde165a4",
   "metadata": {},
   "outputs": [],
   "source": []
  }
 ],
 "metadata": {
  "kernelspec": {
   "display_name": "Python 3 (ipykernel)",
   "language": "python",
   "name": "python3"
  },
  "language_info": {
   "codemirror_mode": {
    "name": "ipython",
    "version": 3
   },
   "file_extension": ".py",
   "mimetype": "text/x-python",
   "name": "python",
   "nbconvert_exporter": "python",
   "pygments_lexer": "ipython3",
   "version": "3.9.6"
  }
 },
 "nbformat": 4,
 "nbformat_minor": 5
}
