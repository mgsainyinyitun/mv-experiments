{
 "cells": [
  {
   "cell_type": "code",
   "execution_count": 2,
   "id": "36fa86ab",
   "metadata": {},
   "outputs": [],
   "source": [
    "import pandas as pd;\n",
    "import numpy as np;\n",
    "import sys;\n",
    "sys.path.insert(0,'../coding/tools/');"
   ]
  },
  {
   "cell_type": "code",
   "execution_count": 335,
   "id": "2039526d",
   "metadata": {},
   "outputs": [],
   "source": [
    "\n",
    "from distances import Distances\n",
    "from general import General\n",
    "dd = Distances();\n",
    "gf = General();"
   ]
  },
  {
   "cell_type": "code",
   "execution_count": 336,
   "id": "42f77acb",
   "metadata": {},
   "outputs": [
    {
     "ename": "NameError",
     "evalue": "name 'number_of_sample' is not defined",
     "output_type": "error",
     "traceback": [
      "\u001b[1;31m---------------------------------------------------------------------------\u001b[0m",
      "\u001b[1;31mNameError\u001b[0m                                 Traceback (most recent call last)",
      "\u001b[1;32m<ipython-input-336-b3582e9c0879>\u001b[0m in \u001b[0;36m<module>\u001b[1;34m\u001b[0m\n\u001b[1;32m----> 1\u001b[1;33m \u001b[0mgf\u001b[0m\u001b[1;33m.\u001b[0m\u001b[0mfint_t\u001b[0m\u001b[1;33m(\u001b[0m\u001b[0mfea\u001b[0m\u001b[1;33m)\u001b[0m\u001b[1;33m\u001b[0m\u001b[1;33m\u001b[0m\u001b[0m\n\u001b[0m",
      "\u001b[1;32m~\\Desktop\\papers\\Experiments\\coding\\../coding/tools\\general.py\u001b[0m in \u001b[0;36mfint_t\u001b[1;34m(self, X)\u001b[0m\n\u001b[0;32m     11\u001b[0m         \u001b[0mnSmp\u001b[0m \u001b[1;33m=\u001b[0m \u001b[0mX\u001b[0m\u001b[1;33m.\u001b[0m\u001b[0mshape\u001b[0m\u001b[1;33m[\u001b[0m\u001b[1;36m0\u001b[0m\u001b[1;33m]\u001b[0m\u001b[1;33m\u001b[0m\u001b[1;33m\u001b[0m\u001b[0m\n\u001b[0;32m     12\u001b[0m         \u001b[1;32mif\u001b[0m \u001b[0mnSmp\u001b[0m \u001b[1;33m>\u001b[0m \u001b[1;36m3000\u001b[0m\u001b[1;33m:\u001b[0m\u001b[1;33m\u001b[0m\u001b[1;33m\u001b[0m\u001b[0m\n\u001b[1;32m---> 13\u001b[1;33m             \u001b[0mtemp\u001b[0m \u001b[1;33m=\u001b[0m \u001b[0mX\u001b[0m\u001b[1;33m[\u001b[0m\u001b[0mnp\u001b[0m\u001b[1;33m.\u001b[0m\u001b[0mrandom\u001b[0m\u001b[1;33m.\u001b[0m\u001b[0mrandint\u001b[0m\u001b[1;33m(\u001b[0m\u001b[1;36m0\u001b[0m\u001b[1;33m,\u001b[0m\u001b[0mnSmp\u001b[0m\u001b[1;33m,\u001b[0m\u001b[1;33m(\u001b[0m\u001b[1;36m3000\u001b[0m\u001b[1;33m)\u001b[0m\u001b[1;33m)\u001b[0m\u001b[1;33m,\u001b[0m\u001b[1;33m:\u001b[0m\u001b[1;33m]\u001b[0m\u001b[1;33m\u001b[0m\u001b[1;33m\u001b[0m\u001b[0m\n\u001b[0m\u001b[0;32m     14\u001b[0m             \u001b[0mD\u001b[0m \u001b[1;33m=\u001b[0m \u001b[0mself\u001b[0m\u001b[1;33m.\u001b[0m\u001b[0mdist\u001b[0m\u001b[1;33m.\u001b[0m\u001b[0mEuDistance\u001b[0m\u001b[1;33m(\u001b[0m\u001b[0mtemp\u001b[0m\u001b[1;33m)\u001b[0m\u001b[1;33m\u001b[0m\u001b[1;33m\u001b[0m\u001b[0m\n\u001b[0;32m     15\u001b[0m         \u001b[1;32melse\u001b[0m\u001b[1;33m:\u001b[0m\u001b[1;33m\u001b[0m\u001b[1;33m\u001b[0m\u001b[0m\n",
      "\u001b[1;31mNameError\u001b[0m: name 'number_of_sample' is not defined"
     ]
    }
   ],
   "source": [
    "gf.fint_t(fea)"
   ]
  },
  {
   "cell_type": "code",
   "execution_count": 323,
   "id": "3a7e11eb",
   "metadata": {},
   "outputs": [],
   "source": [
    "X = pd.read_csv('feature.csv',header=None)\n",
    "X = X.to_numpy()"
   ]
  },
  {
   "cell_type": "code",
   "execution_count": 299,
   "id": "ee8ed6d1",
   "metadata": {},
   "outputs": [
    {
     "data": {
      "text/plain": [
       "1.5075210786798292"
      ]
     },
     "execution_count": 299,
     "metadata": {},
     "output_type": "execute_result"
    }
   ],
   "source": [
    "t = find_t(number_of_sample,X)\n",
    "t"
   ]
  },
  {
   "cell_type": "code",
   "execution_count": 305,
   "id": "f0361cf1",
   "metadata": {},
   "outputs": [],
   "source": [
    "def find_t(nunber_of_sample,X): # 4000 x 15\n",
    "    D = [];\n",
    "    if number_of_sample > 3000:\n",
    "        temp = X[np.random.randint(0,number_of_sample,(3000)),:]\n",
    "        D = Eu_distance(temp) #  3000 x 15 \n",
    "    else:\n",
    "        D = Eu_distance(X);\n",
    "    return np.mean(np.mean(D,axis=0));\n",
    "    "
   ]
  },
  {
   "cell_type": "code",
   "execution_count": null,
   "id": "d451922d",
   "metadata": {},
   "outputs": [],
   "source": [
    "def construct_w(X,neighbour_mode = 'knn',weight_mode = 'binary', k=5,gnd=None,blda = 1,t=1,b_normalized=0,self_connect=1,b_true_knn =0):\n",
    "    number_of_sample = X.shape[0]\n",
    "    bSpeed = 1;\n",
    "    maxM = 62500000;\n",
    "    BlockSize = floor(maxM/(number_of_sample*3));\n",
    "    \n",
    "    \n",
    "    if True:\n",
    "        G = np.zeros(number_of_sample*(k+1),3);\n",
    "        for i in range(1,np.ceil(number_of_sample/BlockSize)):\n",
    "            if i == np.ceil(number_of_sample/BlockSize):\n",
    "                sample_index = np.array([j for j in range((i-1*BlockSize+1),number_of_sample)])\n",
    "                distance = Eudistance(X,X,0);\n",
    "                \n",
    "                if bSpeed:\n",
    "                    nSmpNow = len(sample_index);\n",
    "                    dump = np.zeros((nSmpNow,k+1));\n",
    "                    idx = dump;\n",
    "                    \n",
    "                    for j in range(1,k+1):\n",
    "                        dump[:,j-1] =  np.min(dist,axis=1);\n",
    "                        #idx[:,j-1] = j;\n",
    "                        temp = (idx(:,j)-1)*nSmpNow+[1:nSmpNow].T;\n",
    "                        dist(temp) = 0;\n",
    "                        \n",
    "    \n",
    "    \n",
    "    \n",
    "    \n",
    "    \n",
    "    \n",
    "    "
   ]
  },
  {
   "cell_type": "code",
   "execution_count": 302,
   "id": "0c06cde3",
   "metadata": {},
   "outputs": [
    {
     "data": {
      "text/plain": [
       "4000"
      ]
     },
     "execution_count": 302,
     "metadata": {},
     "output_type": "execute_result"
    }
   ],
   "source": [
    "fea = np.random.rand(4000,15)\n",
    "nSmp = fea.shape[0]\n",
    "nSmp"
   ]
  },
  {
   "cell_type": "code",
   "execution_count": 306,
   "id": "343efadf",
   "metadata": {},
   "outputs": [
    {
     "data": {
      "text/plain": [
       "1.5614277518572965"
      ]
     },
     "execution_count": 306,
     "metadata": {},
     "output_type": "execute_result"
    }
   ],
   "source": [
    "find_t(nSmp,fea) # (4000,15) , 4000"
   ]
  },
  {
   "cell_type": "code",
   "execution_count": null,
   "id": "898d7b2e",
   "metadata": {},
   "outputs": [],
   "source": [
    " D = Eu_distance(fea[np.random.randint(0,number_of_sample,(3000)),:]) #  3000 x 15 "
   ]
  },
  {
   "cell_type": "code",
   "execution_count": 304,
   "id": "171c18bc",
   "metadata": {},
   "outputs": [
    {
     "data": {
      "text/plain": [
       "array([[0.00000000e+00, 1.74279176e+00, 1.30961401e+00, ...,\n",
       "        1.48826440e+00, 1.44992763e+00, 1.31761509e+00],\n",
       "       [1.74279176e+00, 0.00000000e+00, 1.78102904e+00, ...,\n",
       "        1.87174292e+00, 1.66560571e+00, 1.70467159e+00],\n",
       "       [1.30961401e+00, 1.78102904e+00, 4.21468485e-08, ...,\n",
       "        1.52094977e+00, 1.57291606e+00, 1.53609670e+00],\n",
       "       ...,\n",
       "       [1.48826440e+00, 1.87174292e+00, 1.52094977e+00, ...,\n",
       "        0.00000000e+00, 1.73855229e+00, 1.44947105e+00],\n",
       "       [1.44992763e+00, 1.66560571e+00, 1.57291606e+00, ...,\n",
       "        1.73855229e+00, 0.00000000e+00, 1.47921968e+00],\n",
       "       [1.31761509e+00, 1.70467159e+00, 1.53609670e+00, ...,\n",
       "        1.44947105e+00, 1.47921968e+00, 0.00000000e+00]])"
      ]
     },
     "execution_count": 304,
     "metadata": {},
     "output_type": "execute_result"
    }
   ],
   "source": [
    "temp = fea[np.random.randint(0,nSmp,(3000)),:]\n",
    "Eu_distance(temp)"
   ]
  },
  {
   "cell_type": "code",
   "execution_count": 291,
   "id": "9986dbd5",
   "metadata": {},
   "outputs": [
    {
     "data": {
      "text/plain": [
       "(3000,)"
      ]
     },
     "execution_count": 291,
     "metadata": {},
     "output_type": "execute_result"
    }
   ],
   "source": [
    "dom.shape"
   ]
  },
  {
   "cell_type": "code",
   "execution_count": 292,
   "id": "660e080e",
   "metadata": {},
   "outputs": [],
   "source": [
    "dom_u = fea[dom,:]"
   ]
  },
  {
   "cell_type": "code",
   "execution_count": 293,
   "id": "1931dbf2",
   "metadata": {},
   "outputs": [
    {
     "data": {
      "text/plain": [
       "(3000, 15)"
      ]
     },
     "execution_count": 293,
     "metadata": {},
     "output_type": "execute_result"
    }
   ],
   "source": [
    "dom_u.shape"
   ]
  },
  {
   "cell_type": "code",
   "execution_count": null,
   "id": "c89b0874",
   "metadata": {},
   "outputs": [],
   "source": []
  }
 ],
 "metadata": {
  "kernelspec": {
   "display_name": "Python 3",
   "language": "python",
   "name": "python3"
  },
  "language_info": {
   "codemirror_mode": {
    "name": "ipython",
    "version": 3
   },
   "file_extension": ".py",
   "mimetype": "text/x-python",
   "name": "python",
   "nbconvert_exporter": "python",
   "pygments_lexer": "ipython3",
   "version": "3.9.5"
  }
 },
 "nbformat": 4,
 "nbformat_minor": 5
}
