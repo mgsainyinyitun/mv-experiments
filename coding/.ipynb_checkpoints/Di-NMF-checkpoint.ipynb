{
 "cells": [
  {
   "cell_type": "code",
   "execution_count": 1,
   "id": "578eb47d",
   "metadata": {},
   "outputs": [],
   "source": [
    "# import \n",
    "import pandas as pd;\n",
    "import numpy as np;"
   ]
  },
  {
   "cell_type": "code",
   "execution_count": 5,
   "id": "f8027cb5",
   "metadata": {},
   "outputs": [
    {
     "name": "stdout",
     "output_type": "stream",
     "text": [
      "(1474, 512)\n",
      "(1474, 928)\n"
     ]
    },
    {
     "data": {
      "text/html": [
       "<div>\n",
       "<style scoped>\n",
       "    .dataframe tbody tr th:only-of-type {\n",
       "        vertical-align: middle;\n",
       "    }\n",
       "\n",
       "    .dataframe tbody tr th {\n",
       "        vertical-align: top;\n",
       "    }\n",
       "\n",
       "    .dataframe thead th {\n",
       "        text-align: right;\n",
       "    }\n",
       "</style>\n",
       "<table border=\"1\" class=\"dataframe\">\n",
       "  <thead>\n",
       "    <tr style=\"text-align: right;\">\n",
       "      <th></th>\n",
       "      <th>0</th>\n",
       "      <th>1</th>\n",
       "      <th>2</th>\n",
       "      <th>3</th>\n",
       "      <th>4</th>\n",
       "      <th>5</th>\n",
       "      <th>6</th>\n",
       "      <th>7</th>\n",
       "      <th>8</th>\n",
       "      <th>9</th>\n",
       "      <th>...</th>\n",
       "      <th>502</th>\n",
       "      <th>503</th>\n",
       "      <th>504</th>\n",
       "      <th>505</th>\n",
       "      <th>506</th>\n",
       "      <th>507</th>\n",
       "      <th>508</th>\n",
       "      <th>509</th>\n",
       "      <th>510</th>\n",
       "      <th>511</th>\n",
       "    </tr>\n",
       "  </thead>\n",
       "  <tbody>\n",
       "    <tr>\n",
       "      <th>0</th>\n",
       "      <td>0.149860</td>\n",
       "      <td>0.049631</td>\n",
       "      <td>0.049833</td>\n",
       "      <td>0.030009</td>\n",
       "      <td>0.166100</td>\n",
       "      <td>0.045195</td>\n",
       "      <td>0.052351</td>\n",
       "      <td>0.032841</td>\n",
       "      <td>0.072760</td>\n",
       "      <td>0.067054</td>\n",
       "      <td>...</td>\n",
       "      <td>0.045340</td>\n",
       "      <td>0.038174</td>\n",
       "      <td>0.068873</td>\n",
       "      <td>0.088719</td>\n",
       "      <td>0.060006</td>\n",
       "      <td>0.046778</td>\n",
       "      <td>0.024452</td>\n",
       "      <td>0.050038</td>\n",
       "      <td>0.096785</td>\n",
       "      <td>0.070728</td>\n",
       "    </tr>\n",
       "    <tr>\n",
       "      <th>1</th>\n",
       "      <td>0.168870</td>\n",
       "      <td>0.082086</td>\n",
       "      <td>0.167050</td>\n",
       "      <td>0.109790</td>\n",
       "      <td>0.113190</td>\n",
       "      <td>0.045916</td>\n",
       "      <td>0.050687</td>\n",
       "      <td>0.031878</td>\n",
       "      <td>0.207420</td>\n",
       "      <td>0.102760</td>\n",
       "      <td>...</td>\n",
       "      <td>0.118360</td>\n",
       "      <td>0.075107</td>\n",
       "      <td>0.081991</td>\n",
       "      <td>0.046442</td>\n",
       "      <td>0.163500</td>\n",
       "      <td>0.110060</td>\n",
       "      <td>0.112140</td>\n",
       "      <td>0.085244</td>\n",
       "      <td>0.079044</td>\n",
       "      <td>0.051326</td>\n",
       "    </tr>\n",
       "    <tr>\n",
       "      <th>2</th>\n",
       "      <td>0.031449</td>\n",
       "      <td>0.038602</td>\n",
       "      <td>0.040515</td>\n",
       "      <td>0.064938</td>\n",
       "      <td>0.024486</td>\n",
       "      <td>0.064542</td>\n",
       "      <td>0.038623</td>\n",
       "      <td>0.055522</td>\n",
       "      <td>0.035708</td>\n",
       "      <td>0.034724</td>\n",
       "      <td>...</td>\n",
       "      <td>0.040049</td>\n",
       "      <td>0.055716</td>\n",
       "      <td>0.054746</td>\n",
       "      <td>0.068624</td>\n",
       "      <td>0.043013</td>\n",
       "      <td>0.089594</td>\n",
       "      <td>0.009888</td>\n",
       "      <td>0.060689</td>\n",
       "      <td>0.055650</td>\n",
       "      <td>0.049560</td>\n",
       "    </tr>\n",
       "    <tr>\n",
       "      <th>3</th>\n",
       "      <td>0.062685</td>\n",
       "      <td>0.069544</td>\n",
       "      <td>0.061907</td>\n",
       "      <td>0.038404</td>\n",
       "      <td>0.052422</td>\n",
       "      <td>0.041499</td>\n",
       "      <td>0.053826</td>\n",
       "      <td>0.048148</td>\n",
       "      <td>0.034058</td>\n",
       "      <td>0.040677</td>\n",
       "      <td>...</td>\n",
       "      <td>0.085608</td>\n",
       "      <td>0.071643</td>\n",
       "      <td>0.119500</td>\n",
       "      <td>0.058825</td>\n",
       "      <td>0.082927</td>\n",
       "      <td>0.062791</td>\n",
       "      <td>0.048369</td>\n",
       "      <td>0.044633</td>\n",
       "      <td>0.069152</td>\n",
       "      <td>0.102740</td>\n",
       "    </tr>\n",
       "    <tr>\n",
       "      <th>4</th>\n",
       "      <td>0.062920</td>\n",
       "      <td>0.034458</td>\n",
       "      <td>0.015966</td>\n",
       "      <td>0.022567</td>\n",
       "      <td>0.127380</td>\n",
       "      <td>0.098888</td>\n",
       "      <td>0.062020</td>\n",
       "      <td>0.031535</td>\n",
       "      <td>0.049430</td>\n",
       "      <td>0.058208</td>\n",
       "      <td>...</td>\n",
       "      <td>0.029204</td>\n",
       "      <td>0.038763</td>\n",
       "      <td>0.047977</td>\n",
       "      <td>0.071451</td>\n",
       "      <td>0.072366</td>\n",
       "      <td>0.055249</td>\n",
       "      <td>0.028656</td>\n",
       "      <td>0.041247</td>\n",
       "      <td>0.110050</td>\n",
       "      <td>0.054509</td>\n",
       "    </tr>\n",
       "  </tbody>\n",
       "</table>\n",
       "<p>5 rows × 512 columns</p>\n",
       "</div>"
      ],
      "text/plain": [
       "        0         1         2         3         4         5         6    \\\n",
       "0  0.149860  0.049631  0.049833  0.030009  0.166100  0.045195  0.052351   \n",
       "1  0.168870  0.082086  0.167050  0.109790  0.113190  0.045916  0.050687   \n",
       "2  0.031449  0.038602  0.040515  0.064938  0.024486  0.064542  0.038623   \n",
       "3  0.062685  0.069544  0.061907  0.038404  0.052422  0.041499  0.053826   \n",
       "4  0.062920  0.034458  0.015966  0.022567  0.127380  0.098888  0.062020   \n",
       "\n",
       "        7         8         9    ...       502       503       504       505  \\\n",
       "0  0.032841  0.072760  0.067054  ...  0.045340  0.038174  0.068873  0.088719   \n",
       "1  0.031878  0.207420  0.102760  ...  0.118360  0.075107  0.081991  0.046442   \n",
       "2  0.055522  0.035708  0.034724  ...  0.040049  0.055716  0.054746  0.068624   \n",
       "3  0.048148  0.034058  0.040677  ...  0.085608  0.071643  0.119500  0.058825   \n",
       "4  0.031535  0.049430  0.058208  ...  0.029204  0.038763  0.047977  0.071451   \n",
       "\n",
       "        506       507       508       509       510       511  \n",
       "0  0.060006  0.046778  0.024452  0.050038  0.096785  0.070728  \n",
       "1  0.163500  0.110060  0.112140  0.085244  0.079044  0.051326  \n",
       "2  0.043013  0.089594  0.009888  0.060689  0.055650  0.049560  \n",
       "3  0.082927  0.062791  0.048369  0.044633  0.069152  0.102740  \n",
       "4  0.072366  0.055249  0.028656  0.041247  0.110050  0.054509  \n",
       "\n",
       "[5 rows x 512 columns]"
      ]
     },
     "execution_count": 5,
     "metadata": {},
     "output_type": "execute_result"
    }
   ],
   "source": [
    "# Datasets\n",
    "X1 = pd.read_csv('../datasets/complete-data/Caltech/GISTFeature.csv',header=None);\n",
    "X2 = pd.read_csv('../datasets/complete-data/Caltech/LBPFeature.csv',header=None);\n",
    "print(X1.shape) # (1474, 512)\n",
    "print(X2.shape) # (1474,928)\n",
    "X1.head()"
   ]
  },
  {
   "cell_type": "code",
   "execution_count": 54,
   "id": "b7359d1e",
   "metadata": {},
   "outputs": [],
   "source": [
    "# Normalize\n",
    "from sklearn.preprocessing import Normalizer\n",
    "transformer = Normalizer();\n",
    "Xn1 = transformer.transform(X1).T\n",
    "Xn2 = transformer.transform(X2).T"
   ]
  },
  {
   "cell_type": "code",
   "execution_count": 55,
   "id": "0a3b6bf0",
   "metadata": {},
   "outputs": [],
   "source": [
    "np.random.seed(123)\n",
    "import numpy.matlib\n",
    "Ht = np.matlib.rand(V[0].shape)"
   ]
  },
  {
   "cell_type": "code",
   "execution_count": 56,
   "id": "d158e78c",
   "metadata": {},
   "outputs": [],
   "source": [
    "V = [Xn1,Xn2];"
   ]
  },
  {
   "cell_type": "code",
   "execution_count": 68,
   "id": "e89a3f43",
   "metadata": {},
   "outputs": [
    {
     "data": {
      "text/plain": [
       "(512, 1474)"
      ]
     },
     "execution_count": 68,
     "metadata": {},
     "output_type": "execute_result"
    }
   ],
   "source": [
    "V[0].shape  # 10x 1474\n",
    "# H => 10 x 1474\n",
    "# w => 1474 x 10\n"
   ]
  },
  {
   "cell_type": "code",
   "execution_count": null,
   "id": "5191bb85",
   "metadata": {},
   "outputs": [],
   "source": [
    "# 512 x 1474 => (512 x 10) x (10 x 1474)\n",
    "#      X     =>   W      x   H"
   ]
  },
  {
   "cell_type": "code",
   "execution_count": 87,
   "id": "3efce1ff",
   "metadata": {},
   "outputs": [],
   "source": [
    "# random H1,H2, W1,W2 # k = 5\n",
    "H=[]\n",
    "W=[]\n",
    "for i in range(len(V)):\n",
    "    sh = V[i].shape\n",
    "    Wt = np.matlib.rand(sh[0],10)\n",
    "    Ht = np.matlib.rand(sh[1],10).T\n",
    "    W.append(Wt);\n",
    "    H.append(Ht);\n",
    "    "
   ]
  },
  {
   "cell_type": "code",
   "execution_count": 89,
   "id": "661c85f2",
   "metadata": {},
   "outputs": [
    {
     "name": "stdout",
     "output_type": "stream",
     "text": [
      "(512, 10)\n",
      "(10, 1474)\n"
     ]
    }
   ],
   "source": [
    "print(W[0].shape)\n",
    "print(H[0].shape)"
   ]
  },
  {
   "cell_type": "code",
   "execution_count": 96,
   "id": "b23023db",
   "metadata": {},
   "outputs": [],
   "source": [
    "# update H\n",
    "# 1474 x something\n",
    "\n",
    "# W = (512 x 10)\n",
    "# X = (512 x 1474)\n",
    "# HF = (10 x 1474)\n",
    "# H = list [10 x 1470][10 x 1470]\n",
    "# view =  0\n",
    "\n",
    "# up => (10 x 512 )(512 x 1474) => (10 x 1474)\n",
    "# mid => (10  x 14704 )\n",
    "# other => (10 x 512)(512x 10)(10 x 1470) => (10 x 1474)\n",
    "# mid + other > (10 x 1470)\n",
    "# final > (10 x 1470)\n",
    "\n",
    "\n",
    "def h_coefficient_matrix(W,X,HF,alpha,beta,H,view_no):\n",
    "    # Upper calculation\n",
    "    up= 2*(W.T)*X # 512 x 1474 * 1474 x 512 => 512 x 512\n",
    "    # for middle loop\n",
    "    mid_H=0;\n",
    "    for i in range(len(H)): # [H0, H1]\n",
    "        if(i == view_no):\n",
    "            continue;\n",
    "        mid_H = mid_H + H[i];\n",
    "    mid_H = alpha*mid_H;\n",
    "    down = (2*W.T*(W)*HF)+2*beta*HF+mid_H; # H => previous H\n",
    "    final = up/down;\n",
    "    print(final.shape)\n",
    "    return final;"
   ]
  },
  {
   "cell_type": "code",
   "execution_count": 99,
   "id": "5db4a856",
   "metadata": {},
   "outputs": [],
   "source": [
    "# W = (512 x 10)\n",
    "# X = (512 x 1474)\n",
    "# HF = (10 x 1474)\n",
    "# H = list [10 x 1470][10 x 1470]\n",
    "# view =  0\n",
    "\n",
    "# up => 512x1474 ) (1474 x 10 ) => 512 x 10\n",
    "# dow => 512 x 10 )( 10x1474 ) (1474 x 10) => 512 x 10\n",
    "\n",
    "def w_cofficient_matrix(X,H,W):\n",
    "    up = X * (H.T);\n",
    "    down = W * H * (H.T)\n",
    "    final = up/down\n",
    "    return final;\n",
    "    \n",
    "    "
   ]
  },
  {
   "cell_type": "code",
   "execution_count": 112,
   "id": "6a814acf",
   "metadata": {},
   "outputs": [
    {
     "data": {
      "text/plain": [
       "array([[0.        , 2.82842712],\n",
       "       [2.82842712, 0.        ]])"
      ]
     },
     "execution_count": 112,
     "metadata": {},
     "output_type": "execute_result"
    }
   ],
   "source": [
    "from sklearn.metrics.pairwise import euclidean_distances\n",
    "x = np.array([[1,2],[3,4]])\n",
    "y = np.array([[1,2],[3,4]])\n",
    "d = euclidean_distances(x,y)\n",
    "d"
   ]
  },
  {
   "cell_type": "code",
   "execution_count": null,
   "id": "214d4436",
   "metadata": {},
   "outputs": [],
   "source": [
    "# W = (512 x 10)\n",
    "# X = (512 x 1474)\n",
    "# HF = (10 x 1474)\n",
    "\n",
    "def findError(X,W,H):\n",
    "    "
   ]
  },
  {
   "cell_type": "code",
   "execution_count": null,
   "id": "7b8a1ce5",
   "metadata": {},
   "outputs": [],
   "source": [
    "for X in V: # X1, X2\n",
    "    while():\n",
    "        \n",
    "    "
   ]
  }
 ],
 "metadata": {
  "kernelspec": {
   "display_name": "Python 3 (ipykernel)",
   "language": "python",
   "name": "python3"
  },
  "language_info": {
   "codemirror_mode": {
    "name": "ipython",
    "version": 3
   },
   "file_extension": ".py",
   "mimetype": "text/x-python",
   "name": "python",
   "nbconvert_exporter": "python",
   "pygments_lexer": "ipython3",
   "version": "3.9.6"
  }
 },
 "nbformat": 4,
 "nbformat_minor": 5
}
