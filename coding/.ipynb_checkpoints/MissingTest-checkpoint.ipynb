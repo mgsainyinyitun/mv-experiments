{
 "cells": [
  {
   "cell_type": "code",
   "execution_count": 1,
   "id": "8aeb57de",
   "metadata": {},
   "outputs": [],
   "source": [
    "import pandas as pd\n",
    "import numpy as np\n",
    "\n"
   ]
  },
  {
   "cell_type": "code",
   "execution_count": 123,
   "id": "724d948f",
   "metadata": {},
   "outputs": [],
   "source": [
    "V1 = pd.read_csv('../datasets/complete-data/Caltech/GISTFeature.csv',header=None);\n",
    "V2 = pd.read_csv('../datasets/complete-data/Caltech/LBPFeature.csv',header=None);\n"
   ]
  },
  {
   "cell_type": "code",
   "execution_count": 68,
   "id": "0466ab3f",
   "metadata": {},
   "outputs": [
    {
     "data": {
      "text/plain": [
       "0    1600\n",
       "1    1600\n",
       "2    1600\n",
       "dtype: int64"
      ]
     },
     "execution_count": 68,
     "metadata": {},
     "output_type": "execute_result"
    }
   ],
   "source": [
    "data.isna().count()"
   ]
  },
  {
   "cell_type": "code",
   "execution_count": 9,
   "id": "3b36e8e4",
   "metadata": {},
   "outputs": [
    {
     "name": "stdout",
     "output_type": "stream",
     "text": [
      "<class 'pandas.core.frame.DataFrame'>\n",
      "RangeIndex: 1600 entries, 0 to 1599\n",
      "Data columns (total 3 columns):\n",
      " #   Column  Non-Null Count  Dtype\n",
      "---  ------  --------------  -----\n",
      " 0   0       1600 non-null   int64\n",
      " 1   1       1600 non-null   int64\n",
      " 2   2       1600 non-null   int64\n",
      "dtypes: int64(3)\n",
      "memory usage: 37.6 KB\n"
     ]
    }
   ],
   "source": [
    "data.info()"
   ]
  },
  {
   "cell_type": "code",
   "execution_count": 17,
   "id": "07239b31",
   "metadata": {},
   "outputs": [
    {
     "data": {
      "text/plain": [
       "1    1600\n",
       "Name: 2, dtype: int64"
      ]
     },
     "execution_count": 17,
     "metadata": {},
     "output_type": "execute_result"
    }
   ],
   "source": [
    "data[2].value_counts()    "
   ]
  },
  {
   "cell_type": "code",
   "execution_count": null,
   "id": "e8f336c3",
   "metadata": {},
   "outputs": [],
   "source": [
    "# 0 => 0 => 160\n",
    "# 0 => 1 => 160\n",
    "# 0 => 2 => 0"
   ]
  },
  {
   "cell_type": "code",
   "execution_count": 19,
   "id": "1eb77bfc",
   "metadata": {},
   "outputs": [],
   "source": [
    "X = data.to_numpy()"
   ]
  },
  {
   "cell_type": "code",
   "execution_count": 30,
   "id": "a514271f",
   "metadata": {},
   "outputs": [
    {
     "data": {
      "text/plain": [
       "1600"
      ]
     },
     "execution_count": 30,
     "metadata": {},
     "output_type": "execute_result"
    }
   ],
   "source": [
    "len(data)"
   ]
  },
  {
   "cell_type": "code",
   "execution_count": 18,
   "id": "4467ea4a",
   "metadata": {},
   "outputs": [
    {
     "data": {
      "text/plain": [
       "160.0"
      ]
     },
     "execution_count": 18,
     "metadata": {},
     "output_type": "execute_result"
    }
   ],
   "source": [
    "(1600/100)*10"
   ]
  },
  {
   "cell_type": "code",
   "execution_count": 109,
   "id": "7907abb1",
   "metadata": {},
   "outputs": [
    {
     "data": {
      "text/plain": [
       "2"
      ]
     },
     "execution_count": 109,
     "metadata": {},
     "output_type": "execute_result"
    }
   ],
   "source": [
    "X = [V1,V2]\n",
    "len(X)"
   ]
  },
  {
   "cell_type": "code",
   "execution_count": 110,
   "id": "629ea4d4",
   "metadata": {},
   "outputs": [
    {
     "data": {
      "text/html": [
       "<div>\n",
       "<style scoped>\n",
       "    .dataframe tbody tr th:only-of-type {\n",
       "        vertical-align: middle;\n",
       "    }\n",
       "\n",
       "    .dataframe tbody tr th {\n",
       "        vertical-align: top;\n",
       "    }\n",
       "\n",
       "    .dataframe thead th {\n",
       "        text-align: right;\n",
       "    }\n",
       "</style>\n",
       "<table border=\"1\" class=\"dataframe\">\n",
       "  <thead>\n",
       "    <tr style=\"text-align: right;\">\n",
       "      <th></th>\n",
       "      <th>0</th>\n",
       "      <th>1</th>\n",
       "      <th>2</th>\n",
       "      <th>3</th>\n",
       "      <th>4</th>\n",
       "      <th>5</th>\n",
       "      <th>6</th>\n",
       "      <th>7</th>\n",
       "      <th>8</th>\n",
       "      <th>9</th>\n",
       "      <th>...</th>\n",
       "      <th>502</th>\n",
       "      <th>503</th>\n",
       "      <th>504</th>\n",
       "      <th>505</th>\n",
       "      <th>506</th>\n",
       "      <th>507</th>\n",
       "      <th>508</th>\n",
       "      <th>509</th>\n",
       "      <th>510</th>\n",
       "      <th>511</th>\n",
       "    </tr>\n",
       "  </thead>\n",
       "  <tbody>\n",
       "    <tr>\n",
       "      <th>0</th>\n",
       "      <td>NaN</td>\n",
       "      <td>NaN</td>\n",
       "      <td>NaN</td>\n",
       "      <td>NaN</td>\n",
       "      <td>NaN</td>\n",
       "      <td>NaN</td>\n",
       "      <td>NaN</td>\n",
       "      <td>NaN</td>\n",
       "      <td>NaN</td>\n",
       "      <td>NaN</td>\n",
       "      <td>...</td>\n",
       "      <td>NaN</td>\n",
       "      <td>NaN</td>\n",
       "      <td>NaN</td>\n",
       "      <td>NaN</td>\n",
       "      <td>NaN</td>\n",
       "      <td>NaN</td>\n",
       "      <td>NaN</td>\n",
       "      <td>NaN</td>\n",
       "      <td>NaN</td>\n",
       "      <td>NaN</td>\n",
       "    </tr>\n",
       "    <tr>\n",
       "      <th>1</th>\n",
       "      <td>NaN</td>\n",
       "      <td>NaN</td>\n",
       "      <td>NaN</td>\n",
       "      <td>NaN</td>\n",
       "      <td>NaN</td>\n",
       "      <td>NaN</td>\n",
       "      <td>NaN</td>\n",
       "      <td>NaN</td>\n",
       "      <td>NaN</td>\n",
       "      <td>NaN</td>\n",
       "      <td>...</td>\n",
       "      <td>NaN</td>\n",
       "      <td>NaN</td>\n",
       "      <td>NaN</td>\n",
       "      <td>NaN</td>\n",
       "      <td>NaN</td>\n",
       "      <td>NaN</td>\n",
       "      <td>NaN</td>\n",
       "      <td>NaN</td>\n",
       "      <td>NaN</td>\n",
       "      <td>NaN</td>\n",
       "    </tr>\n",
       "    <tr>\n",
       "      <th>2</th>\n",
       "      <td>NaN</td>\n",
       "      <td>NaN</td>\n",
       "      <td>NaN</td>\n",
       "      <td>NaN</td>\n",
       "      <td>NaN</td>\n",
       "      <td>NaN</td>\n",
       "      <td>NaN</td>\n",
       "      <td>NaN</td>\n",
       "      <td>NaN</td>\n",
       "      <td>NaN</td>\n",
       "      <td>...</td>\n",
       "      <td>NaN</td>\n",
       "      <td>NaN</td>\n",
       "      <td>NaN</td>\n",
       "      <td>NaN</td>\n",
       "      <td>NaN</td>\n",
       "      <td>NaN</td>\n",
       "      <td>NaN</td>\n",
       "      <td>NaN</td>\n",
       "      <td>NaN</td>\n",
       "      <td>NaN</td>\n",
       "    </tr>\n",
       "    <tr>\n",
       "      <th>3</th>\n",
       "      <td>NaN</td>\n",
       "      <td>NaN</td>\n",
       "      <td>NaN</td>\n",
       "      <td>NaN</td>\n",
       "      <td>NaN</td>\n",
       "      <td>NaN</td>\n",
       "      <td>NaN</td>\n",
       "      <td>NaN</td>\n",
       "      <td>NaN</td>\n",
       "      <td>NaN</td>\n",
       "      <td>...</td>\n",
       "      <td>NaN</td>\n",
       "      <td>NaN</td>\n",
       "      <td>NaN</td>\n",
       "      <td>NaN</td>\n",
       "      <td>NaN</td>\n",
       "      <td>NaN</td>\n",
       "      <td>NaN</td>\n",
       "      <td>NaN</td>\n",
       "      <td>NaN</td>\n",
       "      <td>NaN</td>\n",
       "    </tr>\n",
       "    <tr>\n",
       "      <th>4</th>\n",
       "      <td>NaN</td>\n",
       "      <td>NaN</td>\n",
       "      <td>NaN</td>\n",
       "      <td>NaN</td>\n",
       "      <td>NaN</td>\n",
       "      <td>NaN</td>\n",
       "      <td>NaN</td>\n",
       "      <td>NaN</td>\n",
       "      <td>NaN</td>\n",
       "      <td>NaN</td>\n",
       "      <td>...</td>\n",
       "      <td>NaN</td>\n",
       "      <td>NaN</td>\n",
       "      <td>NaN</td>\n",
       "      <td>NaN</td>\n",
       "      <td>NaN</td>\n",
       "      <td>NaN</td>\n",
       "      <td>NaN</td>\n",
       "      <td>NaN</td>\n",
       "      <td>NaN</td>\n",
       "      <td>NaN</td>\n",
       "    </tr>\n",
       "    <tr>\n",
       "      <th>...</th>\n",
       "      <td>...</td>\n",
       "      <td>...</td>\n",
       "      <td>...</td>\n",
       "      <td>...</td>\n",
       "      <td>...</td>\n",
       "      <td>...</td>\n",
       "      <td>...</td>\n",
       "      <td>...</td>\n",
       "      <td>...</td>\n",
       "      <td>...</td>\n",
       "      <td>...</td>\n",
       "      <td>...</td>\n",
       "      <td>...</td>\n",
       "      <td>...</td>\n",
       "      <td>...</td>\n",
       "      <td>...</td>\n",
       "      <td>...</td>\n",
       "      <td>...</td>\n",
       "      <td>...</td>\n",
       "      <td>...</td>\n",
       "      <td>...</td>\n",
       "    </tr>\n",
       "    <tr>\n",
       "      <th>1469</th>\n",
       "      <td>NaN</td>\n",
       "      <td>NaN</td>\n",
       "      <td>NaN</td>\n",
       "      <td>NaN</td>\n",
       "      <td>NaN</td>\n",
       "      <td>NaN</td>\n",
       "      <td>NaN</td>\n",
       "      <td>NaN</td>\n",
       "      <td>NaN</td>\n",
       "      <td>NaN</td>\n",
       "      <td>...</td>\n",
       "      <td>NaN</td>\n",
       "      <td>NaN</td>\n",
       "      <td>NaN</td>\n",
       "      <td>NaN</td>\n",
       "      <td>NaN</td>\n",
       "      <td>NaN</td>\n",
       "      <td>NaN</td>\n",
       "      <td>NaN</td>\n",
       "      <td>NaN</td>\n",
       "      <td>NaN</td>\n",
       "    </tr>\n",
       "    <tr>\n",
       "      <th>1470</th>\n",
       "      <td>0.002586</td>\n",
       "      <td>0.026140</td>\n",
       "      <td>0.024114</td>\n",
       "      <td>0.015401</td>\n",
       "      <td>0.072028</td>\n",
       "      <td>0.19497</td>\n",
       "      <td>0.067662</td>\n",
       "      <td>0.002747</td>\n",
       "      <td>0.051086</td>\n",
       "      <td>0.18571</td>\n",
       "      <td>...</td>\n",
       "      <td>0.06816</td>\n",
       "      <td>0.023893</td>\n",
       "      <td>0.015431</td>\n",
       "      <td>0.063414</td>\n",
       "      <td>0.081292</td>\n",
       "      <td>0.078235</td>\n",
       "      <td>0.054562</td>\n",
       "      <td>0.080643</td>\n",
       "      <td>0.047916</td>\n",
       "      <td>0.015823</td>\n",
       "    </tr>\n",
       "    <tr>\n",
       "      <th>1471</th>\n",
       "      <td>NaN</td>\n",
       "      <td>NaN</td>\n",
       "      <td>NaN</td>\n",
       "      <td>NaN</td>\n",
       "      <td>NaN</td>\n",
       "      <td>NaN</td>\n",
       "      <td>NaN</td>\n",
       "      <td>NaN</td>\n",
       "      <td>NaN</td>\n",
       "      <td>NaN</td>\n",
       "      <td>...</td>\n",
       "      <td>NaN</td>\n",
       "      <td>NaN</td>\n",
       "      <td>NaN</td>\n",
       "      <td>NaN</td>\n",
       "      <td>NaN</td>\n",
       "      <td>NaN</td>\n",
       "      <td>NaN</td>\n",
       "      <td>NaN</td>\n",
       "      <td>NaN</td>\n",
       "      <td>NaN</td>\n",
       "    </tr>\n",
       "    <tr>\n",
       "      <th>1472</th>\n",
       "      <td>NaN</td>\n",
       "      <td>NaN</td>\n",
       "      <td>NaN</td>\n",
       "      <td>NaN</td>\n",
       "      <td>NaN</td>\n",
       "      <td>NaN</td>\n",
       "      <td>NaN</td>\n",
       "      <td>NaN</td>\n",
       "      <td>NaN</td>\n",
       "      <td>NaN</td>\n",
       "      <td>...</td>\n",
       "      <td>NaN</td>\n",
       "      <td>NaN</td>\n",
       "      <td>NaN</td>\n",
       "      <td>NaN</td>\n",
       "      <td>NaN</td>\n",
       "      <td>NaN</td>\n",
       "      <td>NaN</td>\n",
       "      <td>NaN</td>\n",
       "      <td>NaN</td>\n",
       "      <td>NaN</td>\n",
       "    </tr>\n",
       "    <tr>\n",
       "      <th>1473</th>\n",
       "      <td>0.010106</td>\n",
       "      <td>0.002967</td>\n",
       "      <td>0.029339</td>\n",
       "      <td>0.026014</td>\n",
       "      <td>0.096916</td>\n",
       "      <td>0.18804</td>\n",
       "      <td>0.036649</td>\n",
       "      <td>0.009920</td>\n",
       "      <td>0.092854</td>\n",
       "      <td>0.21914</td>\n",
       "      <td>...</td>\n",
       "      <td>0.10848</td>\n",
       "      <td>0.029358</td>\n",
       "      <td>0.013349</td>\n",
       "      <td>0.038101</td>\n",
       "      <td>0.058742</td>\n",
       "      <td>0.037894</td>\n",
       "      <td>0.079986</td>\n",
       "      <td>0.123180</td>\n",
       "      <td>0.034318</td>\n",
       "      <td>0.020230</td>\n",
       "    </tr>\n",
       "  </tbody>\n",
       "</table>\n",
       "<p>1474 rows × 512 columns</p>\n",
       "</div>"
      ],
      "text/plain": [
       "           0         1         2         3         4        5         6    \\\n",
       "0          NaN       NaN       NaN       NaN       NaN      NaN       NaN   \n",
       "1          NaN       NaN       NaN       NaN       NaN      NaN       NaN   \n",
       "2          NaN       NaN       NaN       NaN       NaN      NaN       NaN   \n",
       "3          NaN       NaN       NaN       NaN       NaN      NaN       NaN   \n",
       "4          NaN       NaN       NaN       NaN       NaN      NaN       NaN   \n",
       "...        ...       ...       ...       ...       ...      ...       ...   \n",
       "1469       NaN       NaN       NaN       NaN       NaN      NaN       NaN   \n",
       "1470  0.002586  0.026140  0.024114  0.015401  0.072028  0.19497  0.067662   \n",
       "1471       NaN       NaN       NaN       NaN       NaN      NaN       NaN   \n",
       "1472       NaN       NaN       NaN       NaN       NaN      NaN       NaN   \n",
       "1473  0.010106  0.002967  0.029339  0.026014  0.096916  0.18804  0.036649   \n",
       "\n",
       "           7         8        9    ...      502       503       504       505  \\\n",
       "0          NaN       NaN      NaN  ...      NaN       NaN       NaN       NaN   \n",
       "1          NaN       NaN      NaN  ...      NaN       NaN       NaN       NaN   \n",
       "2          NaN       NaN      NaN  ...      NaN       NaN       NaN       NaN   \n",
       "3          NaN       NaN      NaN  ...      NaN       NaN       NaN       NaN   \n",
       "4          NaN       NaN      NaN  ...      NaN       NaN       NaN       NaN   \n",
       "...        ...       ...      ...  ...      ...       ...       ...       ...   \n",
       "1469       NaN       NaN      NaN  ...      NaN       NaN       NaN       NaN   \n",
       "1470  0.002747  0.051086  0.18571  ...  0.06816  0.023893  0.015431  0.063414   \n",
       "1471       NaN       NaN      NaN  ...      NaN       NaN       NaN       NaN   \n",
       "1472       NaN       NaN      NaN  ...      NaN       NaN       NaN       NaN   \n",
       "1473  0.009920  0.092854  0.21914  ...  0.10848  0.029358  0.013349  0.038101   \n",
       "\n",
       "           506       507       508       509       510       511  \n",
       "0          NaN       NaN       NaN       NaN       NaN       NaN  \n",
       "1          NaN       NaN       NaN       NaN       NaN       NaN  \n",
       "2          NaN       NaN       NaN       NaN       NaN       NaN  \n",
       "3          NaN       NaN       NaN       NaN       NaN       NaN  \n",
       "4          NaN       NaN       NaN       NaN       NaN       NaN  \n",
       "...        ...       ...       ...       ...       ...       ...  \n",
       "1469       NaN       NaN       NaN       NaN       NaN       NaN  \n",
       "1470  0.081292  0.078235  0.054562  0.080643  0.047916  0.015823  \n",
       "1471       NaN       NaN       NaN       NaN       NaN       NaN  \n",
       "1472       NaN       NaN       NaN       NaN       NaN       NaN  \n",
       "1473  0.058742  0.037894  0.079986  0.123180  0.034318  0.020230  \n",
       "\n",
       "[1474 rows x 512 columns]"
      ]
     },
     "execution_count": 110,
     "metadata": {},
     "output_type": "execute_result"
    }
   ],
   "source": [
    "X.pop(0)\n"
   ]
  },
  {
   "cell_type": "code",
   "execution_count": 111,
   "id": "74a3e007",
   "metadata": {},
   "outputs": [
    {
     "data": {
      "text/plain": [
       "1"
      ]
     },
     "execution_count": 111,
     "metadata": {},
     "output_type": "execute_result"
    }
   ],
   "source": [
    "len(X)"
   ]
  },
  {
   "cell_type": "code",
   "execution_count": 119,
   "id": "ee6c66e0",
   "metadata": {},
   "outputs": [],
   "source": [
    "def place_no_complete(X,number_of_complete): # X[0], X[1], X[2]\n",
    "    # get length of view\n",
    "    view_tot = len(X); # 3\n",
    "    X_filled = [];\n",
    "    X_not_filled = [];\n",
    "    \n",
    "    for i in range(number_of_complete): # 2\n",
    "        X_filled.append(X[i]);\n",
    "        X.pop(i);\n",
    "    # X_filled => [V1,V2];\n",
    "    X_not_filled = X;\n",
    "    return X_filled,X_not_filled;"
   ]
  },
  {
   "cell_type": "code",
   "execution_count": 120,
   "id": "b3d777a1",
   "metadata": {},
   "outputs": [],
   "source": [
    "# Random Remove Data\n",
    "\n",
    "def random_remove_data(X,percent=10,number_of_complete = 0):\n",
    "    \"\"\" X = list of all view of data . e.g X = [V1, V2, .... ], percent = percent of data want to remove \"\"\"\n",
    "    # V1(mxn) * (Sample X feature)\n",
    "    # Find Number of sample\n",
    "    no_of_sample = len(X[0]);\n",
    "    no_of_missing = int(((no_of_sample)/100)*percent);\n",
    "    # column number\n",
    "\n",
    "    # for each view , randomly remove items\n",
    "    X_final = [];\n",
    "    if number_of_complete>0:\n",
    "        X_final,X = place_no_complete(X,number_of_complete);\n",
    "    \n",
    "    print(len(X_final));\n",
    "    print(len(X));\n",
    "    \n",
    "    for V in X: # V must be panda DataFrame\n",
    "        for i in range(no_of_missing): # 0 - no_of_missing -1\n",
    "            # Generage random number between 0 - sample number\n",
    "            col_number = len(V.iloc[0]);\n",
    "            to_remove = np.random.randint(0,no_of_sample);\n",
    "            V.iloc[to_remove] = [np.NaN for i in range(col_number)]\n",
    "        X_final.append(V);\n",
    "    return X_final;"
   ]
  },
  {
   "cell_type": "code",
   "execution_count": 126,
   "id": "7e85b39a",
   "metadata": {},
   "outputs": [
    {
     "name": "stdout",
     "output_type": "stream",
     "text": [
      "1\n",
      "1\n"
     ]
    }
   ],
   "source": [
    "X = random_remove_data([V1,V2],number_of_complete=0); # 1,1"
   ]
  },
  {
   "cell_type": "code",
   "execution_count": 127,
   "id": "b2f15ce5",
   "metadata": {},
   "outputs": [],
   "source": [
    "X[0].to_csv('missF1.csv',header=None,index=None);\n",
    "X[1].to_csv('missF2.csv',header=None,index=None);"
   ]
  },
  {
   "cell_type": "code",
   "execution_count": 86,
   "id": "654dd159",
   "metadata": {},
   "outputs": [
    {
     "data": {
      "text/plain": [
       "3522"
      ]
     },
     "execution_count": 86,
     "metadata": {},
     "output_type": "execute_result"
    }
   ],
   "source": [
    "X[0].isnull().sum().sum() # 160 x 160 x 160 "
   ]
  },
  {
   "cell_type": "code",
   "execution_count": 91,
   "id": "094b40af",
   "metadata": {},
   "outputs": [
    {
     "data": {
      "text/plain": [
       "1440"
      ]
     },
     "execution_count": 91,
     "metadata": {},
     "output_type": "execute_result"
    }
   ],
   "source": [
    "(160*3+160*3+160*3)"
   ]
  },
  {
   "cell_type": "code",
   "execution_count": 28,
   "id": "39e8ea51",
   "metadata": {},
   "outputs": [
    {
     "data": {
      "text/plain": [
       "236"
      ]
     },
     "execution_count": 28,
     "metadata": {},
     "output_type": "execute_result"
    }
   ],
   "source": [
    "np.random.randint(0,1600)"
   ]
  },
  {
   "cell_type": "code",
   "execution_count": 51,
   "id": "95c8293b",
   "metadata": {},
   "outputs": [
    {
     "data": {
      "text/plain": [
       "array([[1, 2, 3, 4, 5, 6],\n",
       "       [1, 2, 3, 4, 5, 6],\n",
       "       [1, 2, 3, 4, 5, 6]])"
      ]
     },
     "execution_count": 51,
     "metadata": {},
     "output_type": "execute_result"
    }
   ],
   "source": [
    "arr = np.array([[1,2,3,4,5,6],[1,2,3,4,5,6],[1,2,3,4,5,6]])\n",
    "arr"
   ]
  },
  {
   "cell_type": "code",
   "execution_count": 60,
   "id": "028eaec1",
   "metadata": {},
   "outputs": [
    {
     "data": {
      "text/plain": [
       "3"
      ]
     },
     "execution_count": 60,
     "metadata": {},
     "output_type": "execute_result"
    }
   ],
   "source": [
    "data.iloc[0] = [np.NaN for i in range(3)]\n",
    "data.head()\n",
    "len(data.iloc[0])"
   ]
  },
  {
   "cell_type": "code",
   "execution_count": 53,
   "id": "a426b7ec",
   "metadata": {},
   "outputs": [
    {
     "data": {
      "text/plain": [
       "array([[  1, 100,   3, 100,   5,   6],\n",
       "       [  1,   2,   3,   4,   5,   6],\n",
       "       [  1,   2,   3,   4,   5,   6]])"
      ]
     },
     "execution_count": 53,
     "metadata": {},
     "output_type": "execute_result"
    }
   ],
   "source": [
    "arr"
   ]
  },
  {
   "cell_type": "code",
   "execution_count": null,
   "id": "3e83c2c3",
   "metadata": {},
   "outputs": [],
   "source": []
  }
 ],
 "metadata": {
  "kernelspec": {
   "display_name": "Python 3 (ipykernel)",
   "language": "python",
   "name": "python3"
  },
  "language_info": {
   "codemirror_mode": {
    "name": "ipython",
    "version": 3
   },
   "file_extension": ".py",
   "mimetype": "text/x-python",
   "name": "python",
   "nbconvert_exporter": "python",
   "pygments_lexer": "ipython3",
   "version": "3.9.6"
  }
 },
 "nbformat": 4,
 "nbformat_minor": 5
}
