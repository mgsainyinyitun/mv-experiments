{
 "cells": [
  {
   "cell_type": "code",
   "execution_count": 1,
   "id": "4432c0cd",
   "metadata": {},
   "outputs": [],
   "source": [
    "# import \n",
    "import pandas as pd\n",
    "import numpy as np;"
   ]
  },
  {
   "cell_type": "code",
   "execution_count": 42,
   "id": "c87ed84b",
   "metadata": {},
   "outputs": [],
   "source": [
    "# read data\n",
    "V1 = pd.read_csv('./datasets/complete-data/Leaf100/margin.csv',header=None);\n",
    "V2 = pd.read_csv('./datasets/complete-data/Leaf100/shape.csv',header=None);\n",
    "V3 = pd.read_csv('./datasets/complete-data/Leaf100/texture.csv',header=None);\n",
    "Label = pd.read_csv('./datasets/complete-data/Leaf100/label.csv',header=None);"
   ]
  },
  {
   "cell_type": "code",
   "execution_count": 43,
   "id": "b193f58e",
   "metadata": {},
   "outputs": [
    {
     "name": "stdout",
     "output_type": "stream",
     "text": [
      "(1600, 64)\n",
      "(1600, 64)\n",
      "(1600, 64)\n",
      "(1600, 1)\n"
     ]
    }
   ],
   "source": [
    "print(V1.shape)\n",
    "print(V2.shape)\n",
    "print(V3.shape)\n",
    "print(Label.shape)"
   ]
  },
  {
   "cell_type": "code",
   "execution_count": 9,
   "id": "a2e2cce5",
   "metadata": {},
   "outputs": [
    {
     "data": {
      "text/plain": [
       "(1599, 1)"
      ]
     },
     "execution_count": 9,
     "metadata": {},
     "output_type": "execute_result"
    }
   ],
   "source": [
    "Label.shape  # 1599 x 1"
   ]
  },
  {
   "cell_type": "code",
   "execution_count": 15,
   "id": "bce6fb15",
   "metadata": {},
   "outputs": [],
   "source": [
    "# NMF\n",
    "from sklearn.decomposition import NMF;\n",
    "from sklearn.cluster import KMeans;\n",
    "from sklearn.metrics import accuracy_score;\n",
    "# V = W . H   (1599 x 64 )  = (1599 x k ) (k x 64 ) 1. cluster W\n",
    "# v = W . H    (64  x 1599 ) = (64 x k ) (k x 1599) 2. cluster H"
   ]
  },
  {
   "cell_type": "code",
   "execution_count": 44,
   "id": "ee68632e",
   "metadata": {},
   "outputs": [],
   "source": [
    "k = [2,5,6,8,10,14,20,25,30,35,40]\n",
    "km = KMeans(n_clusters=100);"
   ]
  },
  {
   "cell_type": "code",
   "execution_count": 45,
   "id": "88539bca",
   "metadata": {},
   "outputs": [
    {
     "data": {
      "text/html": [
       "<div>\n",
       "<style scoped>\n",
       "    .dataframe tbody tr th:only-of-type {\n",
       "        vertical-align: middle;\n",
       "    }\n",
       "\n",
       "    .dataframe tbody tr th {\n",
       "        vertical-align: top;\n",
       "    }\n",
       "\n",
       "    .dataframe thead th {\n",
       "        text-align: right;\n",
       "    }\n",
       "</style>\n",
       "<table border=\"1\" class=\"dataframe\">\n",
       "  <thead>\n",
       "    <tr style=\"text-align: right;\">\n",
       "      <th></th>\n",
       "      <th>0</th>\n",
       "      <th>1</th>\n",
       "      <th>2</th>\n",
       "      <th>3</th>\n",
       "      <th>4</th>\n",
       "      <th>5</th>\n",
       "      <th>6</th>\n",
       "      <th>7</th>\n",
       "      <th>8</th>\n",
       "      <th>9</th>\n",
       "      <th>...</th>\n",
       "      <th>54</th>\n",
       "      <th>55</th>\n",
       "      <th>56</th>\n",
       "      <th>57</th>\n",
       "      <th>58</th>\n",
       "      <th>59</th>\n",
       "      <th>60</th>\n",
       "      <th>61</th>\n",
       "      <th>62</th>\n",
       "      <th>63</th>\n",
       "    </tr>\n",
       "  </thead>\n",
       "  <tbody>\n",
       "    <tr>\n",
       "      <th>0</th>\n",
       "      <td>0.031771</td>\n",
       "      <td>0.014518</td>\n",
       "      <td>0.002995</td>\n",
       "      <td>0.002734</td>\n",
       "      <td>0.054297</td>\n",
       "      <td>0.000065</td>\n",
       "      <td>0.017838</td>\n",
       "      <td>0.042318</td>\n",
       "      <td>0.018034</td>\n",
       "      <td>0.007487</td>\n",
       "      <td>...</td>\n",
       "      <td>0.118100</td>\n",
       "      <td>0.0</td>\n",
       "      <td>0.012760</td>\n",
       "      <td>0.000065</td>\n",
       "      <td>0.011393</td>\n",
       "      <td>0.0</td>\n",
       "      <td>0.0</td>\n",
       "      <td>0.000391</td>\n",
       "      <td>0.0</td>\n",
       "      <td>0.017969</td>\n",
       "    </tr>\n",
       "    <tr>\n",
       "      <th>1</th>\n",
       "      <td>0.025391</td>\n",
       "      <td>0.012695</td>\n",
       "      <td>0.003906</td>\n",
       "      <td>0.004883</td>\n",
       "      <td>0.039062</td>\n",
       "      <td>0.000000</td>\n",
       "      <td>0.017578</td>\n",
       "      <td>0.035156</td>\n",
       "      <td>0.023438</td>\n",
       "      <td>0.013672</td>\n",
       "      <td>...</td>\n",
       "      <td>0.103520</td>\n",
       "      <td>0.0</td>\n",
       "      <td>0.001953</td>\n",
       "      <td>0.000977</td>\n",
       "      <td>0.022461</td>\n",
       "      <td>0.0</td>\n",
       "      <td>0.0</td>\n",
       "      <td>0.001953</td>\n",
       "      <td>0.0</td>\n",
       "      <td>0.027344</td>\n",
       "    </tr>\n",
       "    <tr>\n",
       "      <th>2</th>\n",
       "      <td>0.004883</td>\n",
       "      <td>0.018555</td>\n",
       "      <td>0.002930</td>\n",
       "      <td>0.000000</td>\n",
       "      <td>0.069336</td>\n",
       "      <td>0.000000</td>\n",
       "      <td>0.013672</td>\n",
       "      <td>0.043945</td>\n",
       "      <td>0.026367</td>\n",
       "      <td>0.000000</td>\n",
       "      <td>...</td>\n",
       "      <td>0.070312</td>\n",
       "      <td>0.0</td>\n",
       "      <td>0.017578</td>\n",
       "      <td>0.000000</td>\n",
       "      <td>0.004883</td>\n",
       "      <td>0.0</td>\n",
       "      <td>0.0</td>\n",
       "      <td>0.000000</td>\n",
       "      <td>0.0</td>\n",
       "      <td>0.002930</td>\n",
       "    </tr>\n",
       "    <tr>\n",
       "      <th>3</th>\n",
       "      <td>0.018555</td>\n",
       "      <td>0.013672</td>\n",
       "      <td>0.002930</td>\n",
       "      <td>0.002930</td>\n",
       "      <td>0.051758</td>\n",
       "      <td>0.000000</td>\n",
       "      <td>0.019531</td>\n",
       "      <td>0.035156</td>\n",
       "      <td>0.022461</td>\n",
       "      <td>0.000977</td>\n",
       "      <td>...</td>\n",
       "      <td>0.156250</td>\n",
       "      <td>0.0</td>\n",
       "      <td>0.008789</td>\n",
       "      <td>0.000000</td>\n",
       "      <td>0.001953</td>\n",
       "      <td>0.0</td>\n",
       "      <td>0.0</td>\n",
       "      <td>0.000000</td>\n",
       "      <td>0.0</td>\n",
       "      <td>0.005859</td>\n",
       "    </tr>\n",
       "    <tr>\n",
       "      <th>4</th>\n",
       "      <td>0.035156</td>\n",
       "      <td>0.023438</td>\n",
       "      <td>0.000977</td>\n",
       "      <td>0.000000</td>\n",
       "      <td>0.061523</td>\n",
       "      <td>0.000000</td>\n",
       "      <td>0.021484</td>\n",
       "      <td>0.061523</td>\n",
       "      <td>0.010742</td>\n",
       "      <td>0.001953</td>\n",
       "      <td>...</td>\n",
       "      <td>0.105470</td>\n",
       "      <td>0.0</td>\n",
       "      <td>0.026367</td>\n",
       "      <td>0.000000</td>\n",
       "      <td>0.002930</td>\n",
       "      <td>0.0</td>\n",
       "      <td>0.0</td>\n",
       "      <td>0.000000</td>\n",
       "      <td>0.0</td>\n",
       "      <td>0.022461</td>\n",
       "    </tr>\n",
       "  </tbody>\n",
       "</table>\n",
       "<p>5 rows × 64 columns</p>\n",
       "</div>"
      ],
      "text/plain": [
       "         0         1         2         3         4         5         6   \\\n",
       "0  0.031771  0.014518  0.002995  0.002734  0.054297  0.000065  0.017838   \n",
       "1  0.025391  0.012695  0.003906  0.004883  0.039062  0.000000  0.017578   \n",
       "2  0.004883  0.018555  0.002930  0.000000  0.069336  0.000000  0.013672   \n",
       "3  0.018555  0.013672  0.002930  0.002930  0.051758  0.000000  0.019531   \n",
       "4  0.035156  0.023438  0.000977  0.000000  0.061523  0.000000  0.021484   \n",
       "\n",
       "         7         8         9   ...        54   55        56        57  \\\n",
       "0  0.042318  0.018034  0.007487  ...  0.118100  0.0  0.012760  0.000065   \n",
       "1  0.035156  0.023438  0.013672  ...  0.103520  0.0  0.001953  0.000977   \n",
       "2  0.043945  0.026367  0.000000  ...  0.070312  0.0  0.017578  0.000000   \n",
       "3  0.035156  0.022461  0.000977  ...  0.156250  0.0  0.008789  0.000000   \n",
       "4  0.061523  0.010742  0.001953  ...  0.105470  0.0  0.026367  0.000000   \n",
       "\n",
       "         58   59   60        61   62        63  \n",
       "0  0.011393  0.0  0.0  0.000391  0.0  0.017969  \n",
       "1  0.022461  0.0  0.0  0.001953  0.0  0.027344  \n",
       "2  0.004883  0.0  0.0  0.000000  0.0  0.002930  \n",
       "3  0.001953  0.0  0.0  0.000000  0.0  0.005859  \n",
       "4  0.002930  0.0  0.0  0.000000  0.0  0.022461  \n",
       "\n",
       "[5 rows x 64 columns]"
      ]
     },
     "execution_count": 45,
     "metadata": {},
     "output_type": "execute_result"
    }
   ],
   "source": [
    "X = [V1,V2,V3]\n",
    "X[2].head()"
   ]
  },
  {
   "cell_type": "code",
   "execution_count": 19,
   "id": "6a7810e0",
   "metadata": {},
   "outputs": [
    {
     "name": "stdout",
     "output_type": "stream",
     "text": [
      "Accuracy for 2 is 0.0075046904315197 . \n",
      "Accuracy for 5 is 0.008130081300813009 . \n",
      "Accuracy for 6 is 0.004377736085053158 . \n",
      "Accuracy for 8 is 0.01876172607879925 . \n",
      "Accuracy for 10 is 0.008755472170106316 . \n",
      "Accuracy for 14 is 0.004377736085053158 . \n",
      "Accuracy for 20 is 0.011882426516572859 . \n",
      "Accuracy for 25 is 0.0150093808630394 . \n"
     ]
    }
   ],
   "source": [
    "nmf = NMF(n_components=i,init='random',max_iter=1000,random_state=0)\n",
    "W = [];\n",
    "for i in k:\n",
    "    for V in X:\n",
    "        Wt = nmf.fit_transform(V1); # 1599 x k \n",
    "        W.append(Wt) \n",
    "    # find average of all view\n",
    "    W_avg = (W[0]+W[1]+W[2])/3;\n",
    "    \n",
    "    km.fit(W);\n",
    "    y_preds = km.predict(W);\n",
    "    acc = accuracy_score(Label,y_preds);\n",
    "    print(f'Accuracy for {i} is {acc} . ')\n",
    "    "
   ]
  },
  {
   "cell_type": "code",
   "execution_count": 32,
   "id": "dc639af0",
   "metadata": {},
   "outputs": [
    {
     "name": "stdout",
     "output_type": "stream",
     "text": [
      "Accuracy for 2 is 0.0050031269543464665 .\n",
      "Accuracy for 5 is 0.0068792995622263915 .\n",
      "Accuracy for 6 is 0.009380863039399626 .\n",
      "Accuracy for 8 is 0.0050031269543464665 .\n",
      "Accuracy for 10 is 0.01876172607879925 .\n",
      "Accuracy for 14 is 0.008130081300813009 .\n",
      "Accuracy for 20 is 0.008130081300813009 .\n",
      "Accuracy for 25 is 0.0150093808630394 .\n",
      "Accuracy for 30 is 0.0025015634771732333 .\n",
      "Accuracy for 35 is 0.013133208255159476 .\n",
      "Accuracy for 40 is 0.00375234521575985 .\n"
     ]
    }
   ],
   "source": [
    "for i in k:\n",
    "    W = nmf.fit_transform(V1.T);\n",
    "    H = nmf.components_ # k x 1599\n",
    "    km.fit(H.T) # 2x1599\n",
    "    y_preds = km.predict(H.T);\n",
    "    acc = accuracy_score(Label,y_preds);\n",
    "    print(f'Accuracy for {i} is {acc} .')"
   ]
  },
  {
   "cell_type": "code",
   "execution_count": 23,
   "id": "c7800575",
   "metadata": {},
   "outputs": [],
   "source": [
    "H=nmf.components_"
   ]
  },
  {
   "cell_type": "code",
   "execution_count": 24,
   "id": "a4f69d1b",
   "metadata": {},
   "outputs": [
    {
     "data": {
      "text/plain": [
       "(2, 1599)"
      ]
     },
     "execution_count": 24,
     "metadata": {},
     "output_type": "execute_result"
    }
   ],
   "source": [
    "H.shape"
   ]
  },
  {
   "cell_type": "code",
   "execution_count": 26,
   "id": "288c85cd",
   "metadata": {},
   "outputs": [
    {
     "data": {
      "text/plain": [
       "(1599, 2)"
      ]
     },
     "execution_count": 26,
     "metadata": {},
     "output_type": "execute_result"
    }
   ],
   "source": [
    "H.T.shape"
   ]
  },
  {
   "cell_type": "code",
   "execution_count": null,
   "id": "2c5f81cb",
   "metadata": {},
   "outputs": [],
   "source": []
  }
 ],
 "metadata": {
  "kernelspec": {
   "display_name": "Python 3 (ipykernel)",
   "language": "python",
   "name": "python3"
  },
  "language_info": {
   "codemirror_mode": {
    "name": "ipython",
    "version": 3
   },
   "file_extension": ".py",
   "mimetype": "text/x-python",
   "name": "python",
   "nbconvert_exporter": "python",
   "pygments_lexer": "ipython3",
   "version": "3.9.6"
  }
 },
 "nbformat": 4,
 "nbformat_minor": 5
}
