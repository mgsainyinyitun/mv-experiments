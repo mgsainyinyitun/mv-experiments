{
 "cells": [
  {
   "cell_type": "code",
   "execution_count": 1,
   "id": "c4611c5c",
   "metadata": {},
   "outputs": [],
   "source": [
    "import pandas as pd;\n",
    "import numpy as np;\n",
    "import matplotlib.pyplot as plt;"
   ]
  },
  {
   "cell_type": "code",
   "execution_count": 88,
   "id": "439fbbdd",
   "metadata": {},
   "outputs": [],
   "source": [
    "# data sets\n",
    "V1 = pd.read_csv('./datasets/complete-data/Caltech/GISTFeature.csv')\n",
    "V2 = pd.read_csv('./datasets/complete-data/Caltech/LBPFeature.csv')\n",
    "Label = pd.read_csv('./datasets/complete-data/Caltech/label.csv');"
   ]
  },
  {
   "cell_type": "code",
   "execution_count": 87,
   "id": "eee827ce",
   "metadata": {},
   "outputs": [],
   "source": [
    "X = [V1,V2]"
   ]
  },
  {
   "cell_type": "code",
   "execution_count": 101,
   "id": "184a367b",
   "metadata": {},
   "outputs": [],
   "source": [
    "no_feature=[2,4,6,8,10,14,20,30,35,40];"
   ]
  },
  {
   "cell_type": "code",
   "execution_count": 97,
   "id": "6ccf0eb3",
   "metadata": {},
   "outputs": [
    {
     "data": {
      "text/plain": [
       "2"
      ]
     },
     "execution_count": 97,
     "metadata": {},
     "output_type": "execute_result"
    }
   ],
   "source": [
    "len(X)"
   ]
  },
  {
   "cell_type": "code",
   "execution_count": 90,
   "id": "7277d3b8",
   "metadata": {},
   "outputs": [],
   "source": [
    "# Feature Reduction with NMF\n",
    "from sklearn.decomposition import NMF\n",
    "from sklearn.cluster import KMeans\n",
    "from sklearn.metrics import accuracy_score"
   ]
  },
  {
   "cell_type": "code",
   "execution_count": 115,
   "id": "435f0d72",
   "metadata": {},
   "outputs": [
    {
     "ename": "SyntaxError",
     "evalue": "f-string: unmatched '[' (Temp/ipykernel_10248/3031762930.py, line 16)",
     "output_type": "error",
     "traceback": [
      "\u001b[1;36m  File \u001b[1;32m\"C:\\Users\\SAINYI~1\\AppData\\Local\\Temp/ipykernel_10248/3031762930.py\"\u001b[1;36m, line \u001b[1;32m16\u001b[0m\n\u001b[1;33m    print(f'Accuracy for {feature} is {accuracy_score(Label,y_pred)} and random state is{a['random_state']}')\u001b[0m\n\u001b[1;37m                                                                                            ^\u001b[0m\n\u001b[1;31mSyntaxError\u001b[0m\u001b[1;31m:\u001b[0m f-string: unmatched '['\n"
     ]
    }
   ],
   "source": [
    "Overall = [];\n",
    "W,H = [],[];\n",
    "for feature in no_feature:\n",
    "    for V in X:\n",
    "        # Create Model \n",
    "        nmf_model = NMF(n_components=feature,init='random',random_state=0,max_iter=3000);\n",
    "            # Fit Model\n",
    "        tempW = nmf_model.fit_transform(V);\n",
    "        # Append W value to W array\n",
    "        W.append(tempW);\n",
    "    # Calculate average of W \n",
    "    avg_W = (W[0]+W[1]) / 2\n",
    "    km = KMeans(n_clusters=7)\n",
    "    a = km.get_params()\n",
    "    rd = a['random_state'];\n",
    "    y_pred = km.fit_predict(avg_W)\n",
    "    print(f'Accuracy for {feature} is {accuracy_score(Label,y_pred)} and random state is {rd} .')\n",
    "    "
   ]
  },
  {
   "cell_type": "code",
   "execution_count": 114,
   "id": "07ea38a7",
   "metadata": {},
   "outputs": [
    {
     "data": {
      "text/plain": [
       "1333434"
      ]
     },
     "execution_count": 114,
     "metadata": {},
     "output_type": "execute_result"
    }
   ],
   "source": [
    "a = km.get_params()\n",
    "a['random_state']"
   ]
  },
  {
   "cell_type": "code",
   "execution_count": 72,
   "id": "17ee7117",
   "metadata": {},
   "outputs": [],
   "source": [
    "y_pred = km.fit_predict(W)"
   ]
  },
  {
   "cell_type": "code",
   "execution_count": 73,
   "id": "0e352ae7",
   "metadata": {},
   "outputs": [
    {
     "data": {
      "text/plain": [
       "(1473,)"
      ]
     },
     "execution_count": 73,
     "metadata": {},
     "output_type": "execute_result"
    }
   ],
   "source": [
    "y_pred.shape"
   ]
  }
 ],
 "metadata": {
  "kernelspec": {
   "display_name": "Python 3 (ipykernel)",
   "language": "python",
   "name": "python3"
  },
  "language_info": {
   "codemirror_mode": {
    "name": "ipython",
    "version": 3
   },
   "file_extension": ".py",
   "mimetype": "text/x-python",
   "name": "python",
   "nbconvert_exporter": "python",
   "pygments_lexer": "ipython3",
   "version": "3.9.6"
  }
 },
 "nbformat": 4,
 "nbformat_minor": 5
}
